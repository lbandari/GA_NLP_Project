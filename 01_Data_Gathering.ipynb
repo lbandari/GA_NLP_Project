{
 "cells": [
  {
   "cell_type": "markdown",
   "metadata": {},
   "source": [
    "<img src=\"http://imgur.com/1ZcRyrc.png\" style=\"float: left; margin: 20px; height: 55px\" />\n",
    "\n",
    "# # Project 3 : Web API, NLP and Classification Models"
   ]
  },
  {
   "cell_type": "markdown",
   "metadata": {},
   "source": [
    "## Task Guidelines\n",
    "\n",
    "** For project 3, the goal is two-fold:**\n",
    "\n",
    "1. Using Pushshift's API, collect posts from any two subreddits.\n",
    "2. Use NLP to train a classifier on which subreddit a given post came from. This is a binary classification problem.\n",
    "\n",
    "## Overview\n",
    "\n",
    "** As part of this project, created 3 notebooks **\n",
    "\n",
    "1. <a href=\"01_Data_Gathering.ipynb\" Title=\"Data Gathering\">01_Data_Gathering</a> - reads the API and runs in a loop with timer to get 100 submissions at a time. Used gaming section with - boardgames (1400), fallout (1600), rocketleague(1500) and destinythegame (400 rows) to use a total of 4900 rows.\n",
    "2. <a href=\"02_NLP.ipynb\" Title=\"NLP\">02_NLP</a> - notebook represents EDA and NLP processing\n",
    "3. <a href=\"03_Classification_Model.ipynb\" Title=\"Models\">03_Classification_Models</a> - Pulls the csv saved to create different classification models and get predictions with scores.\n"
   ]
  },
  {
   "cell_type": "code",
   "execution_count": 1,
   "metadata": {},
   "outputs": [],
   "source": [
    "import pandas as pd\n",
    "import requests\n",
    "import matplotlib.pyplot as plt\n",
    "import time"
   ]
  },
  {
   "cell_type": "code",
   "execution_count": 2,
   "metadata": {},
   "outputs": [],
   "source": [
    "# call only one url to test\n",
    "# url='https://api.pushshift.io/reddit/search/submission'\n",
    "\n",
    "# params = {'subreddit': 'RocketLeague',\n",
    "#           'size' : 500,\n",
    "#         } "
   ]
  },
  {
   "cell_type": "code",
   "execution_count": 3,
   "metadata": {},
   "outputs": [],
   "source": [
    "#convert the calls into a function so we can loop to get data  \n",
    "def getredditdata (num, subname, posttime):\n",
    "    \n",
    "    df = pd.DataFrame()\n",
    "    reddit_df = pd.DataFrame()\n",
    "\n",
    "    for i in range(1, num):\n",
    "        \n",
    "        url='https://api.pushshift.io/reddit/search/submission'\n",
    "        params = {'subreddit': subname,\n",
    "                  'size' : 100,\n",
    "                  'before' : posttime\n",
    "                   }\n",
    "        push_res = requests.get(url, params)\n",
    "        push_json = push_res.json()\n",
    "        time.sleep(5)\n",
    "        posts = push_json['data']\n",
    "        df = pd.DataFrame(posts)\n",
    "        time.sleep(5)\n",
    "        posttime = df['created_utc'].min()\n",
    "        dataobj = [reddit_df, df]\n",
    "        reddit_df = pd.concat(dataobj, axis=0, ignore_index=True)\n",
    "    \n",
    "        print(f'Finished pulling {100*i} records from {subname}.')\n",
    "        \n",
    "        time.sleep(45)\n",
    "    \n",
    "    return reddit_df"
   ]
  },
  {
   "cell_type": "code",
   "execution_count": 4,
   "metadata": {},
   "outputs": [
    {
     "name": "stdout",
     "output_type": "stream",
     "text": [
      "Finished pulling 100 records from boardgames.\n",
      "Finished pulling 200 records from boardgames.\n",
      "Finished pulling 300 records from boardgames.\n",
      "Finished pulling 400 records from boardgames.\n",
      "Finished pulling 500 records from boardgames.\n",
      "Finished pulling 600 records from boardgames.\n",
      "Finished pulling 700 records from boardgames.\n",
      "Finished pulling 800 records from boardgames.\n",
      "Finished pulling 900 records from boardgames.\n",
      "Finished pulling 1000 records from boardgames.\n",
      "Finished pulling 1100 records from boardgames.\n",
      "Finished pulling 1200 records from boardgames.\n",
      "Finished pulling 1300 records from boardgames.\n",
      "Finished pulling 1400 records from boardgames.\n"
     ]
    }
   ],
   "source": [
    "#call function to get boardgames reddit data for 1400 rows\n",
    "boardgames_df = getredditdata (15, 'boardgames', int(time.time()))"
   ]
  },
  {
   "cell_type": "code",
   "execution_count": 5,
   "metadata": {},
   "outputs": [
    {
     "name": "stdout",
     "output_type": "stream",
     "text": [
      "Finished pulling 100 records from Fallout.\n",
      "Finished pulling 200 records from Fallout.\n",
      "Finished pulling 300 records from Fallout.\n",
      "Finished pulling 400 records from Fallout.\n",
      "Finished pulling 500 records from Fallout.\n",
      "Finished pulling 600 records from Fallout.\n",
      "Finished pulling 700 records from Fallout.\n",
      "Finished pulling 800 records from Fallout.\n",
      "Finished pulling 900 records from Fallout.\n",
      "Finished pulling 1000 records from Fallout.\n",
      "Finished pulling 1100 records from Fallout.\n",
      "Finished pulling 1200 records from Fallout.\n",
      "Finished pulling 1300 records from Fallout.\n",
      "Finished pulling 1400 records from Fallout.\n",
      "Finished pulling 1500 records from Fallout.\n",
      "Finished pulling 1600 records from Fallout.\n"
     ]
    }
   ],
   "source": [
    "#call function to get Fallout reddit data for 1600 rows\n",
    "fallout_df = getredditdata (17, 'Fallout', int(time.time()))"
   ]
  },
  {
   "cell_type": "code",
   "execution_count": 6,
   "metadata": {},
   "outputs": [
    {
     "name": "stdout",
     "output_type": "stream",
     "text": [
      "Finished pulling 100 records from RocketLeague.\n",
      "Finished pulling 200 records from RocketLeague.\n",
      "Finished pulling 300 records from RocketLeague.\n",
      "Finished pulling 400 records from RocketLeague.\n",
      "Finished pulling 500 records from RocketLeague.\n",
      "Finished pulling 600 records from RocketLeague.\n",
      "Finished pulling 700 records from RocketLeague.\n",
      "Finished pulling 800 records from RocketLeague.\n",
      "Finished pulling 900 records from RocketLeague.\n",
      "Finished pulling 1000 records from RocketLeague.\n",
      "Finished pulling 1100 records from RocketLeague.\n",
      "Finished pulling 1200 records from RocketLeague.\n",
      "Finished pulling 1300 records from RocketLeague.\n",
      "Finished pulling 1400 records from RocketLeague.\n",
      "Finished pulling 1500 records from RocketLeague.\n"
     ]
    }
   ],
   "source": [
    "#call function to get RocketLeague reddit data for 1500 rows\n",
    "rocketleague_df = getredditdata (16, 'RocketLeague', int(time.time()))"
   ]
  },
  {
   "cell_type": "code",
   "execution_count": 7,
   "metadata": {},
   "outputs": [
    {
     "name": "stdout",
     "output_type": "stream",
     "text": [
      "Finished pulling 100 records from DestinyTheGame.\n",
      "Finished pulling 200 records from DestinyTheGame.\n",
      "Finished pulling 300 records from DestinyTheGame.\n",
      "Finished pulling 400 records from DestinyTheGame.\n"
     ]
    }
   ],
   "source": [
    "#call function to get DestinyTheGame reddit data for 400 rows\n",
    "destinygame_df = getredditdata (5, 'DestinyTheGame', int(time.time()))"
   ]
  },
  {
   "cell_type": "code",
   "execution_count": 8,
   "metadata": {},
   "outputs": [
    {
     "name": "stdout",
     "output_type": "stream",
     "text": [
      "(1400, 82)\n",
      "(1600, 70)\n",
      "(1500, 82)\n",
      "(400, 67)\n"
     ]
    }
   ],
   "source": [
    "#printing the shapes to ensure we have good mix of data\n",
    "print(boardgames_df.shape)\n",
    "print(fallout_df.shape)\n",
    "print(rocketleague_df.shape)\n",
    "print(destinygame_df.shape)"
   ]
  },
  {
   "cell_type": "code",
   "execution_count": 9,
   "metadata": {},
   "outputs": [],
   "source": [
    "# Resetting DataFrame with 3 columns for our NLP problem statement\n",
    "boardgames_df = boardgames_df[['subreddit', 'selftext', 'title']]\n",
    "fallout_df = fallout_df[['subreddit', 'selftext', 'title']]\n",
    "rocketleague_df = rocketleague_df[['subreddit', 'selftext', 'title']]\n",
    "destinygame_df = destinygame_df[['subreddit', 'selftext', 'title']]"
   ]
  },
  {
   "cell_type": "code",
   "execution_count": 10,
   "metadata": {},
   "outputs": [
    {
     "data": {
      "text/plain": [
       "subreddit    0\n",
       "selftext     3\n",
       "title        0\n",
       "dtype: int64"
      ]
     },
     "execution_count": 10,
     "metadata": {},
     "output_type": "execute_result"
    }
   ],
   "source": [
    "rocketleague_df.isnull().sum()"
   ]
  },
  {
   "cell_type": "code",
   "execution_count": 11,
   "metadata": {},
   "outputs": [
    {
     "name": "stdout",
     "output_type": "stream",
     "text": [
      "Merged all the dataframes to get 4500 records.\n"
     ]
    }
   ],
   "source": [
    "#create a dataframe for all the gaming dataframes\n",
    "full_df = pd.DataFrame()\n",
    "full_df = pd.concat([full_df, boardgames_df])\n",
    "time.sleep(30)\n",
    "full_df = pd.concat([full_df, fallout_df])\n",
    "time.sleep(30)\n",
    "full_df = pd.concat([full_df, rocketleague_df])\n",
    "print(f'Merged all the dataframes to get 4500 records.')"
   ]
  },
  {
   "cell_type": "code",
   "execution_count": 12,
   "metadata": {},
   "outputs": [
    {
     "data": {
      "text/plain": [
       "(4500, 3)"
      ]
     },
     "execution_count": 12,
     "metadata": {},
     "output_type": "execute_result"
    }
   ],
   "source": [
    "full_df.shape"
   ]
  },
  {
   "cell_type": "code",
   "execution_count": 13,
   "metadata": {},
   "outputs": [
    {
     "data": {
      "text/plain": [
       "subreddit     0\n",
       "selftext     17\n",
       "title         0\n",
       "dtype: int64"
      ]
     },
     "execution_count": 13,
     "metadata": {},
     "output_type": "execute_result"
    }
   ],
   "source": [
    "full_df.isnull().sum()"
   ]
  },
  {
   "cell_type": "code",
   "execution_count": 14,
   "metadata": {},
   "outputs": [],
   "source": [
    "full_df.to_csv('./datasets/reddit4500.csv')"
   ]
  },
  {
   "cell_type": "code",
   "execution_count": 15,
   "metadata": {},
   "outputs": [],
   "source": [
    "full_df1 = pd.concat([full_df, destinygame_df], join=\"outer\")"
   ]
  },
  {
   "cell_type": "code",
   "execution_count": 16,
   "metadata": {},
   "outputs": [],
   "source": [
    "full_df1.to_csv('./datasets/reddit4900.csv')"
   ]
  },
  {
   "cell_type": "code",
   "execution_count": 17,
   "metadata": {},
   "outputs": [
    {
     "data": {
      "text/plain": [
       "subreddit     0\n",
       "selftext     17\n",
       "title         0\n",
       "dtype: int64"
      ]
     },
     "execution_count": 17,
     "metadata": {},
     "output_type": "execute_result"
    }
   ],
   "source": [
    "full_df1.isnull().sum()"
   ]
  },
  {
   "cell_type": "markdown",
   "metadata": {},
   "source": [
    "### Summary:\n",
    "\n",
    "1. As part of the gathering process, brought in 3 sub reddit posts - boardgames, Fallout and RocketLeague. Used the 4th category to see if it has a big difference in the model accuracy. \n",
    "2. Decided to go with 3 categories after quick evaluation\n",
    "3. 4500 records have been gathered for the NLP and Model predictions."
   ]
  },
  {
   "cell_type": "markdown",
   "metadata": {},
   "source": [
    "### Next link: \n",
    "Please navigate to <a href=\"02_NLP.ipynb\" title=\"NLP Notebook\">NLP Notebook</a>"
   ]
  },
  {
   "cell_type": "code",
   "execution_count": null,
   "metadata": {},
   "outputs": [],
   "source": []
  }
 ],
 "metadata": {
  "kernelspec": {
   "display_name": "Python 3",
   "language": "python",
   "name": "python3"
  },
  "language_info": {
   "codemirror_mode": {
    "name": "ipython",
    "version": 3
   },
   "file_extension": ".py",
   "mimetype": "text/x-python",
   "name": "python",
   "nbconvert_exporter": "python",
   "pygments_lexer": "ipython3",
   "version": "3.8.5"
  }
 },
 "nbformat": 4,
 "nbformat_minor": 4
}
