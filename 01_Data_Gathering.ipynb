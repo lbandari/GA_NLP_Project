{
 "cells": [
  {
   "cell_type": "markdown",
   "metadata": {},
   "source": [
    "<img src=\"http://imgur.com/1ZcRyrc.png\" style=\"float: left; margin: 20px; height: 55px\" />\n",
    "\n",
    "# # Project 3 : Web API and NLP"
   ]
  },
  {
   "cell_type": "markdown",
   "metadata": {},
   "source": [
    "## Task\n",
    "\n",
    "**For project 3, the goal is two-fold:\n",
    "\n",
    "1. Using Pushshift's API, collect posts from any two subreddits.\n",
    "2. Use NLP to train a classifier on which subreddit a given post came from. This is a binary classification problem.\n",
    "\n",
    "## Overview\n",
    "\n",
    "- As part of this project, there are 3 notebooks used.-\n",
    "\n",
    "1. 01_Data_Gahering - reads the API and runs in a loop with timer to get 100 submissions at a time. We have used gaming section with - boardgames (1400), fallout (1600), rocketleague(1500) and destinythegame (400 rows)\n",
    "2. 02_NLP - notebook represents EDA and processing for NLP \n",
    "3. 03_Classification_Models - Pulls the csv saved to create different classification models.\n"
   ]
  },
  {
   "cell_type": "code",
   "execution_count": 131,
   "metadata": {},
   "outputs": [],
   "source": [
    "import pandas as pd\n",
    "import requests\n",
    "import matplotlib.pyplot as plt\n",
    "\n",
    "from sklearn.model_selection import train_test_split, GridSearchCV\n",
    "from sklearn.pipeline import Pipeline\n",
    "from sklearn.naive_bayes import MultinomialNB, BernoulliNB\n",
    "from sklearn.metrics import confusion_matrix, ConfusionMatrixDisplay\n",
    "from sklearn.feature_extraction.text import CountVectorizer, TfidfVectorizer\n",
    "\n",
    "import time\n",
    "import "
   ]
  },
  {
   "cell_type": "code",
   "execution_count": null,
   "metadata": {},
   "outputs": [],
   "source": [
    "# call only one url to test\n",
    "# url='https://api.pushshift.io/reddit/search/submission'\n",
    "\n",
    "# params = {'subreddit': 'RocketLeague',\n",
    "#           'size' : 500,\n",
    "#           'before' : 1616995470 #for df 10\n",
    "# #           1616995474 - df9\n",
    "# #           1616996022 - df8\n",
    "# #           1616996109 - df7\n",
    "#          } "
   ]
  },
  {
   "cell_type": "code",
   "execution_count": 177,
   "metadata": {},
   "outputs": [],
   "source": [
    "#convert the calls into a function so we can loop to get data  \n",
    "def getredditdata (num, subname, posttime):\n",
    "    \n",
    "    df = pd.DataFrame()\n",
    "    reddit_df = pd.DataFrame()\n",
    "\n",
    "    for i in range(1, num):\n",
    "        \n",
    "        url='https://api.pushshift.io/reddit/search/submission'\n",
    "        params = {'subreddit': subname,\n",
    "                  'size' : 100,\n",
    "                  'before' : posttime\n",
    "                   }\n",
    "        push_res = requests.get(url, params)\n",
    "        push_json = push_res.json()\n",
    "        time.sleep(5)\n",
    "        posts = push_json['data']\n",
    "        df = pd.DataFrame(posts)\n",
    "        time.sleep(5)\n",
    "        posttime = df['created_utc'].min()\n",
    "        dataobj = [reddit_df, df]\n",
    "        reddit_df = pd.concat(dataobj, axis=0, ignore_index=True)\n",
    "    \n",
    "        print(f'Finished pulling {100*i} records from {subname}.')\n",
    "        \n",
    "        time.sleep(45)\n",
    "    \n",
    "    return reddit_df"
   ]
  },
  {
   "cell_type": "code",
   "execution_count": 178,
   "metadata": {},
   "outputs": [
    {
     "name": "stdout",
     "output_type": "stream",
     "text": [
      "Finished pulling 100 records from boardgames.\n",
      "Finished pulling 200 records from boardgames.\n",
      "Finished pulling 300 records from boardgames.\n",
      "Finished pulling 400 records from boardgames.\n",
      "Finished pulling 500 records from boardgames.\n",
      "Finished pulling 600 records from boardgames.\n",
      "Finished pulling 700 records from boardgames.\n",
      "Finished pulling 800 records from boardgames.\n",
      "Finished pulling 900 records from boardgames.\n",
      "Finished pulling 1000 records from boardgames.\n",
      "Finished pulling 1100 records from boardgames.\n",
      "Finished pulling 1200 records from boardgames.\n",
      "Finished pulling 1300 records from boardgames.\n",
      "Finished pulling 1400 records from boardgames.\n"
     ]
    }
   ],
   "source": [
    "#In Reddit - using boardgames to get 1400 records\n",
    "boardgames_df = getredditdata (15, 'boardgames', int(time.time()))"
   ]
  },
  {
   "cell_type": "code",
   "execution_count": 180,
   "metadata": {},
   "outputs": [
    {
     "name": "stdout",
     "output_type": "stream",
     "text": [
      "Finished pulling 100 records from Fallout.\n",
      "Finished pulling 200 records from Fallout.\n",
      "Finished pulling 300 records from Fallout.\n",
      "Finished pulling 400 records from Fallout.\n",
      "Finished pulling 500 records from Fallout.\n",
      "Finished pulling 600 records from Fallout.\n",
      "Finished pulling 700 records from Fallout.\n",
      "Finished pulling 800 records from Fallout.\n",
      "Finished pulling 900 records from Fallout.\n",
      "Finished pulling 1000 records from Fallout.\n",
      "Finished pulling 1100 records from Fallout.\n",
      "Finished pulling 1200 records from Fallout.\n",
      "Finished pulling 1300 records from Fallout.\n",
      "Finished pulling 1400 records from Fallout.\n",
      "Finished pulling 1500 records from Fallout.\n",
      "Finished pulling 1600 records from Fallout.\n"
     ]
    }
   ],
   "source": [
    "#In Reddit - using Fallout to get 1600 records\n",
    "fallout_df = getredditdata (17, 'Fallout', int(time.time()))"
   ]
  },
  {
   "cell_type": "code",
   "execution_count": 181,
   "metadata": {},
   "outputs": [
    {
     "name": "stdout",
     "output_type": "stream",
     "text": [
      "Finished pulling 100 records from RocketLeague.\n",
      "Finished pulling 200 records from RocketLeague.\n",
      "Finished pulling 300 records from RocketLeague.\n",
      "Finished pulling 400 records from RocketLeague.\n",
      "Finished pulling 500 records from RocketLeague.\n",
      "Finished pulling 600 records from RocketLeague.\n",
      "Finished pulling 700 records from RocketLeague.\n",
      "Finished pulling 800 records from RocketLeague.\n",
      "Finished pulling 900 records from RocketLeague.\n",
      "Finished pulling 1000 records from RocketLeague.\n",
      "Finished pulling 1100 records from RocketLeague.\n",
      "Finished pulling 1200 records from RocketLeague.\n",
      "Finished pulling 1300 records from RocketLeague.\n",
      "Finished pulling 1400 records from RocketLeague.\n",
      "Finished pulling 1500 records from RocketLeague.\n"
     ]
    }
   ],
   "source": [
    "#In Reddit - using RocketLeague to get 1500 records\n",
    "rocketleague_df = getredditdata (16, 'RocketLeague', int(time.time()))"
   ]
  },
  {
   "cell_type": "code",
   "execution_count": 182,
   "metadata": {},
   "outputs": [
    {
     "name": "stdout",
     "output_type": "stream",
     "text": [
      "Finished pulling 100 records from DestinyTheGame.\n",
      "Finished pulling 200 records from DestinyTheGame.\n",
      "Finished pulling 300 records from DestinyTheGame.\n",
      "Finished pulling 400 records from DestinyTheGame.\n"
     ]
    }
   ],
   "source": [
    "destinygame_df = getredditdata (5, 'DestinyTheGame', int(time.time()))"
   ]
  },
  {
   "cell_type": "code",
   "execution_count": 183,
   "metadata": {},
   "outputs": [
    {
     "name": "stdout",
     "output_type": "stream",
     "text": [
      "(1400, 82)\n",
      "(1600, 70)\n",
      "(1500, 81)\n",
      "(400, 68)\n"
     ]
    }
   ],
   "source": [
    "print(boardgames_df.shape)\n",
    "print(fallout_df.shape)\n",
    "print(rocketleague_df.shape)\n",
    "print(destinygame_df.shape)"
   ]
  },
  {
   "cell_type": "code",
   "execution_count": 184,
   "metadata": {},
   "outputs": [],
   "source": [
    "# Getting onlDataFramelftext, title, and subreddit\n",
    "boardgames_df = boardgames_df[['subreddit', 'selftext', 'title']]\n",
    "fallout_df = fallout_df[['subreddit', 'selftext', 'title']]\n",
    "rocketleague_df = rocketleague_df[['subreddit', 'selftext', 'title']]\n",
    "destinygame_df = destinygame_df[['subreddit', 'selftext', 'title']]"
   ]
  },
  {
   "cell_type": "code",
   "execution_count": 192,
   "metadata": {},
   "outputs": [
    {
     "data": {
      "text/plain": [
       "subreddit    0\n",
       "selftext     3\n",
       "title        0\n",
       "dtype: int64"
      ]
     },
     "execution_count": 192,
     "metadata": {},
     "output_type": "execute_result"
    }
   ],
   "source": [
    "rocketleague_df.isnull().sum()"
   ]
  },
  {
   "cell_type": "code",
   "execution_count": 197,
   "metadata": {},
   "outputs": [],
   "source": [
    "full_df = pd.DataFrame()\n",
    "full_df = pd.concat([full_df, boardgames_df])\n",
    "time.sleep(30)\n",
    "full_df = pd.concat([full_df, fallout_df])\n",
    "time.sleep(30)\n",
    "full_df = pd.concat([full_df, rocketleague_df])\n",
    "print(f'Merged all the dataframes to get 4500 records.')"
   ]
  },
  {
   "cell_type": "code",
   "execution_count": 198,
   "metadata": {},
   "outputs": [
    {
     "data": {
      "text/plain": [
       "(4500, 3)"
      ]
     },
     "execution_count": 198,
     "metadata": {},
     "output_type": "execute_result"
    }
   ],
   "source": [
    "full_df.shape"
   ]
  },
  {
   "cell_type": "code",
   "execution_count": 199,
   "metadata": {},
   "outputs": [
    {
     "data": {
      "text/plain": [
       "subreddit     0\n",
       "selftext     19\n",
       "title         0\n",
       "dtype: int64"
      ]
     },
     "execution_count": 199,
     "metadata": {},
     "output_type": "execute_result"
    }
   ],
   "source": [
    "full_df.isnull().sum()"
   ]
  },
  {
   "cell_type": "code",
   "execution_count": 200,
   "metadata": {},
   "outputs": [],
   "source": [
    "full_df.to_csv('./datasets/reddit4500.csv')"
   ]
  },
  {
   "cell_type": "code",
   "execution_count": 201,
   "metadata": {},
   "outputs": [],
   "source": [
    "full_df1 = pd.concat([full_df, destinygame_df], join=\"outer\")"
   ]
  },
  {
   "cell_type": "code",
   "execution_count": 202,
   "metadata": {},
   "outputs": [],
   "source": [
    "full_df1.to_csv('./datasets/reddit4900.csv')"
   ]
  },
  {
   "cell_type": "code",
   "execution_count": 203,
   "metadata": {},
   "outputs": [
    {
     "data": {
      "text/plain": [
       "subreddit     0\n",
       "selftext     20\n",
       "title         0\n",
       "dtype: int64"
      ]
     },
     "execution_count": 203,
     "metadata": {},
     "output_type": "execute_result"
    }
   ],
   "source": [
    "full_df1.isnull().sum()"
   ]
  },
  {
   "cell_type": "code",
   "execution_count": null,
   "metadata": {},
   "outputs": [],
   "source": []
  }
 ],
 "metadata": {
  "kernelspec": {
   "display_name": "Python 3",
   "language": "python",
   "name": "python3"
  },
  "language_info": {
   "codemirror_mode": {
    "name": "ipython",
    "version": 3
   },
   "file_extension": ".py",
   "mimetype": "text/x-python",
   "name": "python",
   "nbconvert_exporter": "python",
   "pygments_lexer": "ipython3",
   "version": "3.8.5"
  }
 },
 "nbformat": 4,
 "nbformat_minor": 4
}
