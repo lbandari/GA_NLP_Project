{
 "cells": [
  {
   "cell_type": "markdown",
   "metadata": {},
   "source": [
    "<img src=\"http://imgur.com/1ZcRyrc.png\" style=\"float: left; margin: 20px; height: 55px\" />\n",
    "\n",
    "# # Project 3 : Web API and NLP"
   ]
  },
  {
   "cell_type": "markdown",
   "metadata": {},
   "source": [
    "## Overview\n",
    "For project 3, your goal is two-fold:\n",
    "\n",
    "Using Pushshift's API, you'll collect posts from two subreddits of your choosing.\n",
    "You'll then use NLP to train a classifier on which subreddit a given post came from. This is a binary classification problem.\n",
    "About the API\n",
    "Pushshift's API is fairly straightforward. For example, if I want the posts from /r/boardgames, all I have to do is use the following url: https://api.pushshift.io/reddit/search/submission?subreddit=boardgames\n",
    "\n",
    "To help you get started, we have a primer video on how to use the API: https://youtu.be/AcrjEWsMi_E"
   ]
  },
  {
   "cell_type": "code",
   "execution_count": 131,
   "metadata": {},
   "outputs": [],
   "source": [
    "import pandas as pd\n",
    "import requests\n",
    "import matplotlib.pyplot as plt\n",
    "\n",
    "from sklearn.model_selection import train_test_split, GridSearchCV\n",
    "from sklearn.pipeline import Pipeline\n",
    "from sklearn.naive_bayes import MultinomialNB, BernoulliNB\n",
    "from sklearn.metrics import confusion_matrix, ConfusionMatrixDisplay\n",
    "from sklearn.feature_extraction.text import CountVectorizer, TfidfVectorizer\n",
    "\n",
    "import time"
   ]
  },
  {
   "cell_type": "code",
   "execution_count": 34,
   "metadata": {},
   "outputs": [],
   "source": [
    "# call only one url   \n",
    "url='https://api.pushshift.io/reddit/search/submission'\n",
    "\n",
    "params = {'subreddit': 'boardgames',\n",
    "          'size' : 500,\n",
    "          'before' : 1616990918\n",
    "#           1616993014 - df5\n",
    "#           1616994014 - df4\n",
    "#           1616994070 - df3\n",
    "         }\n",
    "# requests.get(url, params)"
   ]
  },
  {
   "cell_type": "code",
   "execution_count": 35,
   "metadata": {},
   "outputs": [],
   "source": [
    "#in debug dont run this code\n",
    "push_res1 = requests1.get(url, params)"
   ]
  },
  {
   "cell_type": "code",
   "execution_count": 36,
   "metadata": {},
   "outputs": [
    {
     "data": {
      "text/plain": [
       "200"
      ]
     },
     "execution_count": 36,
     "metadata": {},
     "output_type": "execute_result"
    }
   ],
   "source": [
    "push_res1.status_code"
   ]
  },
  {
   "cell_type": "code",
   "execution_count": 37,
   "metadata": {},
   "outputs": [
    {
     "data": {
      "text/plain": [
       "<function dict.keys>"
      ]
     },
     "execution_count": 37,
     "metadata": {},
     "output_type": "execute_result"
    }
   ],
   "source": [
    "push_json1 = push_res1.json()\n",
    "push_json1.keys"
   ]
  },
  {
   "cell_type": "code",
   "execution_count": 38,
   "metadata": {},
   "outputs": [
    {
     "data": {
      "text/plain": [
       "100"
      ]
     },
     "execution_count": 38,
     "metadata": {},
     "output_type": "execute_result"
    }
   ],
   "source": [
    "posts1 = push_json1['data']\n",
    "len(posts1)"
   ]
  },
  {
   "cell_type": "code",
   "execution_count": 39,
   "metadata": {},
   "outputs": [
    {
     "data": {
      "text/plain": [
       "{'all_awardings': [],\n",
       " 'allow_live_comments': False,\n",
       " 'author': 'PowFil',\n",
       " 'author_flair_css_class': None,\n",
       " 'author_flair_richtext': [],\n",
       " 'author_flair_text': None,\n",
       " 'author_flair_type': 'text',\n",
       " 'author_fullname': 't2_2udpxvb3',\n",
       " 'author_patreon_flair': False,\n",
       " 'author_premium': False,\n",
       " 'awarders': [],\n",
       " 'can_mod_post': False,\n",
       " 'contest_mode': False,\n",
       " 'created_utc': 1616990842,\n",
       " 'domain': 'self.boardgames',\n",
       " 'full_link': 'https://www.reddit.com/r/boardgames/comments/mfhcjx/for_whomever_wants_to_play_tichu_in_a_high_level/',\n",
       " 'gildings': {},\n",
       " 'id': 'mfhcjx',\n",
       " 'is_crosspostable': False,\n",
       " 'is_meta': False,\n",
       " 'is_original_content': False,\n",
       " 'is_reddit_media_domain': False,\n",
       " 'is_robot_indexable': False,\n",
       " 'is_self': True,\n",
       " 'is_video': False,\n",
       " 'link_flair_background_color': '',\n",
       " 'link_flair_richtext': [],\n",
       " 'link_flair_text_color': 'dark',\n",
       " 'link_flair_type': 'text',\n",
       " 'locked': False,\n",
       " 'media_only': False,\n",
       " 'no_follow': True,\n",
       " 'num_comments': 0,\n",
       " 'num_crossposts': 0,\n",
       " 'over_18': False,\n",
       " 'parent_whitelist_status': 'all_ads',\n",
       " 'permalink': '/r/boardgames/comments/mfhcjx/for_whomever_wants_to_play_tichu_in_a_high_level/',\n",
       " 'pinned': False,\n",
       " 'post_hint': 'self',\n",
       " 'preview': {'enabled': False,\n",
       "  'images': [{'id': 'zH5YVLeOlsLI4cPnJB1STEc1IAabGJjQ2CQ0xnJloC4',\n",
       "    'resolutions': [{'height': 60,\n",
       "      'url': 'https://external-preview.redd.it/-PxJa2qvSLd6PNwYFpJMoLGUPqgIAjuE0I47xMMsYyg.jpg?width=108&amp;crop=smart&amp;auto=webp&amp;s=2c044f9c09fb50967199d962352f3eff005cd76b',\n",
       "      'width': 108},\n",
       "     {'height': 121,\n",
       "      'url': 'https://external-preview.redd.it/-PxJa2qvSLd6PNwYFpJMoLGUPqgIAjuE0I47xMMsYyg.jpg?width=216&amp;crop=smart&amp;auto=webp&amp;s=2ca8c3baeba62055fb9cddb3bba0973cdd10e5a6',\n",
       "      'width': 216},\n",
       "     {'height': 179,\n",
       "      'url': 'https://external-preview.redd.it/-PxJa2qvSLd6PNwYFpJMoLGUPqgIAjuE0I47xMMsYyg.jpg?width=320&amp;crop=smart&amp;auto=webp&amp;s=fb6cddbb4d54c1d58ad635da3c9ca9e53ce0c9c5',\n",
       "      'width': 320},\n",
       "     {'height': 359,\n",
       "      'url': 'https://external-preview.redd.it/-PxJa2qvSLd6PNwYFpJMoLGUPqgIAjuE0I47xMMsYyg.jpg?width=640&amp;crop=smart&amp;auto=webp&amp;s=341d9099668c6ea720bcd5517ea8237ab9ff2912',\n",
       "      'width': 640}],\n",
       "    'source': {'height': 382,\n",
       "     'url': 'https://external-preview.redd.it/-PxJa2qvSLd6PNwYFpJMoLGUPqgIAjuE0I47xMMsYyg.jpg?auto=webp&amp;s=dbc8042281737addbae84b46b1854cc261ec74fa',\n",
       "     'width': 680},\n",
       "    'variants': {}}]},\n",
       " 'pwls': 6,\n",
       " 'removed_by_category': 'reddit',\n",
       " 'retrieved_on': 1616990853,\n",
       " 'score': 1,\n",
       " 'selftext': '[removed]',\n",
       " 'send_replies': True,\n",
       " 'spoiler': False,\n",
       " 'stickied': False,\n",
       " 'subreddit': 'boardgames',\n",
       " 'subreddit_id': 't5_2qmjp',\n",
       " 'subreddit_subscribers': 3374286,\n",
       " 'subreddit_type': 'public',\n",
       " 'thumbnail': 'self',\n",
       " 'title': 'For whomever wants to play tichu in a high level',\n",
       " 'total_awards_received': 0,\n",
       " 'treatment_tags': [],\n",
       " 'upvote_ratio': 1.0,\n",
       " 'url': 'https://www.reddit.com/r/boardgames/comments/mfhcjx/for_whomever_wants_to_play_tichu_in_a_high_level/',\n",
       " 'whitelist_status': 'all_ads',\n",
       " 'wls': 6}"
      ]
     },
     "execution_count": 39,
     "metadata": {},
     "output_type": "execute_result"
    }
   ],
   "source": [
    "posts1[0]"
   ]
  },
  {
   "cell_type": "code",
   "execution_count": 40,
   "metadata": {},
   "outputs": [],
   "source": [
    "# df1 = pd.DataFrame(posts1)\n",
    "# df3 = pd.DataFrame(posts1)\n",
    "# df4 = pd.DataFrame(posts1)\n",
    "# df5 = pd.DataFrame(posts1)\n",
    "df6 = pd.DataFrame(posts1)"
   ]
  },
  {
   "cell_type": "code",
   "execution_count": 44,
   "metadata": {},
   "outputs": [
    {
     "data": {
      "text/plain": [
       "(100, 81)"
      ]
     },
     "execution_count": 44,
     "metadata": {},
     "output_type": "execute_result"
    }
   ],
   "source": [
    "#boardgames - df1, df3, df4, df5, df6"
   ]
  },
  {
   "cell_type": "code",
   "execution_count": 12,
   "metadata": {},
   "outputs": [
    {
     "data": {
      "text/plain": [
       "(100, 81)"
      ]
     },
     "execution_count": 12,
     "metadata": {},
     "output_type": "execute_result"
    }
   ],
   "source": [
    "df1.shape"
   ]
  },
  {
   "cell_type": "markdown",
   "metadata": {},
   "source": [
    "df1 - 100 X 75\n",
    "\n",
    "columns: Index(['all_awardings', 'allow_live_comments', 'author',\n",
    "       'author_flair_css_class', 'author_flair_richtext', 'author_flair_text',\n",
    "       'author_flair_type', 'author_fullname', 'author_patreon_flair',\n",
    "       'author_premium', 'awarders', 'can_mod_post', 'contest_mode',\n",
    "       'created_utc', 'domain', 'full_link', 'gildings', 'id',\n",
    "       'is_crosspostable', 'is_meta', 'is_original_content',\n",
    "       'is_reddit_media_domain', 'is_robot_indexable', 'is_self', 'is_video',\n",
    "       'link_flair_background_color', 'link_flair_css_class',\n",
    "       'link_flair_richtext', 'link_flair_template_id', 'link_flair_text',\n",
    "       'link_flair_text_color', 'link_flair_type', 'locked', 'media_only',\n",
    "       'no_follow', 'num_comments', 'num_crossposts', 'over_18',\n",
    "       'parent_whitelist_status', 'permalink', 'pinned', 'pwls',\n",
    "       'removed_by_category', 'retrieved_on', 'score', 'selftext',\n",
    "       'send_replies', 'spoiler', 'stickied', 'subreddit', 'subreddit_id',\n",
    "       'subreddit_subscribers', 'subreddit_type', 'thumbnail', 'title',\n",
    "       'total_awards_received', 'treatment_tags', 'upvote_ratio', 'url',\n",
    "       'whitelist_status', 'wls', 'post_hint', 'preview', 'thumbnail_height',\n",
    "       'thumbnail_width', 'url_overridden_by_dest', 'media', 'media_embed',\n",
    "       'secure_media', 'secure_media_embed', 'author_flair_background_color',\n",
    "       'author_flair_template_id', 'author_flair_text_color',\n",
    "       'crosspost_parent', 'crosspost_parent_list'],\n",
    "      dtype='object')\n",
    "      \n",
    "      author_flair_text_color, author_flair_template_id', link_flair_css_class'\n",
    "      \n",
    "      \n",
    "      Index(['all_awardings', 'allow_live_comments', 'author',\n",
    "       'author_flair_css_class', 'author_flair_richtext',\n",
    "       'author_flair_template_id', 'author_flair_text',\n",
    "       'author_flair_text_color', 'author_flair_type', 'author_fullname',\n",
    "       'author_patreon_flair', 'author_premium', 'awarders', 'can_mod_post',\n",
    "       'contest_mode', 'created_utc', 'domain', 'full_link', 'gildings', 'id',\n",
    "       'is_crosspostable', 'is_meta', 'is_original_content',\n",
    "       'is_reddit_media_domain', 'is_robot_indexable', 'is_self', 'is_video',\n",
    "       'link_flair_background_color', 'link_flair_richtext',\n",
    "       'link_flair_template_id', 'link_flair_text', 'link_flair_text_color',\n",
    "       'link_flair_type', 'locked', 'media_only', 'no_follow', 'num_comments',\n",
    "       'num_crossposts', 'over_18', 'parent_whitelist_status', 'permalink',\n",
    "       'pinned', 'post_hint', 'preview', 'pwls', 'retrieved_on', 'score',\n",
    "       'selftext', 'send_replies', 'spoiler', 'stickied', 'subreddit',\n",
    "       'subreddit_id', 'subreddit_subscribers', 'subreddit_type', 'thumbnail',\n",
    "       'thumbnail_height', 'thumbnail_width', 'title', 'total_awards_received',\n",
    "       'treatment_tags', 'upvote_ratio', 'url', 'url_overridden_by_dest',\n",
    "       'whitelist_status', 'wls', 'removed_by_category',\n",
    "       'author_flair_background_color', 'media', 'media_embed', 'secure_media',\n",
    "       'secure_media_embed', 'poll_data'],"
   ]
  },
  {
   "cell_type": "code",
   "execution_count": 85,
   "metadata": {},
   "outputs": [],
   "source": [
    "df1 = df1[['subreddit', 'selftext', 'title']]\n",
    "df3 = df3[['subreddit', 'selftext', 'title']]\n",
    "df4 = df4[['subreddit', 'selftext', 'title']]\n",
    "df5 = df6[['subreddit', 'selftext', 'title']]\n",
    "df6 = df6[['subreddit', 'selftext', 'title']]"
   ]
  },
  {
   "cell_type": "markdown",
   "metadata": {},
   "source": [
    "### For second dataset"
   ]
  },
  {
   "cell_type": "code",
   "execution_count": 77,
   "metadata": {},
   "outputs": [],
   "source": [
    "# call only one url\n",
    "url='https://api.pushshift.io/reddit/search/submission'\n",
    "\n",
    "params = {'subreddit': 'RocketLeague',\n",
    "          'size' : 500,\n",
    "          'before' : 1616995470\n",
    "#           1616995474 - df9\n",
    "#           1616996022 - df8\n",
    "#           1616996109 - df7\n",
    "         }"
   ]
  },
  {
   "cell_type": "code",
   "execution_count": 78,
   "metadata": {},
   "outputs": [],
   "source": [
    "push_res2 = requests.get(url, params)"
   ]
  },
  {
   "cell_type": "code",
   "execution_count": 79,
   "metadata": {},
   "outputs": [
    {
     "data": {
      "text/plain": [
       "200"
      ]
     },
     "execution_count": 79,
     "metadata": {},
     "output_type": "execute_result"
    }
   ],
   "source": [
    "push_res2.status_code"
   ]
  },
  {
   "cell_type": "code",
   "execution_count": 80,
   "metadata": {},
   "outputs": [
    {
     "data": {
      "text/plain": [
       "dict_keys(['data'])"
      ]
     },
     "execution_count": 80,
     "metadata": {},
     "output_type": "execute_result"
    }
   ],
   "source": [
    "push_json2 = push_res2.json()\n",
    "push_json2.keys()"
   ]
  },
  {
   "cell_type": "code",
   "execution_count": 81,
   "metadata": {},
   "outputs": [],
   "source": [
    "posts2 = push_json2['data']"
   ]
  },
  {
   "cell_type": "code",
   "execution_count": 82,
   "metadata": {},
   "outputs": [],
   "source": [
    "# df2 = pd.DataFrame(posts2)\n",
    "# df7 = pd.DataFrame(posts2)\n",
    "# df8 = pd.DataFrame(posts2)\n",
    "# df9 = pd.DataFrame(posts2)\n",
    "df10 = pd.DataFrame(posts2)\n"
   ]
  },
  {
   "cell_type": "code",
   "execution_count": 83,
   "metadata": {},
   "outputs": [
    {
     "data": {
      "text/plain": [
       "(100, 76)"
      ]
     },
     "execution_count": 83,
     "metadata": {},
     "output_type": "execute_result"
    }
   ],
   "source": [
    "df10.shape"
   ]
  },
  {
   "cell_type": "code",
   "execution_count": 84,
   "metadata": {},
   "outputs": [
    {
     "data": {
      "text/plain": [
       "{'all_awardings': [],\n",
       " 'allow_live_comments': False,\n",
       " 'author': 'BagsOfDust',\n",
       " 'author_flair_css_class': None,\n",
       " 'author_flair_richtext': [],\n",
       " 'author_flair_text': None,\n",
       " 'author_flair_type': 'text',\n",
       " 'author_fullname': 't2_13jkrn',\n",
       " 'author_patreon_flair': False,\n",
       " 'author_premium': False,\n",
       " 'awarders': [],\n",
       " 'can_mod_post': False,\n",
       " 'contest_mode': False,\n",
       " 'created_utc': 1616995323,\n",
       " 'domain': '/r/RocketLeague/comments/mfiex2/my_first_airdribble_pinch/',\n",
       " 'full_link': 'https://www.reddit.com/r/RocketLeague/comments/mfiex2/my_first_airdribble_pinch/',\n",
       " 'gildings': {},\n",
       " 'id': 'mfiex2',\n",
       " 'is_crosspostable': True,\n",
       " 'is_meta': False,\n",
       " 'is_original_content': False,\n",
       " 'is_reddit_media_domain': False,\n",
       " 'is_robot_indexable': True,\n",
       " 'is_self': False,\n",
       " 'is_video': True,\n",
       " 'link_flair_background_color': '#838d94',\n",
       " 'link_flair_richtext': [{'a': ':Highlight:',\n",
       "   'e': 'emoji',\n",
       "   'u': 'https://emoji.redditmedia.com/j4p5p2nv4qf61_t5_30cz1/Highlight'},\n",
       "  {'e': 'text', 't': ' HIGHLIGHT'}],\n",
       " 'link_flair_template_id': 'ef28d746-9a80-11e9-8c0b-0e0a3cabc740',\n",
       " 'link_flair_text': ':Highlight: HIGHLIGHT',\n",
       " 'link_flair_text_color': 'light',\n",
       " 'link_flair_type': 'richtext',\n",
       " 'locked': False,\n",
       " 'media_only': False,\n",
       " 'no_follow': True,\n",
       " 'num_comments': 1,\n",
       " 'num_crossposts': 0,\n",
       " 'over_18': False,\n",
       " 'parent_whitelist_status': 'all_ads',\n",
       " 'permalink': '/r/RocketLeague/comments/mfiex2/my_first_airdribble_pinch/',\n",
       " 'pinned': False,\n",
       " 'post_hint': 'hosted:video',\n",
       " 'preview': {'enabled': False,\n",
       "  'images': [{'id': 'ujyKNb6AsYufrFB7mnAiBNcfhNIuRQElQpSprTOBHWY',\n",
       "    'resolutions': [{'height': 60,\n",
       "      'url': 'https://external-preview.redd.it/2z9xjudAEweYLDjCwSUoQGJ_4948AFuMAXnYhu-Cc64.png?width=108&amp;crop=smart&amp;format=pjpg&amp;auto=webp&amp;s=6ab72c5a48e18bfb8db683c80514f55746366c66',\n",
       "      'width': 108},\n",
       "     {'height': 121,\n",
       "      'url': 'https://external-preview.redd.it/2z9xjudAEweYLDjCwSUoQGJ_4948AFuMAXnYhu-Cc64.png?width=216&amp;crop=smart&amp;format=pjpg&amp;auto=webp&amp;s=4233f83b773aa85f10f128196dbc0639a0e3cb7c',\n",
       "      'width': 216},\n",
       "     {'height': 180,\n",
       "      'url': 'https://external-preview.redd.it/2z9xjudAEweYLDjCwSUoQGJ_4948AFuMAXnYhu-Cc64.png?width=320&amp;crop=smart&amp;format=pjpg&amp;auto=webp&amp;s=9451f9b89c272fcc79168cb8a11b3db12dec0106',\n",
       "      'width': 320},\n",
       "     {'height': 360,\n",
       "      'url': 'https://external-preview.redd.it/2z9xjudAEweYLDjCwSUoQGJ_4948AFuMAXnYhu-Cc64.png?width=640&amp;crop=smart&amp;format=pjpg&amp;auto=webp&amp;s=f5b5d2c573af012ae9e4a7755976a5054c8b03ff',\n",
       "      'width': 640},\n",
       "     {'height': 540,\n",
       "      'url': 'https://external-preview.redd.it/2z9xjudAEweYLDjCwSUoQGJ_4948AFuMAXnYhu-Cc64.png?width=960&amp;crop=smart&amp;format=pjpg&amp;auto=webp&amp;s=003bf4a67972f666f9f1731024ba9785107ed16a',\n",
       "      'width': 960},\n",
       "     {'height': 607,\n",
       "      'url': 'https://external-preview.redd.it/2z9xjudAEweYLDjCwSUoQGJ_4948AFuMAXnYhu-Cc64.png?width=1080&amp;crop=smart&amp;format=pjpg&amp;auto=webp&amp;s=85421b2663fcfe8f745e72f4d57d33d7c8dc63b8',\n",
       "      'width': 1080}],\n",
       "    'source': {'height': 720,\n",
       "     'url': 'https://external-preview.redd.it/2z9xjudAEweYLDjCwSUoQGJ_4948AFuMAXnYhu-Cc64.png?format=pjpg&amp;auto=webp&amp;s=420b76c508e63d8de3ddb5a5b9e78ce386f15e80',\n",
       "     'width': 1280},\n",
       "    'variants': {}}]},\n",
       " 'pwls': 6,\n",
       " 'retrieved_on': 1616995334,\n",
       " 'score': 1,\n",
       " 'selftext': '',\n",
       " 'send_replies': True,\n",
       " 'spoiler': False,\n",
       " 'stickied': False,\n",
       " 'subreddit': 'RocketLeague',\n",
       " 'subreddit_id': 't5_30cz1',\n",
       " 'subreddit_subscribers': 953874,\n",
       " 'subreddit_type': 'public',\n",
       " 'thumbnail': 'https://a.thumbs.redditmedia.com/Qt6YgVf1ISi1qOqAHlmR6IffU8Yzsx8zos0aDlyVWv4.jpg',\n",
       " 'thumbnail_height': 78,\n",
       " 'thumbnail_width': 140,\n",
       " 'title': 'My first air-dribble pinch!',\n",
       " 'total_awards_received': 0,\n",
       " 'treatment_tags': [],\n",
       " 'upvote_ratio': 1.0,\n",
       " 'url': 'https://v.redd.it/n33b4zqljwp61',\n",
       " 'url_overridden_by_dest': 'https://v.redd.it/n33b4zqljwp61',\n",
       " 'whitelist_status': 'all_ads',\n",
       " 'wls': 6}"
      ]
     },
     "execution_count": 84,
     "metadata": {},
     "output_type": "execute_result"
    }
   ],
   "source": [
    "posts2[0]"
   ]
  },
  {
   "cell_type": "code",
   "execution_count": 86,
   "metadata": {},
   "outputs": [],
   "source": [
    "df2 = df2[['subreddit', 'selftext', 'title']]\n",
    "df7 = df7[['subreddit', 'selftext', 'title']]\n",
    "df8 = df8[['subreddit', 'selftext', 'title']]\n",
    "df9 = df9[['subreddit', 'selftext', 'title']]\n",
    "df10 = df10[['subreddit', 'selftext', 'title']]"
   ]
  },
  {
   "cell_type": "code",
   "execution_count": 95,
   "metadata": {},
   "outputs": [],
   "source": [
    "df11 = pd.concat([df11, df10], join=\"outer\")"
   ]
  },
  {
   "cell_type": "code",
   "execution_count": 96,
   "metadata": {},
   "outputs": [
    {
     "data": {
      "text/plain": [
       "(1000, 3)"
      ]
     },
     "execution_count": 96,
     "metadata": {},
     "output_type": "execute_result"
    }
   ],
   "source": [
    "df11.shape"
   ]
  },
  {
   "cell_type": "code",
   "execution_count": 100,
   "metadata": {},
   "outputs": [],
   "source": [
    "df11.to_csv('reddit1000.csv')"
   ]
  },
  {
   "cell_type": "markdown",
   "metadata": {},
   "source": [
    "## Part2: Run from here"
   ]
  },
  {
   "cell_type": "code",
   "execution_count": 101,
   "metadata": {},
   "outputs": [],
   "source": [
    "df = df11.copy()"
   ]
  },
  {
   "cell_type": "code",
   "execution_count": 102,
   "metadata": {},
   "outputs": [
    {
     "data": {
      "text/html": [
       "<div>\n",
       "<style scoped>\n",
       "    .dataframe tbody tr th:only-of-type {\n",
       "        vertical-align: middle;\n",
       "    }\n",
       "\n",
       "    .dataframe tbody tr th {\n",
       "        vertical-align: top;\n",
       "    }\n",
       "\n",
       "    .dataframe thead th {\n",
       "        text-align: right;\n",
       "    }\n",
       "</style>\n",
       "<table border=\"1\" class=\"dataframe\">\n",
       "  <thead>\n",
       "    <tr style=\"text-align: right;\">\n",
       "      <th></th>\n",
       "      <th>count</th>\n",
       "      <th>unique</th>\n",
       "      <th>top</th>\n",
       "      <th>freq</th>\n",
       "    </tr>\n",
       "  </thead>\n",
       "  <tbody>\n",
       "    <tr>\n",
       "      <th>subreddit</th>\n",
       "      <td>1000</td>\n",
       "      <td>2</td>\n",
       "      <td>boardgames</td>\n",
       "      <td>500</td>\n",
       "    </tr>\n",
       "    <tr>\n",
       "      <th>selftext</th>\n",
       "      <td>1000</td>\n",
       "      <td>102</td>\n",
       "      <td></td>\n",
       "      <td>414</td>\n",
       "    </tr>\n",
       "    <tr>\n",
       "      <th>title</th>\n",
       "      <td>1000</td>\n",
       "      <td>208</td>\n",
       "      <td>[COMC] It all started with Legends of Andor...</td>\n",
       "      <td>5</td>\n",
       "    </tr>\n",
       "  </tbody>\n",
       "</table>\n",
       "</div>"
      ],
      "text/plain": [
       "          count unique                                             top freq\n",
       "subreddit  1000      2                                      boardgames  500\n",
       "selftext   1000    102                                                  414\n",
       "title      1000    208  [COMC] It all started with Legends of Andor...    5"
      ]
     },
     "execution_count": 102,
     "metadata": {},
     "output_type": "execute_result"
    }
   ],
   "source": [
    "df.describe().T"
   ]
  },
  {
   "cell_type": "markdown",
   "metadata": {},
   "source": [
    "## Part3: Modeling\n",
    "\n",
    "Please refer to Ames Presentation.pdf for the final presentation.\n"
   ]
  },
  {
   "cell_type": "code",
   "execution_count": 103,
   "metadata": {},
   "outputs": [],
   "source": [
    "from sklearn.naive_bayes import BernoulliNB"
   ]
  },
  {
   "cell_type": "code",
   "execution_count": 104,
   "metadata": {},
   "outputs": [],
   "source": [
    "from sklearn.feature_extraction.text import CountVectorizer, TfidfVectorizer\n",
    "\n",
    "X = df['selftext']\n",
    "y = df['subreddit']\n",
    "cvec = CountVectorizer(stop_words='english', \n",
    "                       ngram_range=(2,2),\n",
    "                       min_df=2\n",
    "                      )"
   ]
  },
  {
   "cell_type": "code",
   "execution_count": 105,
   "metadata": {},
   "outputs": [],
   "source": [
    "cvec.fit(X)\n",
    "\n",
    "trans_x = cvec.transform(X)\n",
    "\n",
    "trans_df = pd.DataFrame(trans_x.todense(), columns = cvec.get_feature_names())"
   ]
  },
  {
   "cell_type": "code",
   "execution_count": 106,
   "metadata": {},
   "outputs": [
    {
     "data": {
      "text/plain": [
       "https www              750\n",
       "com projects           700\n",
       "ref kicktraq           645\n",
       "kickstarter com        500\n",
       "www kickstarter        500\n",
       "boardgamegeek com      355\n",
       "https boardgamegeek    350\n",
       "com boardgame          345\n",
       "000 far                270\n",
       "bgg https              265\n",
       "card game              215\n",
       "www kicktraq           205\n",
       "kicktraq com           205\n",
       "kicktraq https         200\n",
       "kicktraq bgg           145\n",
       "dtype: int64"
      ]
     },
     "execution_count": 106,
     "metadata": {},
     "output_type": "execute_result"
    }
   ],
   "source": [
    "trans_df.sum().sort_values(ascending=False).head(15)\n"
   ]
  },
  {
   "cell_type": "code",
   "execution_count": 107,
   "metadata": {},
   "outputs": [
    {
     "data": {
      "text/plain": [
       "(1000, 7159)"
      ]
     },
     "execution_count": 107,
     "metadata": {},
     "output_type": "execute_result"
    }
   ],
   "source": [
    "trans_df.shape"
   ]
  },
  {
   "cell_type": "code",
   "execution_count": 108,
   "metadata": {},
   "outputs": [],
   "source": [
    "from sklearn.linear_model import LogisticRegression"
   ]
  },
  {
   "cell_type": "code",
   "execution_count": 109,
   "metadata": {},
   "outputs": [
    {
     "data": {
      "text/plain": [
       "boardgames      500\n",
       "RocketLeague    500\n",
       "Name: subreddit, dtype: int64"
      ]
     },
     "execution_count": 109,
     "metadata": {},
     "output_type": "execute_result"
    }
   ],
   "source": [
    "y.value_counts()"
   ]
  },
  {
   "cell_type": "code",
   "execution_count": 121,
   "metadata": {},
   "outputs": [],
   "source": [
    "\n",
    "X = df['selftext']\n",
    "y = df['subreddit']\n",
    "\n",
    "X_train, X_test, y_train, y_test=train_test_split(X,\n",
    "                                                 y,\n",
    "                                                 test_size=.25,\n",
    "                                                 stratify=y,\n",
    "                                                 random_state=42)\n",
    "  "
   ]
  },
  {
   "cell_type": "code",
   "execution_count": 111,
   "metadata": {},
   "outputs": [],
   "source": [
    "cvec.fit(X_train)\n",
    "X_train = cvec.transform(X_train)"
   ]
  },
  {
   "cell_type": "code",
   "execution_count": 112,
   "metadata": {},
   "outputs": [],
   "source": [
    "X_test = cvec.transform(X_test)"
   ]
  },
  {
   "cell_type": "code",
   "execution_count": 113,
   "metadata": {},
   "outputs": [
    {
     "data": {
      "text/plain": [
       "boardgames      125\n",
       "RocketLeague    125\n",
       "Name: subreddit, dtype: int64"
      ]
     },
     "execution_count": 113,
     "metadata": {},
     "output_type": "execute_result"
    }
   ],
   "source": [
    "y_test.value_counts()"
   ]
  },
  {
   "cell_type": "code",
   "execution_count": null,
   "metadata": {},
   "outputs": [],
   "source": []
  },
  {
   "cell_type": "code",
   "execution_count": 122,
   "metadata": {},
   "outputs": [],
   "source": [
    "from sklearn.pipeline import Pipeline\n",
    "from sklearn.naive_bayes import MultinomialNB\n",
    "\n",
    "pipe = Pipeline([\n",
    "    ('tvec', TfidfVectorizer()),\n",
    "    ('nb', MultinomialNB())\n",
    "])\n",
    "\n",
    "pipe_tvec_params = {\n",
    "    'tvec__max_features':[2_000, 3_000, 4_000, 5_000],\n",
    "    'tvec__stop_words':[None, 'english'],\n",
    "    'tvec__ngram_range':[(1,1), (1,2)]\n",
    "}"
   ]
  },
  {
   "cell_type": "code",
   "execution_count": 123,
   "metadata": {},
   "outputs": [],
   "source": [
    "gs_tvec = GridSearchCV(pipe, param_grid = pipe_tvec_params, \n",
    "         cv=5)"
   ]
  },
  {
   "cell_type": "code",
   "execution_count": 124,
   "metadata": {},
   "outputs": [
    {
     "data": {
      "text/plain": [
       "21    I got an old fashioned, super sturdy folding t...\n",
       "99    Are there any good boosts out there that are p...\n",
       "61                                                     \n",
       "40                                                     \n",
       "96                                            [deleted]\n",
       "                            ...                        \n",
       "59                                                     \n",
       "39                                                     \n",
       "4                                             [removed]\n",
       "37                                                     \n",
       "53    So we’re having an extra guest today at my hou...\n",
       "Name: selftext, Length: 750, dtype: object"
      ]
     },
     "execution_count": 124,
     "metadata": {},
     "output_type": "execute_result"
    }
   ],
   "source": [
    "X_train"
   ]
  },
  {
   "cell_type": "code",
   "execution_count": 125,
   "metadata": {},
   "outputs": [
    {
     "data": {
      "text/plain": [
       "GridSearchCV(cv=5,\n",
       "             estimator=Pipeline(steps=[('tvec', TfidfVectorizer()),\n",
       "                                       ('nb', MultinomialNB())]),\n",
       "             param_grid={'tvec__max_features': [2000, 3000, 4000, 5000],\n",
       "                         'tvec__ngram_range': [(1, 1), (1, 2)],\n",
       "                         'tvec__stop_words': [None, 'english']})"
      ]
     },
     "execution_count": 125,
     "metadata": {},
     "output_type": "execute_result"
    }
   ],
   "source": [
    "gs_tvec"
   ]
  },
  {
   "cell_type": "code",
   "execution_count": 126,
   "metadata": {},
   "outputs": [
    {
     "data": {
      "text/plain": [
       "GridSearchCV(cv=5,\n",
       "             estimator=Pipeline(steps=[('tvec', TfidfVectorizer()),\n",
       "                                       ('nb', MultinomialNB())]),\n",
       "             param_grid={'tvec__max_features': [2000, 3000, 4000, 5000],\n",
       "                         'tvec__ngram_range': [(1, 1), (1, 2)],\n",
       "                         'tvec__stop_words': [None, 'english']})"
      ]
     },
     "execution_count": 126,
     "metadata": {},
     "output_type": "execute_result"
    }
   ],
   "source": [
    "gs_tvec.fit(X_train, y_train)"
   ]
  },
  {
   "cell_type": "code",
   "execution_count": 127,
   "metadata": {},
   "outputs": [
    {
     "data": {
      "text/plain": [
       "0.8146666666666667"
      ]
     },
     "execution_count": 127,
     "metadata": {},
     "output_type": "execute_result"
    }
   ],
   "source": [
    "gs_tvec.score(X_train, y_train)"
   ]
  },
  {
   "cell_type": "code",
   "execution_count": 128,
   "metadata": {},
   "outputs": [],
   "source": [
    "# Get predictions\n",
    "preds_tvec=gs_tvec.predict(X_test)\n",
    "\n",
    "# Save confusion matrix values\n",
    "cm = confusion_matrix(y_test, preds_tvec)\n"
   ]
  },
  {
   "cell_type": "code",
   "execution_count": 129,
   "metadata": {},
   "outputs": [
    {
     "data": {
      "text/plain": [
       "1.0"
      ]
     },
     "execution_count": 129,
     "metadata": {},
     "output_type": "execute_result"
    }
   ],
   "source": [
    "tn, fp, fn, tp = cm.ravel()\n",
    "# Calculate the specificity\n",
    "spec = tn/(tn+fp)#fp = 0 spam pred 0 as fp, fn =34\n",
    "spec"
   ]
  },
  {
   "cell_type": "code",
   "execution_count": 130,
   "metadata": {},
   "outputs": [
    {
     "data": {
      "image/png": "[encoded data removed]",
      "text/plain": [
       "<Figure size 432x288 with 2 Axes>"
      ]
     },
     "metadata": {
      "needs_background": "light"
     },
     "output_type": "display_data"
    }
   ],
   "source": [
    "ConfusionMatrixDisplay(cm).plot();"
   ]
  },
  {
   "cell_type": "code",
   "execution_count": null,
   "metadata": {},
   "outputs": [],
   "source": []
  }
 ],
 "metadata": {
  "kernelspec": {
   "display_name": "Python 3",
   "language": "python",
   "name": "python3"
  },
  "language_info": {
   "codemirror_mode": {
    "name": "ipython",
    "version": 3
   },
   "file_extension": ".py",
   "mimetype": "text/x-python",
   "name": "python",
   "nbconvert_exporter": "python",
   "pygments_lexer": "ipython3",
   "version": "3.8.5"
  }
 },
 "nbformat": 4,
 "nbformat_minor": 4
}
