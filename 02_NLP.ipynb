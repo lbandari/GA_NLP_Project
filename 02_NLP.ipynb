{
 "cells": [
  {
   "cell_type": "markdown",
   "metadata": {},
   "source": [
    "<img src=\"http://imgur.com/1ZcRyrc.png\" style=\"float: left; margin: 20px; height: 55px\" />\n",
    "\n",
    "# # Project 3 : Web API and NLP - Section 2: NLP Processing"
   ]
  },
  {
   "cell_type": "markdown",
   "metadata": {},
   "source": [
    "## Part 1: Imports and Read"
   ]
  },
  {
   "cell_type": "code",
   "execution_count": 42,
   "metadata": {},
   "outputs": [],
   "source": [
    "import pandas as pd\n",
    "import requests\n",
    "import matplotlib.pyplot as plt\n",
    "from nltk import sent_tokenize, word_tokenize, RegexpTokenizer\n",
    "\n",
    "\n",
    "pd.set_option('display.max_colwidth', None)"
   ]
  },
  {
   "cell_type": "code",
   "execution_count": 18,
   "metadata": {},
   "outputs": [
    {
     "data": {
      "text/html": [
       "<div>\n",
       "<style scoped>\n",
       "    .dataframe tbody tr th:only-of-type {\n",
       "        vertical-align: middle;\n",
       "    }\n",
       "\n",
       "    .dataframe tbody tr th {\n",
       "        vertical-align: top;\n",
       "    }\n",
       "\n",
       "    .dataframe thead th {\n",
       "        text-align: right;\n",
       "    }\n",
       "</style>\n",
       "<table border=\"1\" class=\"dataframe\">\n",
       "  <thead>\n",
       "    <tr style=\"text-align: right;\">\n",
       "      <th></th>\n",
       "      <th>subreddit</th>\n",
       "      <th>selftext</th>\n",
       "      <th>title</th>\n",
       "    </tr>\n",
       "  </thead>\n",
       "  <tbody>\n",
       "    <tr>\n",
       "      <th>0</th>\n",
       "      <td>boardgames</td>\n",
       "      <td>Hi all, really want to get into board games th...</td>\n",
       "      <td>Recommendations for board games</td>\n",
       "    </tr>\n",
       "    <tr>\n",
       "      <th>1</th>\n",
       "      <td>boardgames</td>\n",
       "      <td>My husband and I are looking for fun 2 player ...</td>\n",
       "      <td>Games for 2 people?</td>\n",
       "    </tr>\n",
       "    <tr>\n",
       "      <th>2</th>\n",
       "      <td>boardgames</td>\n",
       "      <td>NaN</td>\n",
       "      <td>Apocalypse 5E Kickstarter</td>\n",
       "    </tr>\n",
       "    <tr>\n",
       "      <th>3</th>\n",
       "      <td>boardgames</td>\n",
       "      <td>I've been looking into the counter insurgency ...</td>\n",
       "      <td>Which COIN games are the best?</td>\n",
       "    </tr>\n",
       "    <tr>\n",
       "      <th>4</th>\n",
       "      <td>boardgames</td>\n",
       "      <td>[removed]</td>\n",
       "      <td>Making Space For Disappointment</td>\n",
       "    </tr>\n",
       "  </tbody>\n",
       "</table>\n",
       "</div>"
      ],
      "text/plain": [
       "    subreddit                                           selftext  \\\n",
       "0  boardgames  Hi all, really want to get into board games th...   \n",
       "1  boardgames  My husband and I are looking for fun 2 player ...   \n",
       "2  boardgames                                                NaN   \n",
       "3  boardgames  I've been looking into the counter insurgency ...   \n",
       "4  boardgames                                          [removed]   \n",
       "\n",
       "                             title  \n",
       "0  Recommendations for board games  \n",
       "1              Games for 2 people?  \n",
       "2        Apocalypse 5E Kickstarter  \n",
       "3   Which COIN games are the best?  \n",
       "4  Making Space For Disappointment  "
      ]
     },
     "execution_count": 18,
     "metadata": {},
     "output_type": "execute_result"
    }
   ],
   "source": [
    "#read the csv created\n",
    "reddit_df = pd.read_csv(\"./datasets/reddit4500.csv\")\n",
    "#dropping unnamed column\n",
    "reddit_df.drop(columns = 'Unnamed: 0', inplace=True)\n",
    "reddit_df.head()"
   ]
  },
  {
   "cell_type": "code",
   "execution_count": 12,
   "metadata": {},
   "outputs": [],
   "source": []
  },
  {
   "cell_type": "markdown",
   "metadata": {},
   "source": [
    "## Part 2: EDA and Cleanup"
   ]
  },
  {
   "cell_type": "code",
   "execution_count": 19,
   "metadata": {},
   "outputs": [
    {
     "data": {
      "text/plain": [
       "Fallout         1600\n",
       "RocketLeague    1500\n",
       "boardgames      1400\n",
       "Name: subreddit, dtype: int64"
      ]
     },
     "execution_count": 19,
     "metadata": {},
     "output_type": "execute_result"
    }
   ],
   "source": [
    "#Get value counts on our y value.\n",
    "reddit_df['subreddit'].value_counts()"
   ]
  },
  {
   "cell_type": "code",
   "execution_count": 20,
   "metadata": {},
   "outputs": [
    {
     "data": {
      "text/plain": [
       "Fallout         0.355556\n",
       "RocketLeague    0.333333\n",
       "boardgames      0.311111\n",
       "Name: subreddit, dtype: float64"
      ]
     },
     "execution_count": 20,
     "metadata": {},
     "output_type": "execute_result"
    }
   ],
   "source": [
    "#check the value counts normalize\n",
    "reddit_df['subreddit'].value_counts(normalize=True)"
   ]
  },
  {
   "cell_type": "code",
   "execution_count": 26,
   "metadata": {},
   "outputs": [
    {
     "data": {
      "text/plain": [
       "subreddit             0\n",
       "selftext           1469\n",
       "title                 0\n",
       "submission_text    1469\n",
       "dtype: int64"
      ]
     },
     "execution_count": 26,
     "metadata": {},
     "output_type": "execute_result"
    }
   ],
   "source": [
    "#look for nulls in all the columns\n",
    "reddit_df.isnull().sum()"
   ]
  },
  {
   "cell_type": "code",
   "execution_count": 23,
   "metadata": {},
   "outputs": [
    {
     "data": {
      "text/plain": [
       "(4500, 3)"
      ]
     },
     "execution_count": 23,
     "metadata": {},
     "output_type": "execute_result"
    }
   ],
   "source": [
    "reddit_df.shape"
   ]
  },
  {
   "cell_type": "code",
   "execution_count": 32,
   "metadata": {},
   "outputs": [],
   "source": [
    "#replacing nulls in selftext with do as it is stop word\n",
    "reddit_df['selftext'].fillna(\"do \", inplace=True)"
   ]
  },
  {
   "cell_type": "code",
   "execution_count": 51,
   "metadata": {},
   "outputs": [],
   "source": [
    "#combining selftext and title so we can consider title as part of the features\n",
    "reddit_df[\"submission_text\"] = reddit_df[\"selftext\"] + reddit_df[\"title\"]"
   ]
  },
  {
   "cell_type": "code",
   "execution_count": 52,
   "metadata": {},
   "outputs": [
    {
     "data": {
      "text/html": [
       "<div>\n",
       "<style scoped>\n",
       "    .dataframe tbody tr th:only-of-type {\n",
       "        vertical-align: middle;\n",
       "    }\n",
       "\n",
       "    .dataframe tbody tr th {\n",
       "        vertical-align: top;\n",
       "    }\n",
       "\n",
       "    .dataframe thead th {\n",
       "        text-align: right;\n",
       "    }\n",
       "</style>\n",
       "<table border=\"1\" class=\"dataframe\">\n",
       "  <thead>\n",
       "    <tr style=\"text-align: right;\">\n",
       "      <th></th>\n",
       "      <th>subreddit</th>\n",
       "      <th>selftext</th>\n",
       "      <th>title</th>\n",
       "      <th>submission_text</th>\n",
       "    </tr>\n",
       "  </thead>\n",
       "  <tbody>\n",
       "    <tr>\n",
       "      <th>0</th>\n",
       "      <td>boardgames</td>\n",
       "      <td>Hi all, really want to get into board games that put an emphasis on diplomacy and trade on a medium to large scale, What are some of your favorites/recommendations, thanks</td>\n",
       "      <td>Recommendations for board games</td>\n",
       "      <td>Hi all, really want to get into board games that put an emphasis on diplomacy and trade on a medium to large scale, What are some of your favorites/recommendations, thanksRecommendations for board games</td>\n",
       "    </tr>\n",
       "    <tr>\n",
       "      <th>1</th>\n",
       "      <td>boardgames</td>\n",
       "      <td>My husband and I are looking for fun 2 player games to play on days when the weather isn’t favorable to spend time outside! We’ve been watching far too much TV lately.\\n\\nThanks in advance!</td>\n",
       "      <td>Games for 2 people?</td>\n",
       "      <td>My husband and I are looking for fun 2 player games to play on days when the weather isn’t favorable to spend time outside! We’ve been watching far too much TV lately.\\n\\nThanks in advance!Games for 2 people?</td>\n",
       "    </tr>\n",
       "    <tr>\n",
       "      <th>2</th>\n",
       "      <td>boardgames</td>\n",
       "      <td>do</td>\n",
       "      <td>Apocalypse 5E Kickstarter</td>\n",
       "      <td>do Apocalypse 5E Kickstarter</td>\n",
       "    </tr>\n",
       "    <tr>\n",
       "      <th>3</th>\n",
       "      <td>boardgames</td>\n",
       "      <td>I've been looking into the counter insurgency (COIN) series of games from GMT and they look really interesting. My problem is that there are a lot of games in the series and I want all of your opinions on which are the best (and which to avoid).</td>\n",
       "      <td>Which COIN games are the best?</td>\n",
       "      <td>I've been looking into the counter insurgency (COIN) series of games from GMT and they look really interesting. My problem is that there are a lot of games in the series and I want all of your opinions on which are the best (and which to avoid).Which COIN games are the best?</td>\n",
       "    </tr>\n",
       "    <tr>\n",
       "      <th>4</th>\n",
       "      <td>boardgames</td>\n",
       "      <td>[removed]</td>\n",
       "      <td>Making Space For Disappointment</td>\n",
       "      <td>[removed]Making Space For Disappointment</td>\n",
       "    </tr>\n",
       "  </tbody>\n",
       "</table>\n",
       "</div>"
      ],
      "text/plain": [
       "    subreddit  \\\n",
       "0  boardgames   \n",
       "1  boardgames   \n",
       "2  boardgames   \n",
       "3  boardgames   \n",
       "4  boardgames   \n",
       "\n",
       "                                                                                                                                                                                                                                                selftext  \\\n",
       "0                                                                            Hi all, really want to get into board games that put an emphasis on diplomacy and trade on a medium to large scale, What are some of your favorites/recommendations, thanks   \n",
       "1                                                          My husband and I are looking for fun 2 player games to play on days when the weather isn’t favorable to spend time outside! We’ve been watching far too much TV lately.\\n\\nThanks in advance!   \n",
       "2                                                                                                                                                                                                                                                    do    \n",
       "3  I've been looking into the counter insurgency (COIN) series of games from GMT and they look really interesting. My problem is that there are a lot of games in the series and I want all of your opinions on which are the best (and which to avoid).   \n",
       "4                                                                                                                                                                                                                                              [removed]   \n",
       "\n",
       "                             title  \\\n",
       "0  Recommendations for board games   \n",
       "1              Games for 2 people?   \n",
       "2        Apocalypse 5E Kickstarter   \n",
       "3   Which COIN games are the best?   \n",
       "4  Making Space For Disappointment   \n",
       "\n",
       "                                                                                                                                                                                                                                                                       submission_text  \n",
       "0                                                                           Hi all, really want to get into board games that put an emphasis on diplomacy and trade on a medium to large scale, What are some of your favorites/recommendations, thanksRecommendations for board games  \n",
       "1                                                                     My husband and I are looking for fun 2 player games to play on days when the weather isn’t favorable to spend time outside! We’ve been watching far too much TV lately.\\n\\nThanks in advance!Games for 2 people?  \n",
       "2                                                                                                                                                                                                                                                         do Apocalypse 5E Kickstarter  \n",
       "3  I've been looking into the counter insurgency (COIN) series of games from GMT and they look really interesting. My problem is that there are a lot of games in the series and I want all of your opinions on which are the best (and which to avoid).Which COIN games are the best?  \n",
       "4                                                                                                                                                                                                                                             [removed]Making Space For Disappointment  "
      ]
     },
     "execution_count": 52,
     "metadata": {},
     "output_type": "execute_result"
    }
   ],
   "source": [
    "reddit_df.head()"
   ]
  },
  {
   "cell_type": "code",
   "execution_count": 53,
   "metadata": {},
   "outputs": [
    {
     "data": {
      "text/plain": [
       "'do Apocalypse 5E Kickstarter'"
      ]
     },
     "execution_count": 53,
     "metadata": {},
     "output_type": "execute_result"
    }
   ],
   "source": [
    "reddit_df[\"submission_text\"][2]"
   ]
  },
  {
   "cell_type": "markdown",
   "metadata": {},
   "source": [
    "## Part 3: NLP Processing \n"
   ]
  },
  {
   "cell_type": "code",
   "execution_count": 75,
   "metadata": {},
   "outputs": [
    {
     "data": {
      "text/plain": [
       "0                                                                                                                                                                                                                                                                                                                                                                                                                                                                                                                                                                                                                                                                                                                                                                                                                                                                                                                                                                                                                                                                                                                                                                                                                                                                                                                                                                                                                                                                                                                                                                                                                                                                                                                                                                                                                                                                                                                                                                                                                                                                                                                                                                                                                                                                                                                                                                                                                                                                                                                                                                                                                                                                                                                                                                                                                                                                                                                                                                                                                                          Hi all really want to get into board games that put an emphasis on diplomacy and trade on a medium to large scale What are some of your favoritesrecommendations thanksRecommendations for board games\n",
       "1                                                                                                                                                                                                                                                                                                                                                                                                                                                                                                                                                                                                                                                                                                                                                                                                                                                                                                                                                                                                                                                                                                                                                                                                                                                                                                                                                                                                                                                                                                                                                                                                                                                                                                                                                                                                                                                                                                                                                                                                                                                                                                                                                                                                                                                                                                                                                                                                                                                                                                                                                                                                                                                                                                                                                                                                                                                                                                                                                                                                                                          My husband and I are looking for fun 2 player games to play on days when the weather isnt favorable to spend time outside Weve been watching far too much TV latelyThanks in advanceGames for 2 people\n",
       "2                                                                                                                                                                                                                                                                                                                                                                                                                                                                                                                                                                                                                                                                                                                                                                                                                                                                                                                                                                                                                                                                                                                                                                                                                                                                                                                                                                                                                                                                                                                                                                                                                                                                                                                                                                                                                                                                                                                                                                                                                                                                                                                                                                                                                                                                                                                                                                                                                                                                                                                                                                                                                                                                                                                                                                                                                                                                                                                                                                                                                                                                                                                                                                                                                    do Apocalypse 5E Kickstarter\n",
       "3                                                                                                                                                                                                                                                                                                                                                                                                                                                                                                                                                                                                                                                                                                                                                                                                                                                                                                                                                                                                                                                                                                                                                                                                                                                                                                                                                                                                                                                                                                                                                                                                                                                                                                                                                                                                                                                                                                                                                                                                                                                                                                                                                                                                                                                                                                                                                                                                                                                                                                                                                                                                                                                                                                                                                                                                                                                                                                                                                                     Ive been looking into the counter insurgency COIN series of games from GMT and they look really interesting My problem is that there are a lot of games in the series and I want all of your opinions on which are the best and which to avoidWhich COIN games are the best\n",
       "4                                                                                                                                                                                                                                                                                                                                                                                                                                                                                                                                                                                                                                                                                                                                                                                                                                                                                                                                                                                                                                                                                                                                                                                                                                                                                                                                                                                                                                                                                                                                                                                                                                                                                                                                                                                                                                                                                                                                                                                                                                                                                                                                                                                                                                                                                                                                                                                                                                                                                                                                                                                                                                                                                                                                                                                                                                                                                                                                                                                                                                                                                                                                                                                                          removedMaking Space For Disappointment\n",
       "5                                                                                                                                                                                                                                                                                                                                                                                                                                                                                                                                                                                                                                                                                                                                                                                                                                                                                                                                                                                                                                                                                                                                                                                                                                                                                                                                                                                                                                                                                                                                                                                                                                                                                                                                                                                                                                                                                                                                                                                                                                                                                                                                                                                                                                                                                                                                                                                                                                                                                                                                                                                                                                                                             Im making a sci fi retheme of Saint Petersburg calling it Station Petersburg for just me and my friends not to sell and I found a lot of screenshots from Star Citizen Elite Dangerous No Mans Sky etc that are perfect for the cards in the game I want to use them in my game but I dont want to get into any legal trouble So I wonder for something like this what is the legality of using screenshots on the cards Do I have to get a license or can I just use it under fair useIs it legal to use screenshots from video games in a homebrew cardboard game\n",
       "6                                                                                                                                                                                                                                                                                                                                                                                                                                                                                                                                                                                                                                                                                                                                                                                                                                                                                                                                                                                                                                                                                                                                                                                                                                                                                                                                                                                                                                                                                                                                                                                                                                                                                                                                                                                                                                                                                                                                                                                                                                                                                                                                                                                                                                                                                                                                                                                                                                                                                                                                                                                                                                                                                                                                                                                                                                                                                                                           Has anyone else experienced no longer being able to put down a tile because of the sudoku mechanics My group has played the backside no pattern and a few of us have gotten to the point where we cant finish a row or column because we can no longer put that color of tile thereNot able to put down tiles in Azul\n",
       "7                                                                                                                                                                                                                                                                                                                                                                                                                                                                                                                                                                                                                                                                                                                                                                                                                                                                                                                                                                                                                                                                                                                                                                                                                                                                                                                                                                                                                                                                                                                                                                                                                                                                                                                                                                                                                                                                                                                                                                                                                                                                                                                                                                                                                                                                                                                                                                                                                                                                                                                                                                                                                                                                                                                                                                                                                                                                                                                                                                                                                                                                                                                                                              do Watch Arkham Horror Mothers Embrace FULL GAME on PC with HIGHEST GRAPHIC SEINGS\n",
       "8                                                                                                                                                                                                                                                                                                                                                                                                                                                                                                                                                                                                                                                                                                                                                                                                                                                                                                                                                                                                                                                                                                                                                                                                                                                                                                                                                                                                                                                                                                                                                                                                                                                                                                                                                                                                                                                                                                                                                                                                                                                                                                                                                                                                                                                                                                                                                                                                                                                                                                                                                                                                                                                                                                                                                                                                                                                                                                                                                                                                                                                                                                                                                            do Board games turned into horror movie posters I really want to watch hungry hippos\n",
       "9     Dont judge my stackingmVnpsOvjpgI started in October of 2018 with highly recommended games such as 7 Wonders Duel Carcassonne and Fox in the Forest I think my girlfriend bought Splendor for us as well but none of these games stuck Carcassonne sits at a 310 for me while Fox in the Forest is a 4 7WD and Splendor are both decent but I fell off and didnt play any games in 2019 In 2020 I decided to try Spirit Island my first holy grail I had been putting it off due to the difficulty but I had nothing to lose so I just went for itI still havent played Spirit Island as much as I would like but I finally hit on some games in the months to follow2020 HitsSpirit Island 7\\nCodenames Duet 7  most played to this date\\nHanamijoki 10\\nArboretum 7\\nThe Mind 7\\nBaseball Highlights 2045 9\\nCockroach Poker 8\\nSpace Hulk Death Angel 8\\nDecrypto 7\\nDinogenics 7\\nWatergate 8\\nLike 5 Buttonshy games 7s\\nChinatown 8\\nThe Bloody Inn 7In this time I sorta hit on Dominion I loved this until I got further down my hits list I find I fall in love with a game and then a previous 10 gets downgraded and shifts my entire system of tiers down a notch lolThis also happened with Robinson Crusoe and to a lesser extent Nemos War Once I found less fiddly solo games to be mentioned later I traded these away but they were important stepping stonesKingdomino Lost Cities Agricola ACAB Biblios Bonanza The Duel and The Lost Expedition were all fine but I gifted them away as I tried to keep a higher standard for my enjoymentSo I probably went through buying around 40 games in the second half of 2020 but 2021 is when I hit on the backbone of my favorites list nowFirst I hit on Cosmic Encounter 10 which is by far my favorite game to play with others I then got a great deal on everything Aeons End 9 and played through all the sets way too muchI also hit on\\nPax Pamir 2e 7\\nDeception Murder in Hong Kong 8\\nShadows in Kyoto 8\\nDungeon Petz 8\\nRa 8\\nWavelength 8\\nAfter the Virus 8\\nFlamme Rouge 9\\nObsession 9But my two favorite solo have been Darkest Night 2e and Mage Knight Both 10s Although I dont have a victory between the two of themI dont have much I want to change because I waited until I found a good stopping point for now  but my next buys will be some combo of Innovation Agricola Star Wars Rebellion and TargiAlso waiting on a couple Buttonshy Kickstarters the new Aeons End and MaquisI would like to thank the stimulus checks for the funds and not having to work for the time to play but funnily enough what stopped me for now is my desire to stop having to learn rulebooks I fear Im running out of room in my head and Id like to know all my games decentlyI already feel like I mentioned more games than I needed to so HEREcollectionusertripleblacktriown1ampsubtypeboardgameampff1 is my profile if youre still interestedAlso Im curious what outside opinions of my collection are Like I think I know what I like at this point but Im curious what you guys see on my shelves and if you have further recommendations among those lines COMC For the first time in months I dont have a package on the way Lend me your opinion\n",
       "10                                                                                                                                                                                                                                                                                                                                                                                                                                                                                                                                                                                                                                                                                                                                                                                                                                                                                                                                                                                                                                                                                                                                                                                                                                                                                                                                                                                                                                                                                                                                                                                                                                                                                                                                                                                                                                                                                                                                                                                                                                                                                                                                                                                                                                                                                                                                                                                                                                                                                                                                                                                                                                                                                                                                                                                                                                                                                                                                                                                                                                                                                                                                                                     Whats the one game they cant get enough ofWhat is your kids favourite game\n",
       "11                                                                                                                                                                                                                                                                                                                                                                                                                                                                                                                                                                                                                                                                                                                                                                                                                                                                                                                                                                                                                                                                                                                                                                                                                                                                                                                                                                                                                                                                                                                                                                                                                                                                                                                                                                                                                                                                                                                                                                                                                                                                                                                                                                                                                                                                                                                                                                                                                                                                                                                                                                                                                                                                                                                                                                                                                                                                                                                                                                                                                                                                                                                          Need suggestions for a  fairly cheap prize 1020 that people would get excited to winIdeas for a prize for games night\n",
       "12                                                                                                                                                                                                                                                                                                                                                                                                                                                                                                                                                                                                                                                                                                                                                                                                                                                                                                                                                                                                                                                                                                                                                                                                                                                                                                                                                                                                                                                                                                                                                                                                                                                                                                                                                                                                                                                                                                                                                                                                                                                                                                                                                                                                                                                                                                                                                                                                                                                                                                                                                                                                                                                                                                                                                                                                                                                              Just player out first game of viticulture which i butchered as I missed the part about fulfilling orders being the minimum value forcing us to spend all game desperately trying to balance aging grapes and wines to not exceed the card number thus ruining the game for everyone Whats your biggest rules faux pax Whats the worst way you ever misunderstood or missed a rule\n",
       "13                                                                                                                                                                                                                                                                                                                                                                                                                                                                                                                                                                                                                                                                                                                                                                                                                                                                                                                                                                                                                                                                                                                                                                                                                                                                                                                                                                                                                                                                                                                                                                                                                                                                                                                                                                                                                                                                                                                                                                                                                                                                                                                                                                                                                                                                                                                                                                                                                                                                                                                                                                                                                                                                                                                                                                                                                                                                                                                                                                                                                                                                                                                                                                 do I may have gone a little overboard customising my copy of Terraforming Mars\n",
       "14                                                                                                                                                                                                                                                                                                                                                                                                                                                                                                                                                                                                                                                                                                                                                                                                                                                                                                                                                                                                                                                                                                                                                                                                                                                                                                                                                                                                                                                                                                                                                                                                                                                                                                                                                                                                                                                                                                                                                                                                                                                                                                                                                                                                                                                                                                                                                                                                                                                                                                                                                                                                                                                                                                                                                                                                                                                                                                                                                              I just played Anachronys latest expansion Fractures of Time with my friend who has the copy I have the base game and totally feeling regret for not backing the Infinity Upgrade Pack through Kickstarter 2 years ago Feeling regret for not backing Anachrony Fractures of Time \n",
       "Name: submission_text, dtype: object"
      ]
     },
     "execution_count": 75,
     "metadata": {},
     "output_type": "execute_result"
    }
   ],
   "source": [
    "reddit_df['submission_text'][:15]"
   ]
  },
  {
   "cell_type": "code",
   "execution_count": 49,
   "metadata": {},
   "outputs": [],
   "source": [
    "## we can use tokenizer to just use words\n",
    "# tokenizer = RegexpTokenizer(r'\\w+') #'\\w+') #r'/[^\\w\\s]/gi\n",
    "\n",
    "# def gettoken(x):\n",
    "#     return tokenizer.tokenize(x.lower())\n",
    "\n",
    "# reddit_df['submission_text']=reddit_df['submission_text'].map(gettoken)"
   ]
  },
  {
   "cell_type": "code",
   "execution_count": 65,
   "metadata": {},
   "outputs": [],
   "source": [
    "#replace resource link = https://stackoverflow.com/questions/39782418/remove-punctuations-in-pandas/39782973\n",
    "# replace url links to blank in submissions_text\n",
    "reddit_df['submission_text'] = reddit_df['submission_text'].str.replace('http.*.com', '',regex = True)"
   ]
  },
  {
   "cell_type": "code",
   "execution_count": 72,
   "metadata": {},
   "outputs": [],
   "source": [
    "# replace \\n\\n string to blank in submissions_text\n",
    "reddit_df['submission_text'] = reddit_df['submission_text'].str.replace('\\n\\n', '',regex = True)"
   ]
  },
  {
   "cell_type": "code",
   "execution_count": 71,
   "metadata": {},
   "outputs": [],
   "source": [
    "# replace 'TT' to blank in submissions_text\n",
    "reddit_df['submission_text'] = reddit_df['submission_text'].str.replace('TT', '',regex = True)"
   ]
  },
  {
   "cell_type": "code",
   "execution_count": 74,
   "metadata": {},
   "outputs": [],
   "source": [
    "# replace punchuations to blank in submissions_text\n",
    "reddit_df['submission_text'] = reddit_df['submission_text'].str.replace('[^\\w\\s]', '',regex = True)"
   ]
  },
  {
   "cell_type": "code",
   "execution_count": 77,
   "metadata": {},
   "outputs": [],
   "source": [
    "#drop the columns selftext and title that we no longer need\n",
    "reddit_df.drop(columns=['selftext', 'title'], inplace=True)"
   ]
  },
  {
   "cell_type": "code",
   "execution_count": 78,
   "metadata": {},
   "outputs": [
    {
     "data": {
      "text/plain": [
       "(4500, 2)"
      ]
     },
     "execution_count": 78,
     "metadata": {},
     "output_type": "execute_result"
    }
   ],
   "source": [
    "reddit_df.shape"
   ]
  },
  {
   "cell_type": "code",
   "execution_count": null,
   "metadata": {},
   "outputs": [],
   "source": []
  },
  {
   "cell_type": "code",
   "execution_count": 80,
   "metadata": {},
   "outputs": [],
   "source": [
    "reddit_df.to_csv('./datasets/redditready.csv', index=False)"
   ]
  }
 ],
 "metadata": {
  "kernelspec": {
   "display_name": "Python 3",
   "language": "python",
   "name": "python3"
  },
  "language_info": {
   "codemirror_mode": {
    "name": "ipython",
    "version": 3
   },
   "file_extension": ".py",
   "mimetype": "text/x-python",
   "name": "python",
   "nbconvert_exporter": "python",
   "pygments_lexer": "ipython3",
   "version": "3.8.5"
  }
 },
 "nbformat": 4,
 "nbformat_minor": 4
}
