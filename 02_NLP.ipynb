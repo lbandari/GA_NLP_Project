{
 "cells": [
  {
   "cell_type": "markdown",
   "metadata": {},
   "source": [
    "<img src=\"http://imgur.com/1ZcRyrc.png\" style=\"float: left; margin: 20px; height: 55px\" />\n",
    "\n",
    "# # Project 3 : Web API and NLP - Section 2: NLP Processing"
   ]
  },
  {
   "cell_type": "markdown",
   "metadata": {},
   "source": [
    "## Part 1: Imports and Read\n",
    "\n",
    "References: https://stackoverflow.com/questions/39782418/remove-punctuations-in-pandas/39782973"
   ]
  },
  {
   "cell_type": "code",
   "execution_count": 34,
   "metadata": {},
   "outputs": [],
   "source": [
    "import pandas as pd\n",
    "import requests\n",
    "import matplotlib.pyplot as plt\n",
    "from nltk import sent_tokenize, word_tokenize, RegexpTokenizer, WordNetLemmatizer\n",
    "\n",
    "\n",
    "pd.set_option('display.max_colwidth', None)"
   ]
  },
  {
   "cell_type": "code",
   "execution_count": 4,
   "metadata": {},
   "outputs": [
    {
     "data": {
      "text/html": [
       "<div>\n",
       "<style scoped>\n",
       "    .dataframe tbody tr th:only-of-type {\n",
       "        vertical-align: middle;\n",
       "    }\n",
       "\n",
       "    .dataframe tbody tr th {\n",
       "        vertical-align: top;\n",
       "    }\n",
       "\n",
       "    .dataframe thead th {\n",
       "        text-align: right;\n",
       "    }\n",
       "</style>\n",
       "<table border=\"1\" class=\"dataframe\">\n",
       "  <thead>\n",
       "    <tr style=\"text-align: right;\">\n",
       "      <th></th>\n",
       "      <th>subreddit</th>\n",
       "      <th>selftext</th>\n",
       "      <th>title</th>\n",
       "    </tr>\n",
       "  </thead>\n",
       "  <tbody>\n",
       "    <tr>\n",
       "      <th>0</th>\n",
       "      <td>boardgames</td>\n",
       "      <td>NaN</td>\n",
       "      <td>codenames online</td>\n",
       "    </tr>\n",
       "    <tr>\n",
       "      <th>1</th>\n",
       "      <td>boardgames</td>\n",
       "      <td>I was reading the comments on a Brothers Murph video.  Someone posted \"there are mechanics I love and some I haaaaaate\" .  That got me wondering if I hated any mechanics.\\n\\nThere are some I like more than others but I couldn't think of any I hate.  The only one I had a problem with multiple times was trading resources. There have been times when a \"couple\" would make really unfair trades with each other. It was obvious the female was trading to make her husband happy.  Fortunately I am good enough friends with them to point this out. I even found a short podcast on this subject and played it for them. The term they used was \"lioning\".\\n\\nBut I believe this was instances of people abusing/not playing as intended not the mechanic.\\n\\nI have a friends wife that refuses to play auction games. I just don't get it. Why? I'm guessing it's because she's not good at it. \\n\\nAre there mechanics you hate and why?</td>\n",
       "      <td>What mechanics do you hate and why?</td>\n",
       "    </tr>\n",
       "  </tbody>\n",
       "</table>\n",
       "</div>"
      ],
      "text/plain": [
       "    subreddit  \\\n",
       "0  boardgames   \n",
       "1  boardgames   \n",
       "\n",
       "                                                                                                                                                                                                                                                                                                                                                                                                                                                                                                                                                                                                                                                                                                                                                                                                                                                                                                                                               selftext  \\\n",
       "0                                                                                                                                                                                                                                                                                                                                                                                                                                                                                                                                                                                                                                                                                                                                                                                                                                                                                                                                                   NaN   \n",
       "1  I was reading the comments on a Brothers Murph video.  Someone posted \"there are mechanics I love and some I haaaaaate\" .  That got me wondering if I hated any mechanics.\\n\\nThere are some I like more than others but I couldn't think of any I hate.  The only one I had a problem with multiple times was trading resources. There have been times when a \"couple\" would make really unfair trades with each other. It was obvious the female was trading to make her husband happy.  Fortunately I am good enough friends with them to point this out. I even found a short podcast on this subject and played it for them. The term they used was \"lioning\".\\n\\nBut I believe this was instances of people abusing/not playing as intended not the mechanic.\\n\\nI have a friends wife that refuses to play auction games. I just don't get it. Why? I'm guessing it's because she's not good at it. \\n\\nAre there mechanics you hate and why?   \n",
       "\n",
       "                                 title  \n",
       "0                     codenames online  \n",
       "1  What mechanics do you hate and why?  "
      ]
     },
     "execution_count": 4,
     "metadata": {},
     "output_type": "execute_result"
    }
   ],
   "source": [
    "#read the csv created\n",
    "reddit_df = pd.read_csv(\"./datasets/reddit4500.csv\")\n",
    "#dropping unnamed column\n",
    "reddit_df.drop(columns = 'Unnamed: 0', inplace=True)\n",
    "reddit_df.head(2)"
   ]
  },
  {
   "cell_type": "markdown",
   "metadata": {},
   "source": [
    "## Part 2: EDA and Cleanup"
   ]
  },
  {
   "cell_type": "code",
   "execution_count": 5,
   "metadata": {},
   "outputs": [
    {
     "data": {
      "text/plain": [
       "Fallout         1600\n",
       "RocketLeague    1500\n",
       "boardgames      1400\n",
       "Name: subreddit, dtype: int64"
      ]
     },
     "execution_count": 5,
     "metadata": {},
     "output_type": "execute_result"
    }
   ],
   "source": [
    "#Get value counts on our y value.\n",
    "reddit_df['subreddit'].value_counts()"
   ]
  },
  {
   "cell_type": "code",
   "execution_count": 6,
   "metadata": {},
   "outputs": [
    {
     "data": {
      "text/plain": [
       "Fallout         0.355556\n",
       "RocketLeague    0.333333\n",
       "boardgames      0.311111\n",
       "Name: subreddit, dtype: float64"
      ]
     },
     "execution_count": 6,
     "metadata": {},
     "output_type": "execute_result"
    }
   ],
   "source": [
    "#check the value counts normalize\n",
    "reddit_df['subreddit'].value_counts(normalize=True)"
   ]
  },
  {
   "cell_type": "code",
   "execution_count": 7,
   "metadata": {},
   "outputs": [
    {
     "data": {
      "text/plain": [
       "subreddit       0\n",
       "selftext     1456\n",
       "title           0\n",
       "dtype: int64"
      ]
     },
     "execution_count": 7,
     "metadata": {},
     "output_type": "execute_result"
    }
   ],
   "source": [
    "#look for nulls in all the columns\n",
    "reddit_df.isnull().sum()"
   ]
  },
  {
   "cell_type": "code",
   "execution_count": 8,
   "metadata": {},
   "outputs": [
    {
     "data": {
      "text/plain": [
       "(4500, 3)"
      ]
     },
     "execution_count": 8,
     "metadata": {},
     "output_type": "execute_result"
    }
   ],
   "source": [
    "reddit_df.shape"
   ]
  },
  {
   "cell_type": "code",
   "execution_count": 9,
   "metadata": {},
   "outputs": [],
   "source": [
    "#replacing nulls in selftext with do instead of adding blank as it is stop word\n",
    "reddit_df['selftext'].fillna(\"do \", inplace=True)"
   ]
  },
  {
   "cell_type": "code",
   "execution_count": 30,
   "metadata": {},
   "outputs": [],
   "source": [
    "#combining selftext and title so we can consider title as part of the features\n",
    "reddit_df[\"submission_text\"] = reddit_df[\"selftext\"] + ' ' + reddit_df[\"title\"]"
   ]
  },
  {
   "cell_type": "code",
   "execution_count": 24,
   "metadata": {},
   "outputs": [
    {
     "data": {
      "text/html": [
       "<div>\n",
       "<style scoped>\n",
       "    .dataframe tbody tr th:only-of-type {\n",
       "        vertical-align: middle;\n",
       "    }\n",
       "\n",
       "    .dataframe tbody tr th {\n",
       "        vertical-align: top;\n",
       "    }\n",
       "\n",
       "    .dataframe thead th {\n",
       "        text-align: right;\n",
       "    }\n",
       "</style>\n",
       "<table border=\"1\" class=\"dataframe\">\n",
       "  <thead>\n",
       "    <tr style=\"text-align: right;\">\n",
       "      <th></th>\n",
       "      <th>subreddit</th>\n",
       "      <th>selftext</th>\n",
       "      <th>title</th>\n",
       "      <th>submission_text</th>\n",
       "    </tr>\n",
       "  </thead>\n",
       "  <tbody>\n",
       "    <tr>\n",
       "      <th>0</th>\n",
       "      <td>boardgames</td>\n",
       "      <td>do</td>\n",
       "      <td>codenames online</td>\n",
       "      <td>do  codenames online</td>\n",
       "    </tr>\n",
       "    <tr>\n",
       "      <th>1</th>\n",
       "      <td>boardgames</td>\n",
       "      <td>I was reading the comments on a Brothers Murph video.  Someone posted \"there are mechanics I love and some I haaaaaate\" .  That got me wondering if I hated any mechanics.\\n\\nThere are some I like more than others but I couldn't think of any I hate.  The only one I had a problem with multiple times was trading resources. There have been times when a \"couple\" would make really unfair trades with each other. It was obvious the female was trading to make her husband happy.  Fortunately I am good enough friends with them to point this out. I even found a short podcast on this subject and played it for them. The term they used was \"lioning\".\\n\\nBut I believe this was instances of people abusing/not playing as intended not the mechanic.\\n\\nI have a friends wife that refuses to play auction games. I just don't get it. Why? I'm guessing it's because she's not good at it. \\n\\nAre there mechanics you hate and why?</td>\n",
       "      <td>What mechanics do you hate and why?</td>\n",
       "      <td>I was reading the comments on a Brothers Murph video.  Someone posted \"there are mechanics I love and some I haaaaaate\" .  That got me wondering if I hated any mechanics.\\n\\nThere are some I like more than others but I couldn't think of any I hate.  The only one I had a problem with multiple times was trading resources. There have been times when a \"couple\" would make really unfair trades with each other. It was obvious the female was trading to make her husband happy.  Fortunately I am good enough friends with them to point this out. I even found a short podcast on this subject and played it for them. The term they used was \"lioning\".\\n\\nBut I believe this was instances of people abusing/not playing as intended not the mechanic.\\n\\nI have a friends wife that refuses to play auction games. I just don't get it. Why? I'm guessing it's because she's not good at it. \\n\\nAre there mechanics you hate and why? What mechanics do you hate and why?</td>\n",
       "    </tr>\n",
       "    <tr>\n",
       "      <th>2</th>\n",
       "      <td>boardgames</td>\n",
       "      <td>[removed]</td>\n",
       "      <td>Golfer Joaquin Niemann helps raise $2.1 million to save his infant cousin's life</td>\n",
       "      <td>[removed] Golfer Joaquin Niemann helps raise $2.1 million to save his infant cousin's life</td>\n",
       "    </tr>\n",
       "  </tbody>\n",
       "</table>\n",
       "</div>"
      ],
      "text/plain": [
       "    subreddit  \\\n",
       "0  boardgames   \n",
       "1  boardgames   \n",
       "2  boardgames   \n",
       "\n",
       "                                                                                                                                                                                                                                                                                                                                                                                                                                                                                                                                                                                                                                                                                                                                                                                                                                                                                                                                               selftext  \\\n",
       "0                                                                                                                                                                                                                                                                                                                                                                                                                                                                                                                                                                                                                                                                                                                                                                                                                                                                                                                                                   do    \n",
       "1  I was reading the comments on a Brothers Murph video.  Someone posted \"there are mechanics I love and some I haaaaaate\" .  That got me wondering if I hated any mechanics.\\n\\nThere are some I like more than others but I couldn't think of any I hate.  The only one I had a problem with multiple times was trading resources. There have been times when a \"couple\" would make really unfair trades with each other. It was obvious the female was trading to make her husband happy.  Fortunately I am good enough friends with them to point this out. I even found a short podcast on this subject and played it for them. The term they used was \"lioning\".\\n\\nBut I believe this was instances of people abusing/not playing as intended not the mechanic.\\n\\nI have a friends wife that refuses to play auction games. I just don't get it. Why? I'm guessing it's because she's not good at it. \\n\\nAre there mechanics you hate and why?   \n",
       "2                                                                                                                                                                                                                                                                                                                                                                                                                                                                                                                                                                                                                                                                                                                                                                                                                                                                                                                                             [removed]   \n",
       "\n",
       "                                                                              title  \\\n",
       "0                                                                  codenames online   \n",
       "1                                               What mechanics do you hate and why?   \n",
       "2  Golfer Joaquin Niemann helps raise $2.1 million to save his infant cousin's life   \n",
       "\n",
       "                                                                                                                                                                                                                                                                                                                                                                                                                                                                                                                                                                                                                                                                                                                                                                                                                                                                                                                                                                            submission_text  \n",
       "0                                                                                                                                                                                                                                                                                                                                                                                                                                                                                                                                                                                                                                                                                                                                                                                                                                                                                                                                                                      do  codenames online  \n",
       "1  I was reading the comments on a Brothers Murph video.  Someone posted \"there are mechanics I love and some I haaaaaate\" .  That got me wondering if I hated any mechanics.\\n\\nThere are some I like more than others but I couldn't think of any I hate.  The only one I had a problem with multiple times was trading resources. There have been times when a \"couple\" would make really unfair trades with each other. It was obvious the female was trading to make her husband happy.  Fortunately I am good enough friends with them to point this out. I even found a short podcast on this subject and played it for them. The term they used was \"lioning\".\\n\\nBut I believe this was instances of people abusing/not playing as intended not the mechanic.\\n\\nI have a friends wife that refuses to play auction games. I just don't get it. Why? I'm guessing it's because she's not good at it. \\n\\nAre there mechanics you hate and why? What mechanics do you hate and why?  \n",
       "2                                                                                                                                                                                                                                                                                                                                                                                                                                                                                                                                                                                                                                                                                                                                                                                                                                                                                                [removed] Golfer Joaquin Niemann helps raise $2.1 million to save his infant cousin's life  "
      ]
     },
     "execution_count": 24,
     "metadata": {},
     "output_type": "execute_result"
    }
   ],
   "source": [
    "reddit_df.head(3)"
   ]
  },
  {
   "cell_type": "code",
   "execution_count": 25,
   "metadata": {},
   "outputs": [
    {
     "data": {
      "text/plain": [
       "\"[removed] Golfer Joaquin Niemann helps raise $2.1 million to save his infant cousin's life\""
      ]
     },
     "execution_count": 25,
     "metadata": {},
     "output_type": "execute_result"
    }
   ],
   "source": [
    "#test a row\n",
    "reddit_df[\"submission_text\"][2]"
   ]
  },
  {
   "cell_type": "markdown",
   "metadata": {},
   "source": [
    "## Part 3: NLP Processing \n"
   ]
  },
  {
   "cell_type": "code",
   "execution_count": 31,
   "metadata": {},
   "outputs": [
    {
     "data": {
      "text/plain": [
       "0                                                                                                                                                                                                                                                                                                                                                                                                                                                                                                                                                                                                                                                                                                                                                                                                                                                                                                                                                                                                                                                                                                                                                                                                                                                                                                                                                                                                                                                                                                                                                                                                                                                                                                                                    do  codenames online\n",
       "1                                                                                                                                                                                                                                                                                                                                                                                                                                                                                                                                                                                                                                                                                                                                                                I was reading the comments on a Brothers Murph video.  Someone posted \"there are mechanics I love and some I haaaaaate\" .  That got me wondering if I hated any mechanics.\\n\\nThere are some I like more than others but I couldn't think of any I hate.  The only one I had a problem with multiple times was trading resources. There have been times when a \"couple\" would make really unfair trades with each other. It was obvious the female was trading to make her husband happy.  Fortunately I am good enough friends with them to point this out. I even found a short podcast on this subject and played it for them. The term they used was \"lioning\".\\n\\nBut I believe this was instances of people abusing/not playing as intended not the mechanic.\\n\\nI have a friends wife that refuses to play auction games. I just don't get it. Why? I'm guessing it's because she's not good at it. \\n\\nAre there mechanics you hate and why? What mechanics do you hate and why?\n",
       "2                                                                                                                                                                                                                                                                                                                                                                                                                                                                                                                                                                                                                                                                                                                                                                                                                                                                                                                                                                                                                                                                                                                                                                                                                                                                                                                                                                                                                                                                                                                                                                                                                                                              [removed] Golfer Joaquin Niemann helps raise $2.1 million to save his infant cousin's life\n",
       "3                                                                                                                                                                                                                                                                                                                                                                                                                                                                                                                                                                                                                                                                                                                                                                                                                                                                                                                                                                                                                                                                                                                                                                                                                                                                                                                                                                                                                                                                                                                                                                          Is it possible to build a ship on the end of an incomplete shipping route that has a pirate on the same hex as the last ship in the incomplete route. Catan Seafarers Question\n",
       "4     **Welcome to /r/boardgames's Daily Discussion and Game Recommendations**\\n\\nThis is a place where you can ask any and all questions relating to the board gaming world including but not limited to:\\n\\n* general or specific game recommendations\\n* help identifying a game or game piece\\n* advice regarding situation limited to you (e.g, questions about a specific FLGS)\\n* rule clarifications\\n* and other quick questions that might not warrant their own post\\n\\n##Asking for Recommendations\\n\\nYou're much more likely to get good and personalized recommendations if you take the time to format a well-written ask. We **highly recommend** using [this template](/r/boardgames/wiki/personalized-game-recommendation-template-no-explainer) as a guide. [Here is a version](/r/boardgames/wiki/personalized-game-recommendation-template) with additional explanations in case the template isn't enough.\\n\\n##Bold Your Games\\n\\nHelp people identify your game suggestions easily by making the names **bold**. If you reply to any comment that has a game name in **bold** with \"**/u/r2d8 getparentinfo**\", one of our robots will tell you more about the game.\\n\\n##Additional Resources\\n\\n* See our series of [Recommendation Roundups](/r/boardgames/?f=flair_name%3A\"Recommendation%20Roundup\") on a wide variety of topics people have already made game suggestions for.\\n* If you are new here, be sure to check out our [Community Guidelines](/r/boardgames/wiki/community)\\n* For recommendations that take accessibility concerns into account, check out [MeepleLikeUs](https://meeplelikeus.co.uk/recommender-beta/) and their recommender. Daily Discussion and Game Recommendations Thread (March 31, 2021)\n",
       "5                                                                                                                                                                                                                                                                                                                                                                                                                                                                                                                                                                                                                                                                                                                                                                                                                                                                                                                                                                                                                                                                                                                                                                                                                                                                                                                                                 What are your favourites when you're playing solo? Are there any unofficial solo-variants that you really enjoyed? What are you looking forward to play solo? Here's the place for everything related to solo games!\\n\\nAnd if you want even more solo-related content, don't forget to visit the [1 Player Guild](https://boardgamegeek.com/guild/1303) on BGG One-Player Wednesday - (March 31, 2021)\n",
       "6                                                                                                                                                                                                                                                                                                                                                                                                                                                                                                                                                                                                                                                                                                                                                                                                                                                                                                                                                                                           A giant, empty box is $55 with shipping and the wooden meeple sets are $47 each (curiously, additional shipping is $0 for them even if you add 10 of them to your pledge), although you may choose to swap out the plastic minis for them for a $12 discount.\\n\\nKudos to the developers for responding to the backers eager to buy what they're offering. Whatever they do (or don't do) will attract criticism. It's too bad the Iceberg box was not conceived (or maybe possible) from the beginning to avoid waste and extra expense.\\n\\nFor me, personally, the value does not match the cost for either, so I will be passing on their latest offers. Frostpunk backers, are you buying the wooden building meeples and/or Iceberg box? Why or why not?\n",
       "7                                                                                                                                                                                                                                                                                                                                                                                                                                                                                                                                                                                                                                                                                                                                                                                                                                                                                                                                                                                                                                                                                                                                                                                                                                                                                                                                                                                                                                                                                                                                                                                                                                           What are some of the best sports games? And has anyone started leagues based on  games? Games based on Sports\n",
       "8                                                                                                                                                                                                                                                                                                                                                                                                                                                                                                                                                                                                                                                                                                                                                                                                                                                                                                                                                                                                                                                                                                                                                                                                                                                                                                                                                                                                                                                                                                                                                                                                                                                                                                                      [removed] Boardgame identification\n",
       "9                                                                                                                                                                                                                                                                                                                                                                                                                                                                                                                                                                                                                                                                                                                                                                                                                                                                                                                                                                                                                                                                                                                                                                                                                                                                                                                                                                              I've been unable to track down a copy of Fields of Arle at any game stores near me or any Canadian online stores. I was surprised at how many of the stores I called that had no idea what game I was talking about. Was the game not popular when it was published? Is there enough demand now that it could a get a print run? Is Fields of Arle likely to be reprinted?\n",
       "10                                                                                                                                                                                                                                                                                                                                                                                                                                                                                                                                                                                                                                                                                                                                                                                                                                                                                                                                                                                           Hey guys!\\n\\nWas just thinking about these past two years and how many truly innovative game mechanics I have come across while expanding my collection:\\n\\nMicro-Macro Crime City was something special with its detective-through-time idea.\\n\\nI have a high respect for the auction style in Keyflower.\\n\\nAnd I love the unique “cheating” rules of Schummel Hummel (Cheating Bee) as you ditch cards up your sleeve or behind your back!\\n\\nI wanted to reach out and see what unique mechanisms (possible game recommendations) you all have come across these past few years that are near and dear and fascinating to your board gaming hearts!\\n\\nMany thanks for everything this subreddit does and is! 👍 Innovative and Fresh Mechanics, anyone?\n",
       "11                                                                                                                                                                                                                                                                                                                                                                                                                                                                                                                                                                                                                                                                                                                                                                                                                                                                                                                                                                                                                                                                                                                                                                                                                                                                                                                                                                                                                                                                                                                                                                                                                                                                                          do  From Big Screen to Tabletop: How Board Games Adapt Movies\n",
       "12                                                                                                                                                                                                                                                                                                                                                                                                                                                                                                                                                                                                                                                                                                                                                                                                                                                                                                                                                                                                                                                       So the family and I just got space base and point salad to the table. Space base is genius, especially for a person like myself that loves hitting craps tables. Shy Pluto expansion makes it that much better. The wife loves point salad and the kids 5 and 9 love playing both. We have played either of these every night for the past 2 weeks and are loving it. \\n\\nI just ordered cubitos and can’t wait to dive into that.\\n\\nAEG is killing it for us when it comes to games that peak our interest. Any others from that publisher we should look into? And do the folks here have a favorite publisher they want to mention? I think AEG might have just become my favorite publisher\n",
       "13                                                                                                                                                                                                                                                                                                                                                                                                                                                                                                                                                                                                                                                                                                                                                                                                                                                                                                                                                                                                                                                                                                                                                                                                                                                                                                                                                                                                                                                                                                                                                                                                                                           [removed] White House says Americans deserve 'better information' as allies criticize WHO coronavirus report\n",
       "14                                                                                                                                                                                                                                                                                                                                                                                                                                                                                                                                                                                                                                                                                                                                                                                                                                                                                                                                                                                                                                                                                                                                                                                                                                                                                                                                                                                                                                                                                                                                                                                                                                                                                        [removed] Can anyone help identify the boardgame in this photo?\n",
       "Name: submission_text, dtype: object"
      ]
     },
     "execution_count": 31,
     "metadata": {},
     "output_type": "execute_result"
    }
   ],
   "source": [
    "reddit_df['submission_text'][:15]"
   ]
  },
  {
   "cell_type": "code",
   "execution_count": 27,
   "metadata": {},
   "outputs": [],
   "source": [
    "## we can use tokenizer to just use words\n",
    "#create function to get words only using RegexpTokenizer\n",
    "tokenizer = RegexpTokenizer(r'\\w+') \n",
    "\n",
    "def gettoken(x):\n",
    "    return tokenizer.tokenize(x.lower())\n",
    "\n",
    "def lematize_reddit(col):\n",
    "    lemmatizer = WordNetLemmatizer()\n",
    "    tokens= [word_tokenize(text) for text in reddit_df[f'{col}']]\n",
    "    for i , token in enumerate(tokens):\n",
    "        for word in token:\n",
    "            words = []\n",
    "            words.append(lemmatizer.lemmatize(word))\n",
    "            token = ' '.join(tokens[i])\n",
    "    for i , token in enumerate(tokens):\n",
    "        tokens[i] = ' '.join(tokens[i])\n",
    "        reddit_df[f'{col}'][i]= tokens[i]\n",
    "    return 'Reddit Submission Text Data Lemmatized'"
   ]
  },
  {
   "cell_type": "code",
   "execution_count": 28,
   "metadata": {},
   "outputs": [],
   "source": [
    "#replace resource link = https://stackoverflow.com/questions/39782418/remove-punctuations-in-pandas/39782973\n",
    "# removing the instances of [removed] as the actual post has been removed\n",
    "# reddit_df['submission_text'] = reddit_df['submission_text'].str.replace('[removed]', '',regex = True)"
   ]
  },
  {
   "cell_type": "code",
   "execution_count": 21,
   "metadata": {},
   "outputs": [],
   "source": [
    "# replacing all url links to blank in submissions_text as urls al\n",
    "reddit_df['submission_text'] = reddit_df['submission_text'].str.replace('http.*.com', '',regex = True)\n"
   ]
  },
  {
   "cell_type": "code",
   "execution_count": 21,
   "metadata": {},
   "outputs": [],
   "source": [
    "\n",
    "# replace \\n\\n string to blank in submissions_text\n",
    "reddit_df['submission_text'] = reddit_df['submission_text'].str.replace('\\n\\n', ' ',regex = True)\n"
   ]
  },
  {
   "cell_type": "code",
   "execution_count": 21,
   "metadata": {},
   "outputs": [],
   "source": [
    "\n",
    "# replace 'TT' to blank in submissions_text\n",
    "reddit_df['submission_text'] = reddit_df['submission_text'].str.replace('TT', '',regex = True)\n",
    "\n",
    "# replace punchuations to blank in submissions_text\n",
    "# reddit_df['submission_text'] = reddit_df['submission_text'].str.replace('[^\\w\\s]', ' ',regex = True)"
   ]
  },
  {
   "cell_type": "code",
   "execution_count": 22,
   "metadata": {},
   "outputs": [
    {
     "data": {
      "text/plain": [
       "0                                                                                                                                                                                                                                                                                                                                                                                                                                                                                                                                                                                                                                                                                                                                                                                                                                                                                                                                                                                                                                                                                                                                                                                                                                  cnas nlin\n",
       "1                                                                                                                                                                                                                                                                                                                                                                                                                                                                                                           I was aing th cnts n a Bths Muph i.  Sn pst \"th a chanics I l an s I haaaaaat\" .  That gt  wning if I hat any chanics. Th a s I lik  than ths but I culn't think f any I hat.  Th nly n I ha a pbl with ultipl tis was taing sucs. Th ha bn tis whn a \"cupl\" wul ak ally unfai tas with ach th. It was bius th fal was taing t ak h husban happy.  Ftunatly I a g nugh fins with th t pint this ut. I n fun a sht pcast n this subjct an play it f th. Th t thy us was \"lining\". But I bli this was instancs f ppl abusing/nt playing as intn nt th chanic. I ha a fins wif that fuss t play auctin gas. I just n't gt it. Why? I' gussing it's bcaus sh's nt g at it.  A th chanics yu hat an why? What chanics  yu hat an why?\n",
       "2                                                                                                                                                                                                                                                                                                                                                                                                                                                                                                                                                                                                                                                                                                                                                                                                                                                                                                                                                                                                                                                                                                                                                                        [] Glf Jaquin Niann hlps ais $2.1 illin t sa his infant cusin's lif\n",
       "3                                                                                                                                                                                                                                                                                                                                                                                                                                                                                                                                                                                                                                                                                                                                                                                                                                                                                                                                                                                                                                                                                                   Is it pssibl t buil a ship n th n f an incplt shipping ut that has a piat n th sa hx as th last ship in th incplt ut. Catan Safas Qustin\n",
       "4     **Wlc t //bagas's Daily Discussin an Ga Rcnatins** This is a plac wh yu can ask any an all qustins lating t th ba gaing wl incluing but nt liit t: * gnal  spcific ga cnatins\\n* hlp intifying a ga  ga pic\\n* aic gaing situatin liit t yu (.g, qustins abut a spcific FLGS)\\n* ul claificatins\\n* an th quick qustins that ight nt waant thi wn pst ##Asking f Rcnatins Yu' uch  likly t gt g an psnaliz cnatins if yu tak th ti t fat a wll-wittn ask. W **highly cn** using [this tplat](//bagas/wiki/psnaliz-ga-cnatin-tplat-n-xplain) as a gui. [H is a sin](//bagas/wiki/psnaliz-ga-cnatin-tplat) with aitinal xplanatins in cas th tplat isn't nugh. ##Bl Yu Gas Hlp ppl intify yu ga suggstins asily by aking th nas **bl**. If yu ply t any cnt that has a ga na in **bl** with \"**/u/28 gtpantinf**\", n f u bts will tll yu  abut th ga. ##Aitinal Rsucs * S u sis f [Rcnatin Runups](//bagas/?f=flai_na%3A\"Rcnatin%20Runup\") n a wi aity f tpics ppl ha alay a ga suggstins f.\\n* If yu a nw h, b su t chck ut u [Cunity Guilins](//bagas/wiki/cunity)\\n* F cnatins that tak accssibility cncns int accunt, chck ut [MplLikUs](https://pllikus.c.uk/cn-bta/) an thi cn. Daily Discussin an Ga Rcnatins Tha (Mach 31, 2021)\n",
       "5                                                                                                                                                                                                                                                                                                                                                                                                                                                                                                                                                                                                                                                                                                                                                                                                                                                                                                                                                     What a yu fauits whn yu' playing sl? A th any unfficial sl-aiants that yu ally njy? What a yu lking fwa t play sl? H's th plac f ything lat t sl gas! An if yu want n  sl-lat cntnt, n't fgt t isit th [1 Play Guil](https://bagagk.c/guil/1303) n BGG On-Play Wnsay - (Mach 31, 2021)\n",
       "6                                                                                                                                                                                                                                                                                                                                                                                                                                                                                                                                                                                                                                                                                            A giant, pty bx is $55 with shipping an th wn pl sts a $47 ach (cuiusly, aitinal shipping is $0 f th n if yu a 10 f th t yu plg), althugh yu ay chs t swap ut th plastic inis f th f a $12 iscunt. Kus t th lps f spning t th backs ag t buy what thy' ffing. What thy  ( n't ) will attact citicis. It's t ba th Icbg bx was nt cnci ( ayb pssibl) f th bginning t ai wast an xta xpns. F , psnally, th alu s nt atch th cst f ith, s I will b passing n thi latst ffs. Fstpunk backs, a yu buying th wn builing pls an/ Icbg bx? Why  why nt?\n",
       "7                                                                                                                                                                                                                                                                                                                                                                                                                                                                                                                                                                                                                                                                                                                                                                                                                                                                                                                                                                                                                                                                                                                                                              What a s f th bst spts gas? An has anyn stat lagus bas n  gas? Gas bas n Spts\n",
       "8                                                                                                                                                                                                                                                                                                                                                                                                                                                                                                                                                                                                                                                                                                                                                                                                                                                                                                                                                                                                                                                                                                                                                                                                                        [] Baga intificatin\n",
       "9                                                                                                                                                                                                                                                                                                                                                                                                                                                                                                                                                                                                                                                                                                                                                                                                                                                                                                                                                           I' bn unabl t tack wn a cpy f Fils f Al at any ga sts na   any Canaian nlin sts. I was supis at hw any f th sts I call that ha n ia what ga I was talking abut. Was th ga nt ppula whn it was publish? Is th nugh an nw that it cul a gt a pint un? Is Fils f Al likly t b pint?\n",
       "10                                                                                                                                                                                                                                                                                                                                                                                                                                                                                                                                                                                                                                                                                        Hy guys! Was just thinking abut ths past tw yas an hw any tuly innati ga chanics I ha c acss whil xpaning y cllctin: Mic-Mac Ci City was sthing spcial with its tcti-thugh-ti ia. I ha a high spct f th auctin styl in Kyflw. An I l th uniqu “chating” uls f Schul Hul (Chating B) as yu itch cas up yu sl  bhin yu back! I want t ach ut an s what uniqu chaniss (pssibl ga cnatins) yu all ha c acss ths past fw yas that a na an a an fascinating t yu ba gaing hats! Many thanks f ything this subit s an is! 👍 Innati an Fsh Mchanics, anyn?\n",
       "11                                                                                                                                                                                                                                                                                                                                                                                                                                                                                                                                                                                                                                                                                                                                                                                                                                                                                                                                                                                                                                                                                                                                                                                                    F Big Scn t Tabltp: Hw Ba Gas Aapt Mis\n",
       "12                                                                                                                                                                                                                                                                                                                                                                                                                                                                                                                                                                                                                                                                                                              S th faily an I just gt spac bas an pint sala t th tabl. Spac bas is gnius, spcially f a psn lik yslf that ls hitting caps tabls. Shy Plut xpansin aks it that uch btt. Th wif ls pint sala an th kis 5 an 9 l playing bth. W ha play ith f ths y night f th past 2 wks an a ling it.  I just  cubits an can’t wait t i int that. AEG is killing it f us whn it cs t gas that pak u intst. Any ths f that publish w shul lk int? An  th flks h ha a fait publish thy want t ntin? I think AEG ight ha just bc y fait publish\n",
       "13                                                                                                                                                                                                                                                                                                                                                                                                                                                                                                                                                                                                                                                                                                                                                                                                                                                                                                                                                                                                                                                                                                                                                                    [] Whit Hus says Aicans s 'btt infatin' as allis citiciz WHO cnaius pt\n",
       "14                                                                                                                                                                                                                                                                                                                                                                                                                                                                                                                                                                                                                                                                                                                                                                                                                                                                                                                                                                                                                                                                                                                                                                                               [] Can anyn hlp intify th baga in this pht?\n",
       "Name: submission_text, dtype: object"
      ]
     },
     "execution_count": 22,
     "metadata": {},
     "output_type": "execute_result"
    }
   ],
   "source": [
    "#check for few records\n",
    "reddit_df['submission_text'][:15]"
   ]
  },
  {
   "cell_type": "code",
   "execution_count": 38,
   "metadata": {},
   "outputs": [],
   "source": [
    "#tokenize the words using function above\n",
    "reddit_df['submission_text']=reddit_df['submission_text'].map(gettoken)"
   ]
  },
  {
   "cell_type": "code",
   "execution_count": 36,
   "metadata": {},
   "outputs": [
    {
     "data": {
      "text/plain": [
       "'Reddit Submission Text Data Lemmatized'"
      ]
     },
     "execution_count": 36,
     "metadata": {},
     "output_type": "execute_result"
    }
   ],
   "source": [
    "lematize_reddit ('submission_text')"
   ]
  },
  {
   "cell_type": "code",
   "execution_count": 39,
   "metadata": {},
   "outputs": [
    {
     "data": {
      "text/plain": [
       "0                                                                                                                                                                                                                                                                                                                                                                                                                                                                                                                                                                                                                                                                                                                [do, codenames, online]\n",
       "1                                                                                    [i, was, reading, the, comments, on, a, brothers, murph, video, someone, posted, there, are, mechanics, i, love, and, some, i, haaaaaate, that, got, me, wondering, if, i, hated, any, mechanics, there, are, some, i, like, more, than, others, but, i, could, n, t, think, of, any, i, hate, the, only, one, i, had, a, problem, with, multiple, times, was, trading, resources, there, have, been, times, when, a, couple, would, make, really, unfair, trades, with, each, other, it, was, obvious, the, female, was, trading, to, make, her, husband, happy, fortunately, i, am, good, enough, friends, with, them, to, point, this, out, ...]\n",
       "2                                                                                                                                                                                                                                                                                                                                                                                                                                                                                                                                                                                                                               [removed, golfer, joaquin, niemann, helps, raise, 2, 1, million, to, save, his, infant, cousin, s, life]\n",
       "3                                                                                                                                                                                                                                                                                                                                                                                                                                                                                                                       [is, it, possible, to, build, a, ship, on, the, end, of, an, incomplete, shipping, route, that, has, a, pirate, on, the, same, hex, as, the, last, ship, in, the, incomplete, route, catan, seafarers, question]\n",
       "4     [welcome, to, r, boardgames, s, daily, discussion, and, game, recommendations, this, is, a, place, where, you, can, ask, any, and, all, questions, relating, to, the, board, gaming, world, including, but, not, limited, to, general, or, specific, game, recommendations, help, identifying, a, game, or, game, piece, advice, regarding, situation, limited, to, you, e, g, questions, about, a, specific, flgs, rule, clarifications, and, other, quick, questions, that, might, not, warrant, their, own, post, asking, for, recommendations, you, re, much, more, likely, to, get, good, and, personalized, recommendations, if, you, take, the, time, to, format, a, well, written, ask, we, highly, recommend, using, ...]\n",
       "5                                                                                                                                                                                                                                                                           [what, are, your, favourites, when, you, re, playing, solo, are, there, any, unofficial, solo, variants, that, you, really, enjoyed, what, are, you, looking, forward, to, play, solo, here, s, the, place, for, everything, related, to, solo, games, and, if, you, want, even, more, solo, related, content, do, n, t, forget, to, visit, the, 1, player, guild, https, boardgamegeek, com, guild, 1303, on, bgg, one, player, wednesday, march, 31, 2021]\n",
       "6                                                                                                [a, giant, empty, box, is, 55, with, shipping, and, the, wooden, meeple, sets, are, 47, each, curiously, additional, shipping, is, 0, for, them, even, if, you, add, 10, of, them, to, your, pledge, although, you, may, choose, to, swap, out, the, plastic, minis, for, them, for, a, 12, discount, kudos, to, the, developers, for, responding, to, the, backers, eager, to, buy, what, they, re, offering, whatever, they, do, or, do, n, t, do, will, attract, criticism, it, s, too, bad, the, iceberg, box, was, not, conceived, or, maybe, possible, from, the, beginning, to, avoid, waste, and, extra, expense, for, me, ...]\n",
       "7                                                                                                                                                                                                                                                                                                                                                                                                                                                                                                                                                                                                        [what, are, some, of, the, best, sports, games, and, has, anyone, started, leagues, based, on, games, games, based, on, sports]\n",
       "8                                                                                                                                                                                                                                                                                                                                                                                                                                                                                                                                                                                                                                                                                                   [removed, boardgame, identification]\n",
       "9                                                                                                                                                                                                                                                                                      [i, ve, been, unable, to, track, down, a, copy, of, fields, of, arle, at, any, game, stores, near, me, or, any, canadian, online, stores, i, was, surprised, at, how, many, of, the, stores, i, called, that, had, no, idea, what, game, i, was, talking, about, was, the, game, not, popular, when, it, was, published, is, there, enough, demand, now, that, it, could, a, get, a, print, run, is, fields, of, arle, likely, to, be, reprinted]\n",
       "10                                       [hey, guys, was, just, thinking, about, these, past, two, years, and, how, many, truly, innovative, game, mechanics, i, have, come, across, while, expanding, my, collection, micro, macro, crime, city, was, something, special, with, its, detective, through, time, idea, i, have, a, high, respect, for, the, auction, style, in, keyflower, and, i, love, the, unique, cheating, rules, of, schummel, hummel, cheating, bee, as, you, ditch, cards, up, your, sleeve, or, behind, your, back, i, wanted, to, reach, out, and, see, what, unique, mechanisms, possible, game, recommendations, you, all, have, come, across, these, past, few, years, that, are, near, and, dear, and, ...]\n",
       "11                                                                                                                                                                                                                                                                                                                                                                                                                                                                                                                                                                                                                                                               [do, from, big, screen, to, tabletop, how, board, games, adapt, movies]\n",
       "12                                                                                                         [so, the, family, and, i, just, got, space, base, and, point, salad, to, the, table, space, base, is, genius, especially, for, a, person, like, myself, that, loves, hitting, craps, tables, shy, pluto, expansion, makes, it, that, much, better, the, wife, loves, point, salad, and, the, kids, 5, and, 9, love, playing, both, we, have, played, either, of, these, every, night, for, the, past, 2, weeks, and, are, loving, it, i, just, ordered, cubitos, and, can, t, wait, to, dive, into, that, aeg, is, killing, it, for, us, when, it, comes, to, games, that, peak, our, interest, any, others, from, that, ...]\n",
       "13                                                                                                                                                                                                                                                                                                                                                                                                                                                                                                                                                                                                               [removed, white, house, says, americans, deserve, better, information, as, allies, criticize, who, coronavirus, report]\n",
       "14                                                                                                                                                                                                                                                                                                                                                                                                                                                                                                                                                                                                                                                               [removed, can, anyone, help, identify, the, boardgame, in, this, photo]\n",
       "Name: submission_text, dtype: object"
      ]
     },
     "execution_count": 39,
     "metadata": {},
     "output_type": "execute_result"
    }
   ],
   "source": [
    "#check sample records again\n",
    "reddit_df['submission_text'][:15]"
   ]
  },
  {
   "cell_type": "code",
   "execution_count": 40,
   "metadata": {},
   "outputs": [],
   "source": [
    "#drop the columns selftext and title that we no longer need\n",
    "reddit_df.drop(columns=['selftext', 'title'], inplace=True)"
   ]
  },
  {
   "cell_type": "code",
   "execution_count": 41,
   "metadata": {},
   "outputs": [],
   "source": [
    "reddit_df.to_csv('./datasets/redditready.csv', index=False)"
   ]
  },
  {
   "cell_type": "code",
   "execution_count": null,
   "metadata": {},
   "outputs": [],
   "source": []
  },
  {
   "cell_type": "code",
   "execution_count": null,
   "metadata": {},
   "outputs": [],
   "source": []
  },
  {
   "cell_type": "code",
   "execution_count": null,
   "metadata": {},
   "outputs": [],
   "source": []
  }
 ],
 "metadata": {
  "kernelspec": {
   "display_name": "Python 3",
   "language": "python",
   "name": "python3"
  },
  "language_info": {
   "codemirror_mode": {
    "name": "ipython",
    "version": 3
   },
   "file_extension": ".py",
   "mimetype": "text/x-python",
   "name": "python",
   "nbconvert_exporter": "python",
   "pygments_lexer": "ipython3",
   "version": "3.8.5"
  }
 },
 "nbformat": 4,
 "nbformat_minor": 4
}
