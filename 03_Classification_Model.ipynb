{
 "cells": [
  {
   "cell_type": "markdown",
   "metadata": {},
   "source": [
    "<img src=\"http://imgur.com/1ZcRyrc.png\" style=\"float: left; margin: 20px; height: 55px\" />\n",
    "\n",
    "# # Project 3 : Web API and NLP - Classification Models and Final Summary"
   ]
  },
  {
   "cell_type": "markdown",
   "metadata": {},
   "source": [
    "## Overview:\n",
    "\n",
    "** As part of this project, created 3 notebooks **\n",
    "\n",
    "1. <a href=\"01_Data_Gathering.ipynb\" Title=\"Data Gathering\">01_Data_Gathering</a> - reads the API and runs in a loop with timer to get 100 submissions at a time. Used gaming section with - boardgames (1400), fallout (1600), rocketleague(1500) and destinythegame (400 rows) to use a total of 4900 rows.\n",
    "2. <a href=\"02_NLP.ipynb\" Title=\"NLP\">02_NLP</a> - notebook represents EDA and NLP processing\n",
    "3. <a href=\"03_Classification_Model.ipynb\" Title=\"Models\">03_Classification_Models</a> - Pulls the csv saved to create different classification models and get predictions with scores.\n",
    "\n",
    "For Classification notebook, we will perform the following:\n",
    "\n",
    "1. Since this is multi-classification problem, MultinomialNB and SVC models have been chosen as they work best with multi classifier problems and are faster to evaluate. We can additionally evaluate for XGBClassifier from xgboost.\n",
    "2. Read csv that has been cleaned with NLP techniques and ready to be modeled\n",
    "3. Define X and y and get the train, test split from X and y\n",
    "4. Created first model using Naïve Bayes theorem, Multinomial with GridSearchCV Pipeline/CountVectorizer \n",
    "5. Create second model using SVM - support vector classifier with GridSearchCV/CountVectorizer and tuned hyper pararmeters.\n",
    "6. Created third model using Naïve Bayes theorem, Multinomial with GridSearchCV Pipeline/TfidfVectorizer"
   ]
  },
  {
   "cell_type": "markdown",
   "metadata": {},
   "source": [
    "## Part 1: Imports and Read"
   ]
  },
  {
   "cell_type": "code",
   "execution_count": 1,
   "metadata": {},
   "outputs": [],
   "source": [
    "#imports\n",
    "import pandas as pd\n",
    "import numpy as np\n",
    "\n",
    "from sklearn.feature_extraction import text\n",
    "\n",
    "from sklearn.model_selection import cross_val_score, KFold, train_test_split, GridSearchCV\n",
    "from sklearn.naive_bayes import MultinomialNB\n",
    "from sklearn.feature_extraction.text import CountVectorizer, TfidfVectorizer\n",
    "from sklearn.pipeline import Pipeline\n",
    "from sklearn.metrics import confusion_matrix, ConfusionMatrixDisplay, classification_report\n",
    "from sklearn.svm import SVC\n",
    "\n",
    "from xgboost import XGBClassifier\n",
    "from sklearn.ensemble import RandomForestClassifier\n"
   ]
  },
  {
   "cell_type": "code",
   "execution_count": 2,
   "metadata": {},
   "outputs": [
    {
     "data": {
      "text/html": [
       "<div>\n",
       "<style scoped>\n",
       "    .dataframe tbody tr th:only-of-type {\n",
       "        vertical-align: middle;\n",
       "    }\n",
       "\n",
       "    .dataframe tbody tr th {\n",
       "        vertical-align: top;\n",
       "    }\n",
       "\n",
       "    .dataframe thead th {\n",
       "        text-align: right;\n",
       "    }\n",
       "</style>\n",
       "<table border=\"1\" class=\"dataframe\">\n",
       "  <thead>\n",
       "    <tr style=\"text-align: right;\">\n",
       "      <th></th>\n",
       "      <th>subreddit</th>\n",
       "      <th>submission_text</th>\n",
       "      <th>post_word_count</th>\n",
       "      <th>post_char_count</th>\n",
       "      <th>post_length</th>\n",
       "    </tr>\n",
       "  </thead>\n",
       "  <tbody>\n",
       "    <tr>\n",
       "      <th>0</th>\n",
       "      <td>boardgames</td>\n",
       "      <td>do codenames online</td>\n",
       "      <td>3</td>\n",
       "      <td>17</td>\n",
       "      <td>19</td>\n",
       "    </tr>\n",
       "    <tr>\n",
       "      <th>1</th>\n",
       "      <td>boardgames</td>\n",
       "      <td>I was reading the comments on a Brothers Murph...</td>\n",
       "      <td>179</td>\n",
       "      <td>733</td>\n",
       "      <td>911</td>\n",
       "    </tr>\n",
       "    <tr>\n",
       "      <th>2</th>\n",
       "      <td>boardgames</td>\n",
       "      <td>Welcome to r boardgames s Daily Discussion and...</td>\n",
       "      <td>239</td>\n",
       "      <td>1233</td>\n",
       "      <td>1471</td>\n",
       "    </tr>\n",
       "    <tr>\n",
       "      <th>3</th>\n",
       "      <td>boardgames</td>\n",
       "      <td>What are your favourites when you re playing s...</td>\n",
       "      <td>65</td>\n",
       "      <td>285</td>\n",
       "      <td>349</td>\n",
       "    </tr>\n",
       "    <tr>\n",
       "      <th>4</th>\n",
       "      <td>boardgames</td>\n",
       "      <td>A giant empty box is 55 with shipping and the ...</td>\n",
       "      <td>135</td>\n",
       "      <td>569</td>\n",
       "      <td>703</td>\n",
       "    </tr>\n",
       "  </tbody>\n",
       "</table>\n",
       "</div>"
      ],
      "text/plain": [
       "    subreddit                                    submission_text  \\\n",
       "0  boardgames                                do codenames online   \n",
       "1  boardgames  I was reading the comments on a Brothers Murph...   \n",
       "2  boardgames  Welcome to r boardgames s Daily Discussion and...   \n",
       "3  boardgames  What are your favourites when you re playing s...   \n",
       "4  boardgames  A giant empty box is 55 with shipping and the ...   \n",
       "\n",
       "   post_word_count  post_char_count  post_length  \n",
       "0                3               17           19  \n",
       "1              179              733          911  \n",
       "2              239             1233         1471  \n",
       "3               65              285          349  \n",
       "4              135              569          703  "
      ]
     },
     "execution_count": 2,
     "metadata": {},
     "output_type": "execute_result"
    }
   ],
   "source": [
    "#read the csv\n",
    "reddit_df = pd.read_csv(\"datasets/redditready.csv\")\n",
    "reddit_df.head()"
   ]
  },
  {
   "cell_type": "code",
   "execution_count": 3,
   "metadata": {},
   "outputs": [
    {
     "data": {
      "text/plain": [
       "(4091, 5)"
      ]
     },
     "execution_count": 3,
     "metadata": {},
     "output_type": "execute_result"
    }
   ],
   "source": [
    "#get the current shape\n",
    "reddit_df.shape"
   ]
  },
  {
   "cell_type": "markdown",
   "metadata": {},
   "source": [
    "## Part 2: Create functions used most commonly"
   ]
  },
  {
   "cell_type": "code",
   "execution_count": 4,
   "metadata": {},
   "outputs": [],
   "source": [
    "#created functions for repeated tasks\n",
    "#resources: https://stackoverflow.com/questions/39662398/scikit-learn-output-metrics-classification-report-into-csv-tab-delimited-format'''\n",
    " \n",
    "# 1. train_test_split function, returns X and y train and test data\n",
    "def tt_split ():\n",
    "    \n",
    "    X = reddit_df['submission_text']\n",
    "    y = reddit_df['subreddit']\n",
    "\n",
    "    X_train, X_test, y_train, y_test=train_test_split(X, y, test_size=.25,\n",
    "                                                     stratify=y, random_state=42)\n",
    "    \n",
    "    return X_train, X_test, y_train, y_test\n",
    "\n",
    "#2. print accuracy scores in notebook\n",
    "def print_scores(acc_train_score, acc_test_score):\n",
    "    print(f'Accuracy score on Train Data: {acc_train_score}')\n",
    "    print(f'Accuracy score on Test Data: {acc_test_score}')\n",
    "    \n",
    "#3. print classification report in a dataframe for each model\n",
    "def get_clf_report(ytest, ypred):\n",
    "    \n",
    "    report = classification_report(ytest, ypred, output_dict=True)\n",
    "    #creating dataframe\n",
    "    df = pd.DataFrame(report).transpose()\n",
    "    #sorting by f1-score\n",
    "    df = df.sort_values(by=['f1-score'], ascending=False)\n",
    "    return df"
   ]
  },
  {
   "cell_type": "code",
   "execution_count": 5,
   "metadata": {},
   "outputs": [],
   "source": [
    "#add own stop words\n",
    "#setup custom stop words that are not relevant for our context.\n",
    "my_stop = ['game', 'games', 'board', 'fallout', 'rocket', 'league', 'dont', 'does', 'know', 'new',\n",
    "          'amp','auto', 'format', 'x200b', 'jpg', 'pjpg', 'https', 've', 'wan', 'na', 'feel', 'feels',\n",
    "          'played', 'player', 'just', 'think', 'just', 'play', 'got','playing', 'don', 'card', 'people', \n",
    "           'players', 'thanks']\n",
    "stop_words = text.ENGLISH_STOP_WORDS.union(my_stop)"
   ]
  },
  {
   "cell_type": "code",
   "execution_count": 6,
   "metadata": {},
   "outputs": [
    {
     "data": {
      "text/plain": [
       "RocketLeague    0.346041\n",
       "Fallout         0.342131\n",
       "boardgames      0.311828\n",
       "Name: subreddit, dtype: float64"
      ]
     },
     "execution_count": 6,
     "metadata": {},
     "output_type": "execute_result"
    }
   ],
   "source": [
    "#Getting the baseline for y_test\n",
    "X_train, X_test, y_train, y_test = tt_split()\n",
    "y_test.value_counts(normalize=True)"
   ]
  },
  {
   "cell_type": "markdown",
   "metadata": {},
   "source": [
    "### Summary:\n",
    "\n",
    "1. Created common functions above on train_test_split and print our scores\n",
    "2. Created the base line for y_test \n",
    "| Game category  | baseline  |\n",
    "|---|---|\n",
    "| Fallout |  0.342131 |\n",
    "| RocketLeague | 0.346041  |\n",
    "| boardgames | 0.311828 |\n"
   ]
  },
  {
   "cell_type": "markdown",
   "metadata": {},
   "source": [
    "## Part 2: MultinomialNB Classifier with GridSearchCV/Pipeline/CountVectorizer"
   ]
  },
  {
   "cell_type": "code",
   "execution_count": 7,
   "metadata": {},
   "outputs": [],
   "source": [
    "#calling tt_split function to get test and train data\n",
    "X_train, X_test, y_train, y_test = tt_split()"
   ]
  },
  {
   "cell_type": "code",
   "execution_count": 8,
   "metadata": {},
   "outputs": [],
   "source": [
    "#Setup pipeline and params for our GridSearchCV\n",
    "pipe = Pipeline([('cvec', CountVectorizer(stop_words=stop_words)),\n",
    "                ('nb', MultinomialNB())\n",
    "                ])\n",
    "        \n",
    "pipe_params = {\n",
    "               'cvec__max_features': [3_000, 4_000],\n",
    "               'cvec__min_df': [1, 2],\n",
    "               'cvec__max_df': [.85, .9, .95],\n",
    "               'cvec__ngram_range': [(1,1), (1,2)]\n",
    "                }\n",
    "\n",
    "#initiate GridSearchCV\n",
    "gs = GridSearchCV(estimator=pipe, param_grid=pipe_params, cv=5)"
   ]
  },
  {
   "cell_type": "code",
   "execution_count": 9,
   "metadata": {},
   "outputs": [
    {
     "data": {
      "text/plain": [
       "GridSearchCV(cv=5,\n",
       "             estimator=Pipeline(steps=[('cvec',\n",
       "                                        CountVectorizer(stop_words=frozenset({'a',\n",
       "                                                                              'about',\n",
       "                                                                              'above',\n",
       "                                                                              'across',\n",
       "                                                                              'after',\n",
       "                                                                              'afterwards',\n",
       "                                                                              'again',\n",
       "                                                                              'against',\n",
       "                                                                              'all',\n",
       "                                                                              'almost',\n",
       "                                                                              'alone',\n",
       "                                                                              'along',\n",
       "                                                                              'already',\n",
       "                                                                              'also',\n",
       "                                                                              'although',\n",
       "                                                                              'always',\n",
       "                                                                              'am',\n",
       "                                                                              'among',\n",
       "                                                                              'amongst',\n",
       "                                                                              'amoungst',\n",
       "                                                                              'amount',\n",
       "                                                                              'amp',\n",
       "                                                                              'an',\n",
       "                                                                              'and',\n",
       "                                                                              'another',\n",
       "                                                                              'any',\n",
       "                                                                              'anyhow',\n",
       "                                                                              'anyone',\n",
       "                                                                              'anything',\n",
       "                                                                              'anyway', ...}))),\n",
       "                                       ('nb', MultinomialNB())]),\n",
       "             param_grid={'cvec__max_df': [0.85, 0.9, 0.95],\n",
       "                         'cvec__max_features': [3000, 4000],\n",
       "                         'cvec__min_df': [1, 2],\n",
       "                         'cvec__ngram_range': [(1, 1), (1, 2)]})"
      ]
     },
     "execution_count": 9,
     "metadata": {},
     "output_type": "execute_result"
    }
   ],
   "source": [
    "# Fit the train data\n",
    "gs.fit(X_train, y_train)"
   ]
  },
  {
   "cell_type": "code",
   "execution_count": 10,
   "metadata": {},
   "outputs": [
    {
     "data": {
      "text/plain": [
       "{'cvec__max_df': 0.85,\n",
       " 'cvec__max_features': 4000,\n",
       " 'cvec__min_df': 1,\n",
       " 'cvec__ngram_range': (1, 2)}"
      ]
     },
     "execution_count": 10,
     "metadata": {},
     "output_type": "execute_result"
    }
   ],
   "source": [
    "gs.best_params_"
   ]
  },
  {
   "cell_type": "code",
   "execution_count": 11,
   "metadata": {},
   "outputs": [
    {
     "name": "stdout",
     "output_type": "stream",
     "text": [
      "Accuracy score on Train Data: 0.8604954367666232\n",
      "Accuracy score on Test Data: 0.7966764418377321\n"
     ]
    }
   ],
   "source": [
    "#print our scores, call function\n",
    "print_scores (gs.score(X_train, y_train), gs.score(X_test, y_test))"
   ]
  },
  {
   "cell_type": "code",
   "execution_count": 12,
   "metadata": {},
   "outputs": [],
   "source": [
    "#Get predictions\n",
    "y_pred = gs.predict(X_test)"
   ]
  },
  {
   "cell_type": "code",
   "execution_count": 13,
   "metadata": {},
   "outputs": [
    {
     "data": {
      "text/html": [
       "<div>\n",
       "<style scoped>\n",
       "    .dataframe tbody tr th:only-of-type {\n",
       "        vertical-align: middle;\n",
       "    }\n",
       "\n",
       "    .dataframe tbody tr th {\n",
       "        vertical-align: top;\n",
       "    }\n",
       "\n",
       "    .dataframe thead th {\n",
       "        text-align: right;\n",
       "    }\n",
       "</style>\n",
       "<table border=\"1\" class=\"dataframe\">\n",
       "  <thead>\n",
       "    <tr style=\"text-align: right;\">\n",
       "      <th></th>\n",
       "      <th>precision</th>\n",
       "      <th>recall</th>\n",
       "      <th>f1-score</th>\n",
       "      <th>support</th>\n",
       "    </tr>\n",
       "  </thead>\n",
       "  <tbody>\n",
       "    <tr>\n",
       "      <th>RocketLeague</th>\n",
       "      <td>0.751174</td>\n",
       "      <td>0.903955</td>\n",
       "      <td>0.820513</td>\n",
       "      <td>354.000000</td>\n",
       "    </tr>\n",
       "    <tr>\n",
       "      <th>boardgames</th>\n",
       "      <td>0.858621</td>\n",
       "      <td>0.780564</td>\n",
       "      <td>0.817734</td>\n",
       "      <td>319.000000</td>\n",
       "    </tr>\n",
       "    <tr>\n",
       "      <th>accuracy</th>\n",
       "      <td>0.796676</td>\n",
       "      <td>0.796676</td>\n",
       "      <td>0.796676</td>\n",
       "      <td>0.796676</td>\n",
       "    </tr>\n",
       "    <tr>\n",
       "      <th>macro avg</th>\n",
       "      <td>0.803699</td>\n",
       "      <td>0.795792</td>\n",
       "      <td>0.795702</td>\n",
       "      <td>1023.000000</td>\n",
       "    </tr>\n",
       "    <tr>\n",
       "      <th>weighted avg</th>\n",
       "      <td>0.801829</td>\n",
       "      <td>0.796676</td>\n",
       "      <td>0.795131</td>\n",
       "      <td>1023.000000</td>\n",
       "    </tr>\n",
       "    <tr>\n",
       "      <th>Fallout</th>\n",
       "      <td>0.801303</td>\n",
       "      <td>0.702857</td>\n",
       "      <td>0.748858</td>\n",
       "      <td>350.000000</td>\n",
       "    </tr>\n",
       "  </tbody>\n",
       "</table>\n",
       "</div>"
      ],
      "text/plain": [
       "              precision    recall  f1-score      support\n",
       "RocketLeague   0.751174  0.903955  0.820513   354.000000\n",
       "boardgames     0.858621  0.780564  0.817734   319.000000\n",
       "accuracy       0.796676  0.796676  0.796676     0.796676\n",
       "macro avg      0.803699  0.795792  0.795702  1023.000000\n",
       "weighted avg   0.801829  0.796676  0.795131  1023.000000\n",
       "Fallout        0.801303  0.702857  0.748858   350.000000"
      ]
     },
     "execution_count": 13,
     "metadata": {},
     "output_type": "execute_result"
    }
   ],
   "source": [
    "#Get classification report, call function\n",
    "get_clf_report(y_test, y_pred)"
   ]
  },
  {
   "cell_type": "code",
   "execution_count": 14,
   "metadata": {},
   "outputs": [],
   "source": [
    "# Save confusion matrix values\n",
    "cm = confusion_matrix(y_test, y_pred)"
   ]
  },
  {
   "cell_type": "code",
   "execution_count": 15,
   "metadata": {},
   "outputs": [
    {
     "data": {
      "image/png": "[encoded data removed]",
      "text/plain": [
       "<Figure size 432x288 with 2 Axes>"
      ]
     },
     "metadata": {
      "needs_background": "light"
     },
     "output_type": "display_data"
    }
   ],
   "source": [
    "ConfusionMatrixDisplay(cm).plot();"
   ]
  },
  {
   "cell_type": "markdown",
   "metadata": {},
   "source": [
    "### Summary\n",
    "\n",
    "**Best hyper parameters for MultinomialNB with CountVectoizer are:**\n",
    "\n",
    "1. max_df = 0.85\n",
    "2. max_features = 4000\n",
    "3. min_df = 1\n",
    "4. ngram_range = (1, 1)\n",
    "\n",
    "Even though the model was tuned with hyperparameters and used the best params, the model performed at 79% accuracy score. The model was overfit as the train scores are over than test scores.\n",
    "\n",
    "- Accuracy score on Train Data: 0.8604954367666232\n",
    "- Accuracy score on Test Data: 0.7966764418377321\n",
    "\n",
    "\n",
    "|--|precision|recall|f1-score|support|\n",
    "|---|---|---|---|---|\n",
    "|RocketLeague|0.751174|0.903955|0.820513|354.000000|\n",
    "|boardgames|0.858621|0.780564|0.817734|319.000000|\n",
    "|Fallout|0.801303|0.702857|0.748858|350.000000|"
   ]
  },
  {
   "cell_type": "markdown",
   "metadata": {},
   "source": [
    "## Part 3: Support Vector Machine Model with hyper parameters, GridSearchCV/CountVectorizer"
   ]
  },
  {
   "cell_type": "code",
   "execution_count": 16,
   "metadata": {},
   "outputs": [],
   "source": [
    "# call function to get train_test_split\n",
    "X_train, X_test, y_train, y_test = tt_split()"
   ]
  },
  {
   "cell_type": "code",
   "execution_count": 17,
   "metadata": {},
   "outputs": [],
   "source": [
    "#transform using CountVectorizer\n",
    "cvec = CountVectorizer(stop_words=stop_words, \n",
    "                    ngram_range=(1,2),\n",
    "                    min_df=2\n",
    "                   )\n",
    "\n",
    "cvec.fit(X_train)\n",
    "X_train = cvec.transform(X_train)\n",
    "X_test = cvec.transform(X_test)"
   ]
  },
  {
   "cell_type": "code",
   "execution_count": 18,
   "metadata": {},
   "outputs": [],
   "source": [
    "# hyper parameter tuning\n",
    "pipe_params = {\n",
    "    'C': np.linspace(0.0001, 1, 20),\n",
    "    'kernel': ['linear', 'rbf'],\n",
    "    'degree': [2],\n",
    "    'gamma' : ['scale']\n",
    "}\n",
    "# #instantiate support vector classifier\n",
    "svc = SVC()\n",
    "# #instantiate GridSearchCV with njobs=8\n",
    "gs = GridSearchCV(estimator=svc, param_grid = pipe_params, n_jobs=8, verbose=1)"
   ]
  },
  {
   "cell_type": "code",
   "execution_count": 19,
   "metadata": {},
   "outputs": [
    {
     "name": "stdout",
     "output_type": "stream",
     "text": [
      "Fitting 5 folds for each of 40 candidates, totalling 200 fits\n"
     ]
    },
    {
     "name": "stderr",
     "output_type": "stream",
     "text": [
      "[Parallel(n_jobs=8)]: Using backend LokyBackend with 8 concurrent workers.\n",
      "[Parallel(n_jobs=8)]: Done  34 tasks      | elapsed:   18.7s\n",
      "[Parallel(n_jobs=8)]: Done 184 tasks      | elapsed:  1.4min\n",
      "[Parallel(n_jobs=8)]: Done 200 out of 200 | elapsed:  1.5min finished\n"
     ]
    },
    {
     "data": {
      "text/plain": [
       "GridSearchCV(estimator=SVC(), n_jobs=8,\n",
       "             param_grid={'C': array([1.00000000e-04, 5.27263158e-02, 1.05352632e-01, 1.57978947e-01,\n",
       "       2.10605263e-01, 2.63231579e-01, 3.15857895e-01, 3.68484211e-01,\n",
       "       4.21110526e-01, 4.73736842e-01, 5.26363158e-01, 5.78989474e-01,\n",
       "       6.31615789e-01, 6.84242105e-01, 7.36868421e-01, 7.89494737e-01,\n",
       "       8.42121053e-01, 8.94747368e-01, 9.47373684e-01, 1.00000000e+00]),\n",
       "                         'degree': [2], 'gamma': ['scale'],\n",
       "                         'kernel': ['linear', 'rbf']},\n",
       "             verbose=1)"
      ]
     },
     "execution_count": 19,
     "metadata": {},
     "output_type": "execute_result"
    }
   ],
   "source": [
    "#fit Train data to our model\n",
    "gs.fit(X_train,y_train) "
   ]
  },
  {
   "cell_type": "code",
   "execution_count": 20,
   "metadata": {},
   "outputs": [
    {
     "data": {
      "text/plain": [
       "{'C': 0.5263631578947369, 'degree': 2, 'gamma': 'scale', 'kernel': 'linear'}"
      ]
     },
     "execution_count": 20,
     "metadata": {},
     "output_type": "execute_result"
    }
   ],
   "source": [
    "#get best params\n",
    "gs.best_params_"
   ]
  },
  {
   "cell_type": "code",
   "execution_count": 21,
   "metadata": {},
   "outputs": [
    {
     "name": "stdout",
     "output_type": "stream",
     "text": [
      "Accuracy score on Train Data: 0.9722946544980443\n",
      "Accuracy score on Test Data: 0.7438905180840665\n"
     ]
    }
   ],
   "source": [
    "#print our scores, call function\n",
    "print_scores (gs.score(X_train, y_train), gs.score(X_test, y_test))"
   ]
  },
  {
   "cell_type": "code",
   "execution_count": 22,
   "metadata": {},
   "outputs": [],
   "source": [
    "#Get predictions\n",
    "y_pred = gs.predict(X_test)"
   ]
  },
  {
   "cell_type": "code",
   "execution_count": 23,
   "metadata": {},
   "outputs": [
    {
     "data": {
      "text/html": [
       "<div>\n",
       "<style scoped>\n",
       "    .dataframe tbody tr th:only-of-type {\n",
       "        vertical-align: middle;\n",
       "    }\n",
       "\n",
       "    .dataframe tbody tr th {\n",
       "        vertical-align: top;\n",
       "    }\n",
       "\n",
       "    .dataframe thead th {\n",
       "        text-align: right;\n",
       "    }\n",
       "</style>\n",
       "<table border=\"1\" class=\"dataframe\">\n",
       "  <thead>\n",
       "    <tr style=\"text-align: right;\">\n",
       "      <th></th>\n",
       "      <th>precision</th>\n",
       "      <th>recall</th>\n",
       "      <th>f1-score</th>\n",
       "      <th>support</th>\n",
       "    </tr>\n",
       "  </thead>\n",
       "  <tbody>\n",
       "    <tr>\n",
       "      <th>RocketLeague</th>\n",
       "      <td>0.681128</td>\n",
       "      <td>0.887006</td>\n",
       "      <td>0.770552</td>\n",
       "      <td>354.000000</td>\n",
       "    </tr>\n",
       "    <tr>\n",
       "      <th>boardgames</th>\n",
       "      <td>0.859375</td>\n",
       "      <td>0.689655</td>\n",
       "      <td>0.765217</td>\n",
       "      <td>319.000000</td>\n",
       "    </tr>\n",
       "    <tr>\n",
       "      <th>accuracy</th>\n",
       "      <td>0.743891</td>\n",
       "      <td>0.743891</td>\n",
       "      <td>0.743891</td>\n",
       "      <td>0.743891</td>\n",
       "    </tr>\n",
       "    <tr>\n",
       "      <th>macro avg</th>\n",
       "      <td>0.760778</td>\n",
       "      <td>0.741744</td>\n",
       "      <td>0.742614</td>\n",
       "      <td>1023.000000</td>\n",
       "    </tr>\n",
       "    <tr>\n",
       "      <th>weighted avg</th>\n",
       "      <td>0.757478</td>\n",
       "      <td>0.743891</td>\n",
       "      <td>0.742039</td>\n",
       "      <td>1023.000000</td>\n",
       "    </tr>\n",
       "    <tr>\n",
       "      <th>Fallout</th>\n",
       "      <td>0.741830</td>\n",
       "      <td>0.648571</td>\n",
       "      <td>0.692073</td>\n",
       "      <td>350.000000</td>\n",
       "    </tr>\n",
       "  </tbody>\n",
       "</table>\n",
       "</div>"
      ],
      "text/plain": [
       "              precision    recall  f1-score      support\n",
       "RocketLeague   0.681128  0.887006  0.770552   354.000000\n",
       "boardgames     0.859375  0.689655  0.765217   319.000000\n",
       "accuracy       0.743891  0.743891  0.743891     0.743891\n",
       "macro avg      0.760778  0.741744  0.742614  1023.000000\n",
       "weighted avg   0.757478  0.743891  0.742039  1023.000000\n",
       "Fallout        0.741830  0.648571  0.692073   350.000000"
      ]
     },
     "execution_count": 23,
     "metadata": {},
     "output_type": "execute_result"
    }
   ],
   "source": [
    "#Get classification report, call function\n",
    "get_clf_report(y_test, y_pred)"
   ]
  },
  {
   "cell_type": "code",
   "execution_count": 24,
   "metadata": {},
   "outputs": [],
   "source": [
    "# Save confusion matrix values\n",
    "cm = confusion_matrix(y_test, y_pred)"
   ]
  },
  {
   "cell_type": "code",
   "execution_count": 25,
   "metadata": {},
   "outputs": [
    {
     "data": {
      "image/png": "[encoded data removed]",
      "text/plain": [
       "<Figure size 432x288 with 2 Axes>"
      ]
     },
     "metadata": {
      "needs_background": "light"
     },
     "output_type": "display_data"
    }
   ],
   "source": [
    "ConfusionMatrixDisplay(cm).plot();"
   ]
  },
  {
   "cell_type": "markdown",
   "metadata": {},
   "source": [
    "### Summary\n",
    "\n",
    "** After iterating through hyper parameters and the best params have found to be:\n",
    "{'C': 0.5263631578947369, 'degree': 2, 'gamma': 'scale', 'kernel': 'linear'}\n",
    "\n",
    "Looking at the train and test scores: \n",
    "Accuracy score on Train Data: 0.9722946544980443\n",
    "Accuracy score on Test Data: 0.7438905180840665\n",
    "The model is found to be way overfit. Train score was great but test score performed very poorly.\n",
    "\n",
    "The accuracy score for model is at 74%, the precision only shows 85% for boardgames, 68% for RocketLeague, 74% for Fallout sub reddits.\n",
    "\n",
    "\n",
    "|---|precision|recall|f1-score|support|\n",
    "|---|---|---|---|---|\n",
    "|RocketLeague|0.681128|0.887006|0.770552|354.000000\n",
    "|boardgames|0.859375|0.689655|0.765217|319.000000\n",
    "|Fallout|0.741830|0.648571|0.692073|350.000000\n",
    "\n"
   ]
  },
  {
   "cell_type": "markdown",
   "metadata": {},
   "source": [
    "### Part 4 : MultinomialNB Classifier with GridSearchCV/Pipeline/TfidfVectorizer"
   ]
  },
  {
   "cell_type": "code",
   "execution_count": 26,
   "metadata": {},
   "outputs": [],
   "source": [
    "# call function to get train_test_split\n",
    "X_train, X_test, y_train, y_test = tt_split()"
   ]
  },
  {
   "cell_type": "code",
   "execution_count": 27,
   "metadata": {},
   "outputs": [],
   "source": [
    "#set the pipeline for tfdif and MiltinomialNB\n",
    "pipe = Pipeline([\n",
    "    ('tvec', TfidfVectorizer()),\n",
    "    ('nb', MultinomialNB())\n",
    "])\n",
    "#include tdiff vector params\n",
    "pipe_params = {\n",
    "    'tvec__max_features':[2_000, 3_000, 4_000],\n",
    "    'tvec__stop_words':[stop_words],\n",
    "    'tvec__ngram_range':[(1,2)]\n",
    "}\n"
   ]
  },
  {
   "cell_type": "code",
   "execution_count": 28,
   "metadata": {},
   "outputs": [],
   "source": [
    "#Instantiate GridSearchCV\n",
    "gs_tvec = GridSearchCV(pipe, param_grid = pipe_params, cv=5)"
   ]
  },
  {
   "cell_type": "code",
   "execution_count": 29,
   "metadata": {},
   "outputs": [
    {
     "data": {
      "text/plain": [
       "GridSearchCV(cv=5,\n",
       "             estimator=Pipeline(steps=[('tvec', TfidfVectorizer()),\n",
       "                                       ('nb', MultinomialNB())]),\n",
       "             param_grid={'tvec__max_features': [2000, 3000, 4000],\n",
       "                         'tvec__ngram_range': [(1, 2)],\n",
       "                         'tvec__stop_words': [frozenset({'a', 'about', 'above',\n",
       "                                                         'across', 'after',\n",
       "                                                         'afterwards', 'again',\n",
       "                                                         'against', 'all',\n",
       "                                                         'almost', 'alone',\n",
       "                                                         'along', 'already',\n",
       "                                                         'also', 'although',\n",
       "                                                         'always', 'am',\n",
       "                                                         'among', 'amongst',\n",
       "                                                         'amoungst', 'amount',\n",
       "                                                         'amp', 'an', 'and',\n",
       "                                                         'another', 'any',\n",
       "                                                         'anyhow', 'anyone',\n",
       "                                                         'anything', 'anyway', ...})]})"
      ]
     },
     "execution_count": 29,
     "metadata": {},
     "output_type": "execute_result"
    }
   ],
   "source": [
    "#Fit with GridSearchCV\n",
    "gs_tvec.fit(X_train, y_train)"
   ]
  },
  {
   "cell_type": "code",
   "execution_count": 30,
   "metadata": {},
   "outputs": [
    {
     "data": {
      "text/plain": [
       "{'tvec__max_features': 4000,\n",
       " 'tvec__ngram_range': (1, 2),\n",
       " 'tvec__stop_words': frozenset({'a',\n",
       "            'about',\n",
       "            'above',\n",
       "            'across',\n",
       "            'after',\n",
       "            'afterwards',\n",
       "            'again',\n",
       "            'against',\n",
       "            'all',\n",
       "            'almost',\n",
       "            'alone',\n",
       "            'along',\n",
       "            'already',\n",
       "            'also',\n",
       "            'although',\n",
       "            'always',\n",
       "            'am',\n",
       "            'among',\n",
       "            'amongst',\n",
       "            'amoungst',\n",
       "            'amount',\n",
       "            'amp',\n",
       "            'an',\n",
       "            'and',\n",
       "            'another',\n",
       "            'any',\n",
       "            'anyhow',\n",
       "            'anyone',\n",
       "            'anything',\n",
       "            'anyway',\n",
       "            'anywhere',\n",
       "            'are',\n",
       "            'around',\n",
       "            'as',\n",
       "            'at',\n",
       "            'auto',\n",
       "            'back',\n",
       "            'be',\n",
       "            'became',\n",
       "            'because',\n",
       "            'become',\n",
       "            'becomes',\n",
       "            'becoming',\n",
       "            'been',\n",
       "            'before',\n",
       "            'beforehand',\n",
       "            'behind',\n",
       "            'being',\n",
       "            'below',\n",
       "            'beside',\n",
       "            'besides',\n",
       "            'between',\n",
       "            'beyond',\n",
       "            'bill',\n",
       "            'board',\n",
       "            'both',\n",
       "            'bottom',\n",
       "            'but',\n",
       "            'by',\n",
       "            'call',\n",
       "            'can',\n",
       "            'cannot',\n",
       "            'cant',\n",
       "            'card',\n",
       "            'co',\n",
       "            'con',\n",
       "            'could',\n",
       "            'couldnt',\n",
       "            'cry',\n",
       "            'de',\n",
       "            'describe',\n",
       "            'detail',\n",
       "            'do',\n",
       "            'does',\n",
       "            'don',\n",
       "            'done',\n",
       "            'dont',\n",
       "            'down',\n",
       "            'due',\n",
       "            'during',\n",
       "            'each',\n",
       "            'eg',\n",
       "            'eight',\n",
       "            'either',\n",
       "            'eleven',\n",
       "            'else',\n",
       "            'elsewhere',\n",
       "            'empty',\n",
       "            'enough',\n",
       "            'etc',\n",
       "            'even',\n",
       "            'ever',\n",
       "            'every',\n",
       "            'everyone',\n",
       "            'everything',\n",
       "            'everywhere',\n",
       "            'except',\n",
       "            'fallout',\n",
       "            'feel',\n",
       "            'feels',\n",
       "            'few',\n",
       "            'fifteen',\n",
       "            'fifty',\n",
       "            'fill',\n",
       "            'find',\n",
       "            'fire',\n",
       "            'first',\n",
       "            'five',\n",
       "            'for',\n",
       "            'format',\n",
       "            'former',\n",
       "            'formerly',\n",
       "            'forty',\n",
       "            'found',\n",
       "            'four',\n",
       "            'from',\n",
       "            'front',\n",
       "            'full',\n",
       "            'further',\n",
       "            'game',\n",
       "            'games',\n",
       "            'get',\n",
       "            'give',\n",
       "            'go',\n",
       "            'got',\n",
       "            'had',\n",
       "            'has',\n",
       "            'hasnt',\n",
       "            'have',\n",
       "            'he',\n",
       "            'hence',\n",
       "            'her',\n",
       "            'here',\n",
       "            'hereafter',\n",
       "            'hereby',\n",
       "            'herein',\n",
       "            'hereupon',\n",
       "            'hers',\n",
       "            'herself',\n",
       "            'him',\n",
       "            'himself',\n",
       "            'his',\n",
       "            'how',\n",
       "            'however',\n",
       "            'https',\n",
       "            'hundred',\n",
       "            'i',\n",
       "            'ie',\n",
       "            'if',\n",
       "            'in',\n",
       "            'inc',\n",
       "            'indeed',\n",
       "            'interest',\n",
       "            'into',\n",
       "            'is',\n",
       "            'it',\n",
       "            'its',\n",
       "            'itself',\n",
       "            'jpg',\n",
       "            'just',\n",
       "            'keep',\n",
       "            'know',\n",
       "            'last',\n",
       "            'latter',\n",
       "            'latterly',\n",
       "            'league',\n",
       "            'least',\n",
       "            'less',\n",
       "            'ltd',\n",
       "            'made',\n",
       "            'many',\n",
       "            'may',\n",
       "            'me',\n",
       "            'meanwhile',\n",
       "            'might',\n",
       "            'mill',\n",
       "            'mine',\n",
       "            'more',\n",
       "            'moreover',\n",
       "            'most',\n",
       "            'mostly',\n",
       "            'move',\n",
       "            'much',\n",
       "            'must',\n",
       "            'my',\n",
       "            'myself',\n",
       "            'na',\n",
       "            'name',\n",
       "            'namely',\n",
       "            'neither',\n",
       "            'never',\n",
       "            'nevertheless',\n",
       "            'new',\n",
       "            'next',\n",
       "            'nine',\n",
       "            'no',\n",
       "            'nobody',\n",
       "            'none',\n",
       "            'noone',\n",
       "            'nor',\n",
       "            'not',\n",
       "            'nothing',\n",
       "            'now',\n",
       "            'nowhere',\n",
       "            'of',\n",
       "            'off',\n",
       "            'often',\n",
       "            'on',\n",
       "            'once',\n",
       "            'one',\n",
       "            'only',\n",
       "            'onto',\n",
       "            'or',\n",
       "            'other',\n",
       "            'others',\n",
       "            'otherwise',\n",
       "            'our',\n",
       "            'ours',\n",
       "            'ourselves',\n",
       "            'out',\n",
       "            'over',\n",
       "            'own',\n",
       "            'part',\n",
       "            'people',\n",
       "            'per',\n",
       "            'perhaps',\n",
       "            'pjpg',\n",
       "            'play',\n",
       "            'played',\n",
       "            'player',\n",
       "            'players',\n",
       "            'playing',\n",
       "            'please',\n",
       "            'put',\n",
       "            'rather',\n",
       "            're',\n",
       "            'rocket',\n",
       "            'same',\n",
       "            'see',\n",
       "            'seem',\n",
       "            'seemed',\n",
       "            'seeming',\n",
       "            'seems',\n",
       "            'serious',\n",
       "            'several',\n",
       "            'she',\n",
       "            'should',\n",
       "            'show',\n",
       "            'side',\n",
       "            'since',\n",
       "            'sincere',\n",
       "            'six',\n",
       "            'sixty',\n",
       "            'so',\n",
       "            'some',\n",
       "            'somehow',\n",
       "            'someone',\n",
       "            'something',\n",
       "            'sometime',\n",
       "            'sometimes',\n",
       "            'somewhere',\n",
       "            'still',\n",
       "            'such',\n",
       "            'system',\n",
       "            'take',\n",
       "            'ten',\n",
       "            'than',\n",
       "            'thanks',\n",
       "            'that',\n",
       "            'the',\n",
       "            'their',\n",
       "            'them',\n",
       "            'themselves',\n",
       "            'then',\n",
       "            'thence',\n",
       "            'there',\n",
       "            'thereafter',\n",
       "            'thereby',\n",
       "            'therefore',\n",
       "            'therein',\n",
       "            'thereupon',\n",
       "            'these',\n",
       "            'they',\n",
       "            'thick',\n",
       "            'thin',\n",
       "            'think',\n",
       "            'third',\n",
       "            'this',\n",
       "            'those',\n",
       "            'though',\n",
       "            'three',\n",
       "            'through',\n",
       "            'throughout',\n",
       "            'thru',\n",
       "            'thus',\n",
       "            'to',\n",
       "            'together',\n",
       "            'too',\n",
       "            'top',\n",
       "            'toward',\n",
       "            'towards',\n",
       "            'twelve',\n",
       "            'twenty',\n",
       "            'two',\n",
       "            'un',\n",
       "            'under',\n",
       "            'until',\n",
       "            'up',\n",
       "            'upon',\n",
       "            'us',\n",
       "            've',\n",
       "            'very',\n",
       "            'via',\n",
       "            'wan',\n",
       "            'was',\n",
       "            'we',\n",
       "            'well',\n",
       "            'were',\n",
       "            'what',\n",
       "            'whatever',\n",
       "            'when',\n",
       "            'whence',\n",
       "            'whenever',\n",
       "            'where',\n",
       "            'whereafter',\n",
       "            'whereas',\n",
       "            'whereby',\n",
       "            'wherein',\n",
       "            'whereupon',\n",
       "            'wherever',\n",
       "            'whether',\n",
       "            'which',\n",
       "            'while',\n",
       "            'whither',\n",
       "            'who',\n",
       "            'whoever',\n",
       "            'whole',\n",
       "            'whom',\n",
       "            'whose',\n",
       "            'why',\n",
       "            'will',\n",
       "            'with',\n",
       "            'within',\n",
       "            'without',\n",
       "            'would',\n",
       "            'x200b',\n",
       "            'yet',\n",
       "            'you',\n",
       "            'your',\n",
       "            'yours',\n",
       "            'yourself',\n",
       "            'yourselves'})}"
      ]
     },
     "execution_count": 30,
     "metadata": {},
     "output_type": "execute_result"
    }
   ],
   "source": [
    "gs_tvec.best_params_"
   ]
  },
  {
   "cell_type": "code",
   "execution_count": 31,
   "metadata": {},
   "outputs": [
    {
     "name": "stdout",
     "output_type": "stream",
     "text": [
      "Accuracy score on Train Data: 0.8983050847457628\n",
      "Accuracy score on Test Data: 0.8064516129032258\n"
     ]
    }
   ],
   "source": [
    "#print our scores, call function\n",
    "print_scores (gs_tvec.score(X_train, y_train), gs_tvec.score(X_test, y_test))"
   ]
  },
  {
   "cell_type": "code",
   "execution_count": 32,
   "metadata": {},
   "outputs": [],
   "source": [
    "#Get predictions\n",
    "y_pred = gs_tvec.predict(X_test)"
   ]
  },
  {
   "cell_type": "code",
   "execution_count": 33,
   "metadata": {},
   "outputs": [
    {
     "data": {
      "text/html": [
       "<div>\n",
       "<style scoped>\n",
       "    .dataframe tbody tr th:only-of-type {\n",
       "        vertical-align: middle;\n",
       "    }\n",
       "\n",
       "    .dataframe tbody tr th {\n",
       "        vertical-align: top;\n",
       "    }\n",
       "\n",
       "    .dataframe thead th {\n",
       "        text-align: right;\n",
       "    }\n",
       "</style>\n",
       "<table border=\"1\" class=\"dataframe\">\n",
       "  <thead>\n",
       "    <tr style=\"text-align: right;\">\n",
       "      <th></th>\n",
       "      <th>precision</th>\n",
       "      <th>recall</th>\n",
       "      <th>f1-score</th>\n",
       "      <th>support</th>\n",
       "    </tr>\n",
       "  </thead>\n",
       "  <tbody>\n",
       "    <tr>\n",
       "      <th>boardgames</th>\n",
       "      <td>0.902098</td>\n",
       "      <td>0.808777</td>\n",
       "      <td>0.852893</td>\n",
       "      <td>319.000000</td>\n",
       "    </tr>\n",
       "    <tr>\n",
       "      <th>RocketLeague</th>\n",
       "      <td>0.762836</td>\n",
       "      <td>0.881356</td>\n",
       "      <td>0.817824</td>\n",
       "      <td>354.000000</td>\n",
       "    </tr>\n",
       "    <tr>\n",
       "      <th>macro avg</th>\n",
       "      <td>0.814124</td>\n",
       "      <td>0.806235</td>\n",
       "      <td>0.807643</td>\n",
       "      <td>1023.000000</td>\n",
       "    </tr>\n",
       "    <tr>\n",
       "      <th>accuracy</th>\n",
       "      <td>0.806452</td>\n",
       "      <td>0.806452</td>\n",
       "      <td>0.806452</td>\n",
       "      <td>0.806452</td>\n",
       "    </tr>\n",
       "    <tr>\n",
       "      <th>weighted avg</th>\n",
       "      <td>0.811258</td>\n",
       "      <td>0.806452</td>\n",
       "      <td>0.806312</td>\n",
       "      <td>1023.000000</td>\n",
       "    </tr>\n",
       "    <tr>\n",
       "      <th>Fallout</th>\n",
       "      <td>0.777439</td>\n",
       "      <td>0.728571</td>\n",
       "      <td>0.752212</td>\n",
       "      <td>350.000000</td>\n",
       "    </tr>\n",
       "  </tbody>\n",
       "</table>\n",
       "</div>"
      ],
      "text/plain": [
       "              precision    recall  f1-score      support\n",
       "boardgames     0.902098  0.808777  0.852893   319.000000\n",
       "RocketLeague   0.762836  0.881356  0.817824   354.000000\n",
       "macro avg      0.814124  0.806235  0.807643  1023.000000\n",
       "accuracy       0.806452  0.806452  0.806452     0.806452\n",
       "weighted avg   0.811258  0.806452  0.806312  1023.000000\n",
       "Fallout        0.777439  0.728571  0.752212   350.000000"
      ]
     },
     "execution_count": 33,
     "metadata": {},
     "output_type": "execute_result"
    }
   ],
   "source": [
    "#Get classification report, call function\n",
    "get_clf_report(y_test, y_pred)"
   ]
  },
  {
   "cell_type": "code",
   "execution_count": 38,
   "metadata": {},
   "outputs": [],
   "source": [
    "#creating pdf to check value counts for y_pred from our model\n",
    "y_df = pd.DataFrame({'xtest' : X_test, 'ypred': y_pred})\n"
   ]
  },
  {
   "cell_type": "code",
   "execution_count": 40,
   "metadata": {},
   "outputs": [
    {
     "data": {
      "text/plain": [
       "RocketLeague    0.399804\n",
       "Fallout         0.320626\n",
       "boardgames      0.279570\n",
       "Name: ypred, dtype: float64"
      ]
     },
     "execution_count": 40,
     "metadata": {},
     "output_type": "execute_result"
    }
   ],
   "source": [
    "#value counts for our prediction\n",
    "y_df['ypred'].value_counts(normalize=True)"
   ]
  },
  {
   "cell_type": "code",
   "execution_count": 34,
   "metadata": {},
   "outputs": [],
   "source": [
    "# Save confusion matrix values\n",
    "cm = confusion_matrix(y_test, y_pred)"
   ]
  },
  {
   "cell_type": "code",
   "execution_count": 35,
   "metadata": {},
   "outputs": [
    {
     "data": {
      "image/png": "[encoded data removed]",
      "text/plain": [
       "<Figure size 432x288 with 2 Axes>"
      ]
     },
     "metadata": {
      "needs_background": "light"
     },
     "output_type": "display_data"
    }
   ],
   "source": [
    "ConfusionMatrixDisplay(cm).plot();"
   ]
  },
  {
   "cell_type": "markdown",
   "metadata": {},
   "source": [
    "### Summary:\n",
    "\n",
    "Overall, MultinomialNB with TfidfVectorizer model performed better even though it was sligthly overfit. Ther model produced the scores as following:\n",
    "- Accuracy score on Train Data: 0.8983050847457628\n",
    "- Accuracy score on Test Data: 0.8064516129032258\n",
    "\n",
    "The accuracy score for the model is at 80.64%. \n",
    "\n",
    "|---|precision|recall|f1-score|support|\n",
    "|---|---|---|---|---|\n",
    "|boardgames|0.902098|0.808777|0.852893|319.00000|\n",
    "|RocketLeague|0.762836|0.881356|0.817824|354.000000|\n",
    "|Fallout|0.777439|0.728571|0.752212|350.000000|\n",
    "\n",
    "When compared to SVM classifier, this model performed with better precision score for boardgames topping at 90%."
   ]
  },
  {
   "cell_type": "markdown",
   "metadata": {},
   "source": [
    "******************************************End of Notebooks*****************************************"
   ]
  },
  {
   "cell_type": "code",
   "execution_count": null,
   "metadata": {},
   "outputs": [],
   "source": []
  }
 ],
 "metadata": {
  "kernelspec": {
   "display_name": "Python 3",
   "language": "python",
   "name": "python3"
  },
  "language_info": {
   "codemirror_mode": {
    "name": "ipython",
    "version": 3
   },
   "file_extension": ".py",
   "mimetype": "text/x-python",
   "name": "python",
   "nbconvert_exporter": "python",
   "pygments_lexer": "ipython3",
   "version": "3.8.5"
  }
 },
 "nbformat": 4,
 "nbformat_minor": 4
}
