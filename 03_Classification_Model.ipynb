{
 "cells": [
  {
   "cell_type": "markdown",
   "metadata": {},
   "source": [
    "<img src=\"http://imgur.com/1ZcRyrc.png\" style=\"float: left; margin: 20px; height: 55px\" />\n",
    "\n",
    "# # Project 3 : Web API and NLP - Classification Models and Final Summary"
   ]
  },
  {
   "cell_type": "markdown",
   "metadata": {},
   "source": [
    "## Overview:\n",
    "\n",
    "1. Since this is multi-classification problem, MultinomialNB and SVC models have been chosen that work best with multi classifier problems.\n",
    "2. Read csv that has been cleaned with NLP techniques and ready to be modeled\n",
    "3. Define X and y and get the train, test split from X and y\n",
    "4. Created first model using Naïve Bayes theorem, Multinomial with GridSearchCV Pipeline using CountVectorizer\n",
    "5. Create second model using SVM - support vector classifier with GridSearchCV/CountVectorizer and tuned hyper pararmeters."
   ]
  },
  {
   "cell_type": "markdown",
   "metadata": {},
   "source": [
    "## Part 1: Imports and Read"
   ]
  },
  {
   "cell_type": "code",
   "execution_count": 1,
   "metadata": {},
   "outputs": [],
   "source": [
    "#imports\n",
    "import pandas as pd\n",
    "import numpy as np\n",
    "\n",
    "from sklearn.model_selection import train_test_split, GridSearchCV\n",
    "from sklearn.naive_bayes import MultinomialNB\n",
    "from sklearn.feature_extraction.text import CountVectorizer, TfidfVectorizer\n",
    "from sklearn.pipeline import Pipeline\n",
    "from sklearn.metrics import confusion_matrix, ConfusionMatrixDisplay, classification_report\n",
    "from sklearn.svm import SVC"
   ]
  },
  {
   "cell_type": "code",
   "execution_count": 2,
   "metadata": {},
   "outputs": [
    {
     "data": {
      "text/html": [
       "<div>\n",
       "<style scoped>\n",
       "    .dataframe tbody tr th:only-of-type {\n",
       "        vertical-align: middle;\n",
       "    }\n",
       "\n",
       "    .dataframe tbody tr th {\n",
       "        vertical-align: top;\n",
       "    }\n",
       "\n",
       "    .dataframe thead th {\n",
       "        text-align: right;\n",
       "    }\n",
       "</style>\n",
       "<table border=\"1\" class=\"dataframe\">\n",
       "  <thead>\n",
       "    <tr style=\"text-align: right;\">\n",
       "      <th></th>\n",
       "      <th>subreddit</th>\n",
       "      <th>submission_text</th>\n",
       "    </tr>\n",
       "  </thead>\n",
       "  <tbody>\n",
       "    <tr>\n",
       "      <th>0</th>\n",
       "      <td>boardgames</td>\n",
       "      <td>['do', 'codenames', 'online']</td>\n",
       "    </tr>\n",
       "    <tr>\n",
       "      <th>1</th>\n",
       "      <td>boardgames</td>\n",
       "      <td>['i', 'was', 'reading', 'the', 'comments', 'on...</td>\n",
       "    </tr>\n",
       "    <tr>\n",
       "      <th>2</th>\n",
       "      <td>boardgames</td>\n",
       "      <td>['removed', 'golfer', 'joaquin', 'niemann', 'h...</td>\n",
       "    </tr>\n",
       "    <tr>\n",
       "      <th>3</th>\n",
       "      <td>boardgames</td>\n",
       "      <td>['is', 'it', 'possible', 'to', 'build', 'a', '...</td>\n",
       "    </tr>\n",
       "    <tr>\n",
       "      <th>4</th>\n",
       "      <td>boardgames</td>\n",
       "      <td>['welcome', 'to', 'r', 'boardgames', 's', 'dai...</td>\n",
       "    </tr>\n",
       "  </tbody>\n",
       "</table>\n",
       "</div>"
      ],
      "text/plain": [
       "    subreddit                                    submission_text\n",
       "0  boardgames                      ['do', 'codenames', 'online']\n",
       "1  boardgames  ['i', 'was', 'reading', 'the', 'comments', 'on...\n",
       "2  boardgames  ['removed', 'golfer', 'joaquin', 'niemann', 'h...\n",
       "3  boardgames  ['is', 'it', 'possible', 'to', 'build', 'a', '...\n",
       "4  boardgames  ['welcome', 'to', 'r', 'boardgames', 's', 'dai..."
      ]
     },
     "execution_count": 2,
     "metadata": {},
     "output_type": "execute_result"
    }
   ],
   "source": [
    "#read the csv\n",
    "reddit_df = pd.read_csv(\"datasets/redditready.csv\")\n",
    "reddit_df.head()"
   ]
  },
  {
   "cell_type": "code",
   "execution_count": 3,
   "metadata": {},
   "outputs": [
    {
     "data": {
      "text/plain": [
       "(4500, 2)"
      ]
     },
     "execution_count": 3,
     "metadata": {},
     "output_type": "execute_result"
    }
   ],
   "source": [
    "reddit_df.shape"
   ]
  },
  {
   "cell_type": "markdown",
   "metadata": {},
   "source": [
    "## Part 2: Create functions used most commonly"
   ]
  },
  {
   "cell_type": "code",
   "execution_count": 4,
   "metadata": {},
   "outputs": [],
   "source": [
    "#created functions for repeated tasks\n",
    "#resources: https://stackoverflow.com/questions/39662398/scikit-learn-output-metrics-classification-report-into-csv-tab-delimited-format'''\n",
    " \n",
    "# 1. train_test_split function, returns X and y train and test data\n",
    "def tt_split ():\n",
    "    \n",
    "    X = reddit_df['submission_text']\n",
    "    y = reddit_df['subreddit']\n",
    "\n",
    "    X_train, X_test, y_train, y_test=train_test_split(X, y, test_size=.25,\n",
    "                                                     stratify=y, random_state=42)\n",
    "    \n",
    "    return X_train, X_test, y_train, y_test\n",
    "\n",
    "#2. print accuracy scores in notebook\n",
    "def print_scores(acc_train_score, acc_test_score):\n",
    "    print(f'Accuracy score on Train Data: {acc_train_score}')\n",
    "    print(f'Accuracy score on Test Data: {acc_test_score}')\n",
    "    \n",
    "#3. print classification report in a dataframe for each model\n",
    "def get_clf_report(ytest, ypred):\n",
    "    \n",
    "    report = classification_report(ytest, ypred, output_dict=True)\n",
    "    #creating dataframe\n",
    "    df = pd.DataFrame(report).transpose()\n",
    "    #sorting by f1-score\n",
    "    df = df.sort_values(by=['f1-score'], ascending=False)\n",
    "    return df"
   ]
  },
  {
   "cell_type": "code",
   "execution_count": 5,
   "metadata": {},
   "outputs": [
    {
     "data": {
      "text/plain": [
       "Fallout         0.355556\n",
       "RocketLeague    0.333333\n",
       "boardgames      0.311111\n",
       "Name: subreddit, dtype: float64"
      ]
     },
     "execution_count": 5,
     "metadata": {},
     "output_type": "execute_result"
    }
   ],
   "source": [
    "#Getting the baseline for y_test\n",
    "X_train, X_test, y_train, y_test = tt_split()\n",
    "y_test.value_counts(normalize=True)"
   ]
  },
  {
   "cell_type": "markdown",
   "metadata": {},
   "source": [
    "### Summary:\n",
    "\n",
    "1. Created common functions above on train_test_split and print our scores\n",
    "2. Created the base line for y_test \n",
    "| Game category  | baseline  |\n",
    "|---|---|\n",
    "| Fallout |  0.355556 |\n",
    "| RocketLeague | 0.333333  |\n",
    "| boardgames | 0.311111 |\n"
   ]
  },
  {
   "cell_type": "markdown",
   "metadata": {},
   "source": [
    "### CountVectorize X Train to view the commonly used words"
   ]
  },
  {
   "cell_type": "code",
   "execution_count": 6,
   "metadata": {},
   "outputs": [],
   "source": [
    "#create CountVecotrizer to understand the most common text used\n",
    "X_train, X_test, y_train, y_test = tt_split()\n",
    "cvec = CountVectorizer(stop_words='english', \n",
    "                    ngram_range=(1,2),\n",
    "                    min_df=2\n",
    "                   )\n",
    "\n",
    "cvec.fit(X_train)\n",
    "X_train = cvec.transform(X_train)\n",
    "X_test = cvec.transform(X_test)"
   ]
  },
  {
   "cell_type": "code",
   "execution_count": 7,
   "metadata": {},
   "outputs": [
    {
     "data": {
      "text/plain": [
       "game       2506\n",
       "fallout    1248\n",
       "just       1109\n",
       "games      1100\n",
       "like       1028\n",
       "https       770\n",
       "new         715\n",
       "play        700\n",
       "com         611\n",
       "amp         565\n",
       "know        562\n",
       "ve          547\n",
       "board       505\n",
       "time        474\n",
       "good        418\n",
       "dtype: int64"
      ]
     },
     "execution_count": 7,
     "metadata": {},
     "output_type": "execute_result"
    }
   ],
   "source": [
    "#validate the most common words\n",
    "cvec_df = pd.DataFrame(X_train.todense(), columns = cvec.get_feature_names())\n",
    "\n",
    "cvec_df.sum().sort_values(ascending=False).head(15)"
   ]
  },
  {
   "cell_type": "markdown",
   "metadata": {},
   "source": [
    "## Part 2: MultinomialNB Classifier with GridSearchCV/Pipeline/CountVectorizer"
   ]
  },
  {
   "cell_type": "code",
   "execution_count": 8,
   "metadata": {},
   "outputs": [],
   "source": [
    "#calling ttsplit function to get test and train data\n",
    "X_train, X_test, y_train, y_test = tt_split()"
   ]
  },
  {
   "cell_type": "code",
   "execution_count": 9,
   "metadata": {},
   "outputs": [],
   "source": [
    "#Setup pipeline and params for our GridSearchCV\n",
    "pipe = Pipeline([('cvec', CountVectorizer()),\n",
    "                ('nb', MultinomialNB())\n",
    "                ])\n",
    "        \n",
    "pipe_params = {'cvec__max_features': [3_000, 4_000],\n",
    "               'cvec__min_df': [1, 2],\n",
    "               'cvec__max_df': [.85, .9, .95],\n",
    "               'cvec__ngram_range': [(1,1), (1,2)]\n",
    "                }\n",
    "\n",
    "#initiate GridSearchCV\n",
    "gs = GridSearchCV(estimator=pipe, param_grid=pipe_params, cv=5)"
   ]
  },
  {
   "cell_type": "code",
   "execution_count": 10,
   "metadata": {},
   "outputs": [
    {
     "data": {
      "text/plain": [
       "GridSearchCV(cv=5,\n",
       "             estimator=Pipeline(steps=[('cvec', CountVectorizer()),\n",
       "                                       ('nb', MultinomialNB())]),\n",
       "             param_grid={'cvec__max_df': [0.85, 0.9, 0.95],\n",
       "                         'cvec__max_features': [3000, 4000],\n",
       "                         'cvec__min_df': [1, 2],\n",
       "                         'cvec__ngram_range': [(1, 1), (1, 2)]})"
      ]
     },
     "execution_count": 10,
     "metadata": {},
     "output_type": "execute_result"
    }
   ],
   "source": [
    "# Fit the train data\n",
    "gs.fit(X_train, y_train)"
   ]
  },
  {
   "cell_type": "code",
   "execution_count": 11,
   "metadata": {},
   "outputs": [
    {
     "data": {
      "text/plain": [
       "{'cvec__max_df': 0.85,\n",
       " 'cvec__max_features': 4000,\n",
       " 'cvec__min_df': 1,\n",
       " 'cvec__ngram_range': (1, 1)}"
      ]
     },
     "execution_count": 11,
     "metadata": {},
     "output_type": "execute_result"
    }
   ],
   "source": [
    "gs.best_params_"
   ]
  },
  {
   "cell_type": "code",
   "execution_count": 12,
   "metadata": {},
   "outputs": [
    {
     "name": "stdout",
     "output_type": "stream",
     "text": [
      "Accuracy score on Train Data: 0.9457777777777778\n",
      "Accuracy score on Test Data: 0.9262222222222222\n"
     ]
    }
   ],
   "source": [
    "#print our scores, call function\n",
    "print_scores (gs.score(X_train, y_train), gs.score(X_test, y_test))"
   ]
  },
  {
   "cell_type": "code",
   "execution_count": 13,
   "metadata": {},
   "outputs": [],
   "source": [
    "#Get predictions\n",
    "y_pred = gs.predict(X_test)"
   ]
  },
  {
   "cell_type": "code",
   "execution_count": 14,
   "metadata": {},
   "outputs": [
    {
     "data": {
      "text/html": [
       "<div>\n",
       "<style scoped>\n",
       "    .dataframe tbody tr th:only-of-type {\n",
       "        vertical-align: middle;\n",
       "    }\n",
       "\n",
       "    .dataframe tbody tr th {\n",
       "        vertical-align: top;\n",
       "    }\n",
       "\n",
       "    .dataframe thead th {\n",
       "        text-align: right;\n",
       "    }\n",
       "</style>\n",
       "<table border=\"1\" class=\"dataframe\">\n",
       "  <thead>\n",
       "    <tr style=\"text-align: right;\">\n",
       "      <th></th>\n",
       "      <th>precision</th>\n",
       "      <th>recall</th>\n",
       "      <th>f1-score</th>\n",
       "      <th>support</th>\n",
       "    </tr>\n",
       "  </thead>\n",
       "  <tbody>\n",
       "    <tr>\n",
       "      <th>Fallout</th>\n",
       "      <td>0.941772</td>\n",
       "      <td>0.930000</td>\n",
       "      <td>0.935849</td>\n",
       "      <td>400.000000</td>\n",
       "    </tr>\n",
       "    <tr>\n",
       "      <th>RocketLeague</th>\n",
       "      <td>0.901763</td>\n",
       "      <td>0.954667</td>\n",
       "      <td>0.927461</td>\n",
       "      <td>375.000000</td>\n",
       "    </tr>\n",
       "    <tr>\n",
       "      <th>accuracy</th>\n",
       "      <td>0.926222</td>\n",
       "      <td>0.926222</td>\n",
       "      <td>0.926222</td>\n",
       "      <td>0.926222</td>\n",
       "    </tr>\n",
       "    <tr>\n",
       "      <th>weighted avg</th>\n",
       "      <td>0.926932</td>\n",
       "      <td>0.926222</td>\n",
       "      <td>0.926136</td>\n",
       "      <td>1125.000000</td>\n",
       "    </tr>\n",
       "    <tr>\n",
       "      <th>macro avg</th>\n",
       "      <td>0.926824</td>\n",
       "      <td>0.925365</td>\n",
       "      <td>0.925642</td>\n",
       "      <td>1125.000000</td>\n",
       "    </tr>\n",
       "    <tr>\n",
       "      <th>boardgames</th>\n",
       "      <td>0.936937</td>\n",
       "      <td>0.891429</td>\n",
       "      <td>0.913616</td>\n",
       "      <td>350.000000</td>\n",
       "    </tr>\n",
       "  </tbody>\n",
       "</table>\n",
       "</div>"
      ],
      "text/plain": [
       "              precision    recall  f1-score      support\n",
       "Fallout        0.941772  0.930000  0.935849   400.000000\n",
       "RocketLeague   0.901763  0.954667  0.927461   375.000000\n",
       "accuracy       0.926222  0.926222  0.926222     0.926222\n",
       "weighted avg   0.926932  0.926222  0.926136  1125.000000\n",
       "macro avg      0.926824  0.925365  0.925642  1125.000000\n",
       "boardgames     0.936937  0.891429  0.913616   350.000000"
      ]
     },
     "execution_count": 14,
     "metadata": {},
     "output_type": "execute_result"
    }
   ],
   "source": [
    "#Get classification report, call function\n",
    "get_clf_report(y_test, y_pred)"
   ]
  },
  {
   "cell_type": "code",
   "execution_count": 15,
   "metadata": {},
   "outputs": [],
   "source": [
    "# Save confusion matrix values\n",
    "cm = confusion_matrix(y_test, y_pred)"
   ]
  },
  {
   "cell_type": "code",
   "execution_count": 16,
   "metadata": {},
   "outputs": [
    {
     "data": {
      "image/png": "[encoded data removed]",
      "text/plain": [
       "<Figure size 432x288 with 2 Axes>"
      ]
     },
     "metadata": {
      "needs_background": "light"
     },
     "output_type": "display_data"
    }
   ],
   "source": [
    "ConfusionMatrixDisplay(cm).plot();"
   ]
  },
  {
   "cell_type": "markdown",
   "metadata": {},
   "source": [
    "### Summary\n",
    "\n",
    "**Best hyper parameters for MultinomialNB are:**\n",
    "\n",
    "1. max_df = 0.85\n",
    "2. max_features = 4000\n",
    "3. min_df = 2\n",
    "4. ngram_range = (1, 1)"
   ]
  },
  {
   "cell_type": "markdown",
   "metadata": {},
   "source": [
    "## Part 3: Support Vector Machine Model with hyper parameters"
   ]
  },
  {
   "cell_type": "code",
   "execution_count": 17,
   "metadata": {},
   "outputs": [],
   "source": [
    "# call function to get train_test_split\n",
    "X_train, X_test, y_train, y_test = tt_split()"
   ]
  },
  {
   "cell_type": "code",
   "execution_count": 18,
   "metadata": {},
   "outputs": [],
   "source": [
    "cvec = CountVectorizer(stop_words='english', \n",
    "                    ngram_range=(1,2),\n",
    "                    min_df=2\n",
    "                   )\n",
    "\n",
    "cvec.fit(X_train)\n",
    "X_train = cvec.transform(X_train)\n",
    "X_test = cvec.transform(X_test)"
   ]
  },
  {
   "cell_type": "code",
   "execution_count": 19,
   "metadata": {},
   "outputs": [],
   "source": [
    "# best hyper parameters\n",
    "# {'C': 0.4737368421052632, 'degree': 2, 'gamma': 'scale', 'kernel': 'linear'}\n",
    "pipe_params = {\n",
    "    'C': np.linspace(0.0001, 1, 20),\n",
    "    'kernel': ['linear', 'rbf'],\n",
    "    'degree': [2],\n",
    "    'gamma' : ['scale']\n",
    "}\n",
    "# #instantiate support vector classifier\n",
    "svc = SVC()\n",
    "# #instantiate GridSearchCV with njobs=8\n",
    "gs = GridSearchCV(estimator=svc, param_grid = pipe_params, n_jobs=8, verbose=1)"
   ]
  },
  {
   "cell_type": "code",
   "execution_count": 20,
   "metadata": {},
   "outputs": [
    {
     "name": "stdout",
     "output_type": "stream",
     "text": [
      "Fitting 5 folds for each of 40 candidates, totalling 200 fits\n"
     ]
    },
    {
     "name": "stderr",
     "output_type": "stream",
     "text": [
      "[Parallel(n_jobs=8)]: Using backend LokyBackend with 8 concurrent workers.\n",
      "[Parallel(n_jobs=8)]: Done  34 tasks      | elapsed:   25.7s\n",
      "[Parallel(n_jobs=8)]: Done 184 tasks      | elapsed:  1.6min\n",
      "[Parallel(n_jobs=8)]: Done 200 out of 200 | elapsed:  1.7min finished\n"
     ]
    },
    {
     "data": {
      "text/plain": [
       "GridSearchCV(estimator=SVC(), n_jobs=8,\n",
       "             param_grid={'C': array([1.00000000e-04, 5.27263158e-02, 1.05352632e-01, 1.57978947e-01,\n",
       "       2.10605263e-01, 2.63231579e-01, 3.15857895e-01, 3.68484211e-01,\n",
       "       4.21110526e-01, 4.73736842e-01, 5.26363158e-01, 5.78989474e-01,\n",
       "       6.31615789e-01, 6.84242105e-01, 7.36868421e-01, 7.89494737e-01,\n",
       "       8.42121053e-01, 8.94747368e-01, 9.47373684e-01, 1.00000000e+00]),\n",
       "                         'degree': [2], 'gamma': ['scale'],\n",
       "                         'kernel': ['linear', 'rbf']},\n",
       "             verbose=1)"
      ]
     },
     "execution_count": 20,
     "metadata": {},
     "output_type": "execute_result"
    }
   ],
   "source": [
    "#fit Train data to our model\n",
    "gs.fit(X_train,y_train) #commented as we dont need to run"
   ]
  },
  {
   "cell_type": "code",
   "execution_count": 21,
   "metadata": {},
   "outputs": [
    {
     "data": {
      "text/plain": [
       "{'C': 0.4737368421052632, 'degree': 2, 'gamma': 'scale', 'kernel': 'linear'}"
      ]
     },
     "execution_count": 21,
     "metadata": {},
     "output_type": "execute_result"
    }
   ],
   "source": [
    "gs.best_params_"
   ]
  },
  {
   "cell_type": "code",
   "execution_count": 22,
   "metadata": {},
   "outputs": [
    {
     "name": "stdout",
     "output_type": "stream",
     "text": [
      "Accuracy score on Train Data: 0.9893333333333333\n",
      "Accuracy score on Test Data: 0.8613333333333333\n"
     ]
    }
   ],
   "source": [
    "#print our scores, call function\n",
    "print_scores (gs.score(X_train, y_train), gs.score(X_test, y_test))"
   ]
  },
  {
   "cell_type": "code",
   "execution_count": 23,
   "metadata": {},
   "outputs": [],
   "source": [
    "#Get predictions\n",
    "y_pred = gs.predict(X_test)"
   ]
  },
  {
   "cell_type": "code",
   "execution_count": 24,
   "metadata": {},
   "outputs": [
    {
     "data": {
      "text/html": [
       "<div>\n",
       "<style scoped>\n",
       "    .dataframe tbody tr th:only-of-type {\n",
       "        vertical-align: middle;\n",
       "    }\n",
       "\n",
       "    .dataframe tbody tr th {\n",
       "        vertical-align: top;\n",
       "    }\n",
       "\n",
       "    .dataframe thead th {\n",
       "        text-align: right;\n",
       "    }\n",
       "</style>\n",
       "<table border=\"1\" class=\"dataframe\">\n",
       "  <thead>\n",
       "    <tr style=\"text-align: right;\">\n",
       "      <th></th>\n",
       "      <th>precision</th>\n",
       "      <th>recall</th>\n",
       "      <th>f1-score</th>\n",
       "      <th>support</th>\n",
       "    </tr>\n",
       "  </thead>\n",
       "  <tbody>\n",
       "    <tr>\n",
       "      <th>Fallout</th>\n",
       "      <td>0.885496</td>\n",
       "      <td>0.870000</td>\n",
       "      <td>0.877680</td>\n",
       "      <td>400.000000</td>\n",
       "    </tr>\n",
       "    <tr>\n",
       "      <th>weighted avg</th>\n",
       "      <td>0.864533</td>\n",
       "      <td>0.861333</td>\n",
       "      <td>0.861371</td>\n",
       "      <td>1125.000000</td>\n",
       "    </tr>\n",
       "    <tr>\n",
       "      <th>accuracy</th>\n",
       "      <td>0.861333</td>\n",
       "      <td>0.861333</td>\n",
       "      <td>0.861333</td>\n",
       "      <td>0.861333</td>\n",
       "    </tr>\n",
       "    <tr>\n",
       "      <th>macro avg</th>\n",
       "      <td>0.864820</td>\n",
       "      <td>0.859968</td>\n",
       "      <td>0.860781</td>\n",
       "      <td>1125.000000</td>\n",
       "    </tr>\n",
       "    <tr>\n",
       "      <th>RocketLeague</th>\n",
       "      <td>0.810552</td>\n",
       "      <td>0.901333</td>\n",
       "      <td>0.853535</td>\n",
       "      <td>375.000000</td>\n",
       "    </tr>\n",
       "    <tr>\n",
       "      <th>boardgames</th>\n",
       "      <td>0.898413</td>\n",
       "      <td>0.808571</td>\n",
       "      <td>0.851128</td>\n",
       "      <td>350.000000</td>\n",
       "    </tr>\n",
       "  </tbody>\n",
       "</table>\n",
       "</div>"
      ],
      "text/plain": [
       "              precision    recall  f1-score      support\n",
       "Fallout        0.885496  0.870000  0.877680   400.000000\n",
       "weighted avg   0.864533  0.861333  0.861371  1125.000000\n",
       "accuracy       0.861333  0.861333  0.861333     0.861333\n",
       "macro avg      0.864820  0.859968  0.860781  1125.000000\n",
       "RocketLeague   0.810552  0.901333  0.853535   375.000000\n",
       "boardgames     0.898413  0.808571  0.851128   350.000000"
      ]
     },
     "execution_count": 24,
     "metadata": {},
     "output_type": "execute_result"
    }
   ],
   "source": [
    "#Get classification report, call function\n",
    "get_clf_report(y_test, y_pred)"
   ]
  },
  {
   "cell_type": "code",
   "execution_count": 25,
   "metadata": {},
   "outputs": [],
   "source": [
    "# Save confusion matrix values\n",
    "cm = confusion_matrix(y_test, y_pred)"
   ]
  },
  {
   "cell_type": "code",
   "execution_count": 26,
   "metadata": {},
   "outputs": [
    {
     "data": {
      "image/png": "[encoded data removed]",
      "text/plain": [
       "<Figure size 432x288 with 2 Axes>"
      ]
     },
     "metadata": {
      "needs_background": "light"
     },
     "output_type": "display_data"
    }
   ],
   "source": [
    "ConfusionMatrixDisplay(cm).plot();"
   ]
  },
  {
   "cell_type": "markdown",
   "metadata": {},
   "source": [
    "### Summary\n",
    "\n",
    "** After iterating through hyper parameters, the best parameters identified for SVM model are **\n",
    "1. C value = 0.4737368421052632\n",
    "2. kernel = linear\n",
    "3. degree = 2\n",
    "4. gamma = scale\n"
   ]
  },
  {
   "cell_type": "markdown",
   "metadata": {},
   "source": [
    "### Part Not used: GridSearchCV with MultinomialNB algorithm and TfidfVectorizer"
   ]
  },
  {
   "cell_type": "code",
   "execution_count": 27,
   "metadata": {},
   "outputs": [],
   "source": [
    "# call function to get train_test_split\n",
    "X_train, X_test, y_train, y_test = tt_split()"
   ]
  },
  {
   "cell_type": "code",
   "execution_count": 28,
   "metadata": {},
   "outputs": [],
   "source": [
    "#set the pipeline for tfdif and MiltinomialNB\n",
    "pipe = Pipeline([\n",
    "    ('tvec', TfidfVectorizer()),\n",
    "    ('nb', MultinomialNB())\n",
    "])\n",
    "#include tdiff vector params\n",
    "pipe_params = {\n",
    "    'tvec__max_features':[2_000, 3_000, 4_000],\n",
    "    'tvec__stop_words':['english'],\n",
    "    'tvec__ngram_range':[(1,2)]\n",
    "}\n",
    "# 'tvec__max_features': 3000,\n",
    "#  'tvec__ngram_range': (1, 1),\n",
    "#  'tvec__stop_words': None}"
   ]
  },
  {
   "cell_type": "code",
   "execution_count": 29,
   "metadata": {},
   "outputs": [],
   "source": [
    "#Instantiate GridSearchCV\n",
    "gs_tvec = GridSearchCV(pipe, param_grid = pipe_params, cv=5)"
   ]
  },
  {
   "cell_type": "code",
   "execution_count": 30,
   "metadata": {},
   "outputs": [
    {
     "data": {
      "text/plain": [
       "GridSearchCV(cv=5,\n",
       "             estimator=Pipeline(steps=[('tvec', TfidfVectorizer()),\n",
       "                                       ('nb', MultinomialNB())]),\n",
       "             param_grid={'tvec__max_features': [2000, 3000, 4000],\n",
       "                         'tvec__ngram_range': [(1, 2)],\n",
       "                         'tvec__stop_words': ['english']})"
      ]
     },
     "execution_count": 30,
     "metadata": {},
     "output_type": "execute_result"
    }
   ],
   "source": [
    "#Fit with GridSearchCV\n",
    "gs_tvec.fit(X_train, y_train)"
   ]
  },
  {
   "cell_type": "code",
   "execution_count": 31,
   "metadata": {},
   "outputs": [
    {
     "data": {
      "text/plain": [
       "{'tvec__max_features': 4000,\n",
       " 'tvec__ngram_range': (1, 2),\n",
       " 'tvec__stop_words': 'english'}"
      ]
     },
     "execution_count": 31,
     "metadata": {},
     "output_type": "execute_result"
    }
   ],
   "source": [
    "gs_tvec.best_params_"
   ]
  },
  {
   "cell_type": "code",
   "execution_count": 32,
   "metadata": {},
   "outputs": [
    {
     "name": "stdout",
     "output_type": "stream",
     "text": [
      "Accuracy score on Train Data: 0.9460740740740741\n",
      "Accuracy score on Test Data: 0.8933333333333333\n"
     ]
    }
   ],
   "source": [
    "#print our scores, call function\n",
    "print_scores (gs_tvec.score(X_train, y_train), gs_tvec.score(X_test, y_test))"
   ]
  },
  {
   "cell_type": "code",
   "execution_count": 33,
   "metadata": {},
   "outputs": [],
   "source": [
    "#Get predictions\n",
    "y_pred = gs_tvec.predict(X_test)"
   ]
  },
  {
   "cell_type": "code",
   "execution_count": 34,
   "metadata": {},
   "outputs": [
    {
     "data": {
      "text/html": [
       "<div>\n",
       "<style scoped>\n",
       "    .dataframe tbody tr th:only-of-type {\n",
       "        vertical-align: middle;\n",
       "    }\n",
       "\n",
       "    .dataframe tbody tr th {\n",
       "        vertical-align: top;\n",
       "    }\n",
       "\n",
       "    .dataframe thead th {\n",
       "        text-align: right;\n",
       "    }\n",
       "</style>\n",
       "<table border=\"1\" class=\"dataframe\">\n",
       "  <thead>\n",
       "    <tr style=\"text-align: right;\">\n",
       "      <th></th>\n",
       "      <th>precision</th>\n",
       "      <th>recall</th>\n",
       "      <th>f1-score</th>\n",
       "      <th>support</th>\n",
       "    </tr>\n",
       "  </thead>\n",
       "  <tbody>\n",
       "    <tr>\n",
       "      <th>boardgames</th>\n",
       "      <td>0.937313</td>\n",
       "      <td>0.897143</td>\n",
       "      <td>0.916788</td>\n",
       "      <td>350.000000</td>\n",
       "    </tr>\n",
       "    <tr>\n",
       "      <th>macro avg</th>\n",
       "      <td>0.903102</td>\n",
       "      <td>0.891825</td>\n",
       "      <td>0.893790</td>\n",
       "      <td>1125.000000</td>\n",
       "    </tr>\n",
       "    <tr>\n",
       "      <th>accuracy</th>\n",
       "      <td>0.893333</td>\n",
       "      <td>0.893333</td>\n",
       "      <td>0.893333</td>\n",
       "      <td>0.893333</td>\n",
       "    </tr>\n",
       "    <tr>\n",
       "      <th>weighted avg</th>\n",
       "      <td>0.900601</td>\n",
       "      <td>0.893333</td>\n",
       "      <td>0.893181</td>\n",
       "      <td>1125.000000</td>\n",
       "    </tr>\n",
       "    <tr>\n",
       "      <th>Fallout</th>\n",
       "      <td>0.824786</td>\n",
       "      <td>0.965000</td>\n",
       "      <td>0.889401</td>\n",
       "      <td>400.000000</td>\n",
       "    </tr>\n",
       "    <tr>\n",
       "      <th>RocketLeague</th>\n",
       "      <td>0.947205</td>\n",
       "      <td>0.813333</td>\n",
       "      <td>0.875179</td>\n",
       "      <td>375.000000</td>\n",
       "    </tr>\n",
       "  </tbody>\n",
       "</table>\n",
       "</div>"
      ],
      "text/plain": [
       "              precision    recall  f1-score      support\n",
       "boardgames     0.937313  0.897143  0.916788   350.000000\n",
       "macro avg      0.903102  0.891825  0.893790  1125.000000\n",
       "accuracy       0.893333  0.893333  0.893333     0.893333\n",
       "weighted avg   0.900601  0.893333  0.893181  1125.000000\n",
       "Fallout        0.824786  0.965000  0.889401   400.000000\n",
       "RocketLeague   0.947205  0.813333  0.875179   375.000000"
      ]
     },
     "execution_count": 34,
     "metadata": {},
     "output_type": "execute_result"
    }
   ],
   "source": [
    "#Get classification report, call function\n",
    "get_clf_report(y_test, y_pred)"
   ]
  },
  {
   "cell_type": "code",
   "execution_count": 35,
   "metadata": {},
   "outputs": [],
   "source": [
    "# Save confusion matrix values\n",
    "cm = confusion_matrix(y_test, y_pred)"
   ]
  },
  {
   "cell_type": "code",
   "execution_count": 36,
   "metadata": {},
   "outputs": [
    {
     "data": {
      "image/png": "[encoded data removed]",
      "text/plain": [
       "<Figure size 432x288 with 2 Axes>"
      ]
     },
     "metadata": {
      "needs_background": "light"
     },
     "output_type": "display_data"
    }
   ],
   "source": [
    "ConfusionMatrixDisplay(cm).plot();"
   ]
  },
  {
   "cell_type": "code",
   "execution_count": null,
   "metadata": {},
   "outputs": [],
   "source": []
  }
 ],
 "metadata": {
  "kernelspec": {
   "display_name": "Python 3",
   "language": "python",
   "name": "python3"
  },
  "language_info": {
   "codemirror_mode": {
    "name": "ipython",
    "version": 3
   },
   "file_extension": ".py",
   "mimetype": "text/x-python",
   "name": "python",
   "nbconvert_exporter": "python",
   "pygments_lexer": "ipython3",
   "version": "3.8.5"
  }
 },
 "nbformat": 4,
 "nbformat_minor": 4
}
